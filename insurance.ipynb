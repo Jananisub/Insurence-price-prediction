{
 "cells": [
  {
   "cell_type": "markdown",
   "id": "b6a9879d",
   "metadata": {},
   "source": [
    "# Insurence price prediction\n",
    "This project is to allows a person to get an idea about the\n",
    "necessary amount required according to their own health status. Later they\n",
    "can comply with any health insurance company and their schemes &\n",
    "benefits keeping in mind the predicted amount from our project"
   ]
  },
  {
   "cell_type": "markdown",
   "id": "bb7d588d",
   "metadata": {},
   "source": [
    "# The Attributess include:\n",
    "Age: age of the person\n",
    "\n",
    "Sex: Gender of the person [Male,Female]\n",
    "\n",
    "Bmi:Bmi of the person\n",
    "\n",
    "Smoker:whether the person is smoker or not [yes,no]\n",
    "\n",
    "children:how many children they have\n",
    "\n",
    "Region:region the person[southeast,\n",
    "southwest,\n",
    "northwest,\n",
    "northeast]\n",
    "\n",
    "Charges:charges for the person"
   ]
  },
  {
   "cell_type": "markdown",
   "id": "d3cb2bb7",
   "metadata": {},
   "source": [
    "# Importing Necessary Libraries"
   ]
  },
  {
   "cell_type": "code",
   "execution_count": 1,
   "id": "ac9d8944",
   "metadata": {},
   "outputs": [],
   "source": [
    "import pandas as pd\n",
    "import seaborn as sns\n",
    "import numpy as np\n",
    "import seaborn as sns\n",
    "import matplotlib.pyplot as plt\n",
    "from sklearn.model_selection import train_test_split\n",
    "from sklearn.linear_model import LinearRegression"
   ]
  },
  {
   "cell_type": "code",
   "execution_count": 2,
   "id": "0125a03e",
   "metadata": {},
   "outputs": [],
   "source": [
    "#loading the data\n",
    "\n",
    "data=pd.read_csv(\"C:/Users/DELL LYF/Documents/insurance.csv\")"
   ]
  },
  {
   "cell_type": "code",
   "execution_count": 3,
   "id": "78073995",
   "metadata": {},
   "outputs": [
    {
     "data": {
      "text/html": [
       "<div>\n",
       "<style scoped>\n",
       "    .dataframe tbody tr th:only-of-type {\n",
       "        vertical-align: middle;\n",
       "    }\n",
       "\n",
       "    .dataframe tbody tr th {\n",
       "        vertical-align: top;\n",
       "    }\n",
       "\n",
       "    .dataframe thead th {\n",
       "        text-align: right;\n",
       "    }\n",
       "</style>\n",
       "<table border=\"1\" class=\"dataframe\">\n",
       "  <thead>\n",
       "    <tr style=\"text-align: right;\">\n",
       "      <th></th>\n",
       "      <th>age</th>\n",
       "      <th>sex</th>\n",
       "      <th>bmi</th>\n",
       "      <th>children</th>\n",
       "      <th>smoker</th>\n",
       "      <th>region</th>\n",
       "      <th>charges</th>\n",
       "    </tr>\n",
       "  </thead>\n",
       "  <tbody>\n",
       "    <tr>\n",
       "      <th>0</th>\n",
       "      <td>19</td>\n",
       "      <td>female</td>\n",
       "      <td>27.900</td>\n",
       "      <td>0</td>\n",
       "      <td>yes</td>\n",
       "      <td>southwest</td>\n",
       "      <td>16884.92400</td>\n",
       "    </tr>\n",
       "    <tr>\n",
       "      <th>1</th>\n",
       "      <td>18</td>\n",
       "      <td>male</td>\n",
       "      <td>33.770</td>\n",
       "      <td>1</td>\n",
       "      <td>no</td>\n",
       "      <td>southeast</td>\n",
       "      <td>1725.55230</td>\n",
       "    </tr>\n",
       "    <tr>\n",
       "      <th>2</th>\n",
       "      <td>28</td>\n",
       "      <td>male</td>\n",
       "      <td>33.000</td>\n",
       "      <td>3</td>\n",
       "      <td>no</td>\n",
       "      <td>southeast</td>\n",
       "      <td>4449.46200</td>\n",
       "    </tr>\n",
       "    <tr>\n",
       "      <th>3</th>\n",
       "      <td>33</td>\n",
       "      <td>male</td>\n",
       "      <td>22.705</td>\n",
       "      <td>0</td>\n",
       "      <td>no</td>\n",
       "      <td>northwest</td>\n",
       "      <td>21984.47061</td>\n",
       "    </tr>\n",
       "    <tr>\n",
       "      <th>4</th>\n",
       "      <td>32</td>\n",
       "      <td>male</td>\n",
       "      <td>28.880</td>\n",
       "      <td>0</td>\n",
       "      <td>no</td>\n",
       "      <td>northwest</td>\n",
       "      <td>3866.85520</td>\n",
       "    </tr>\n",
       "  </tbody>\n",
       "</table>\n",
       "</div>"
      ],
      "text/plain": [
       "   age     sex     bmi  children smoker     region      charges\n",
       "0   19  female  27.900         0    yes  southwest  16884.92400\n",
       "1   18    male  33.770         1     no  southeast   1725.55230\n",
       "2   28    male  33.000         3     no  southeast   4449.46200\n",
       "3   33    male  22.705         0     no  northwest  21984.47061\n",
       "4   32    male  28.880         0     no  northwest   3866.85520"
      ]
     },
     "execution_count": 3,
     "metadata": {},
     "output_type": "execute_result"
    }
   ],
   "source": [
    "#inspecting the first 5 rows\n",
    "\n",
    "data.head()"
   ]
  },
  {
   "cell_type": "code",
   "execution_count": 4,
   "id": "b5d77a7e",
   "metadata": {},
   "outputs": [
    {
     "data": {
      "text/html": [
       "<div>\n",
       "<style scoped>\n",
       "    .dataframe tbody tr th:only-of-type {\n",
       "        vertical-align: middle;\n",
       "    }\n",
       "\n",
       "    .dataframe tbody tr th {\n",
       "        vertical-align: top;\n",
       "    }\n",
       "\n",
       "    .dataframe thead th {\n",
       "        text-align: right;\n",
       "    }\n",
       "</style>\n",
       "<table border=\"1\" class=\"dataframe\">\n",
       "  <thead>\n",
       "    <tr style=\"text-align: right;\">\n",
       "      <th></th>\n",
       "      <th>age</th>\n",
       "      <th>sex</th>\n",
       "      <th>bmi</th>\n",
       "      <th>children</th>\n",
       "      <th>smoker</th>\n",
       "      <th>region</th>\n",
       "      <th>charges</th>\n",
       "    </tr>\n",
       "  </thead>\n",
       "  <tbody>\n",
       "    <tr>\n",
       "      <th>1333</th>\n",
       "      <td>50</td>\n",
       "      <td>male</td>\n",
       "      <td>30.97</td>\n",
       "      <td>3</td>\n",
       "      <td>no</td>\n",
       "      <td>northwest</td>\n",
       "      <td>10600.5483</td>\n",
       "    </tr>\n",
       "    <tr>\n",
       "      <th>1334</th>\n",
       "      <td>18</td>\n",
       "      <td>female</td>\n",
       "      <td>31.92</td>\n",
       "      <td>0</td>\n",
       "      <td>no</td>\n",
       "      <td>northeast</td>\n",
       "      <td>2205.9808</td>\n",
       "    </tr>\n",
       "    <tr>\n",
       "      <th>1335</th>\n",
       "      <td>18</td>\n",
       "      <td>female</td>\n",
       "      <td>36.85</td>\n",
       "      <td>0</td>\n",
       "      <td>no</td>\n",
       "      <td>southeast</td>\n",
       "      <td>1629.8335</td>\n",
       "    </tr>\n",
       "    <tr>\n",
       "      <th>1336</th>\n",
       "      <td>21</td>\n",
       "      <td>female</td>\n",
       "      <td>25.80</td>\n",
       "      <td>0</td>\n",
       "      <td>no</td>\n",
       "      <td>southwest</td>\n",
       "      <td>2007.9450</td>\n",
       "    </tr>\n",
       "    <tr>\n",
       "      <th>1337</th>\n",
       "      <td>61</td>\n",
       "      <td>female</td>\n",
       "      <td>29.07</td>\n",
       "      <td>0</td>\n",
       "      <td>yes</td>\n",
       "      <td>northwest</td>\n",
       "      <td>29141.3603</td>\n",
       "    </tr>\n",
       "  </tbody>\n",
       "</table>\n",
       "</div>"
      ],
      "text/plain": [
       "      age     sex    bmi  children smoker     region     charges\n",
       "1333   50    male  30.97         3     no  northwest  10600.5483\n",
       "1334   18  female  31.92         0     no  northeast   2205.9808\n",
       "1335   18  female  36.85         0     no  southeast   1629.8335\n",
       "1336   21  female  25.80         0     no  southwest   2007.9450\n",
       "1337   61  female  29.07         0    yes  northwest  29141.3603"
      ]
     },
     "execution_count": 4,
     "metadata": {},
     "output_type": "execute_result"
    }
   ],
   "source": [
    "\n",
    "\n",
    "#last 5 rows\n",
    "\n",
    "data.tail()"
   ]
  },
  {
   "cell_type": "code",
   "execution_count": 5,
   "id": "050e0abc",
   "metadata": {},
   "outputs": [
    {
     "data": {
      "text/plain": [
       "age         0\n",
       "sex         0\n",
       "bmi         0\n",
       "children    0\n",
       "smoker      0\n",
       "region      0\n",
       "charges     0\n",
       "dtype: int64"
      ]
     },
     "execution_count": 5,
     "metadata": {},
     "output_type": "execute_result"
    }
   ],
   "source": [
    "#checking the  number of missing values\n",
    "\n",
    "data.isnull().sum()"
   ]
  },
  {
   "cell_type": "code",
   "execution_count": 6,
   "id": "f38eab0c",
   "metadata": {},
   "outputs": [
    {
     "name": "stdout",
     "output_type": "stream",
     "text": [
      "<class 'pandas.core.frame.DataFrame'>\n",
      "RangeIndex: 1338 entries, 0 to 1337\n",
      "Data columns (total 7 columns):\n",
      " #   Column    Non-Null Count  Dtype  \n",
      "---  ------    --------------  -----  \n",
      " 0   age       1338 non-null   int64  \n",
      " 1   sex       1338 non-null   object \n",
      " 2   bmi       1338 non-null   float64\n",
      " 3   children  1338 non-null   int64  \n",
      " 4   smoker    1338 non-null   object \n",
      " 5   region    1338 non-null   object \n",
      " 6   charges   1338 non-null   float64\n",
      "dtypes: float64(2), int64(2), object(3)\n",
      "memory usage: 73.3+ KB\n"
     ]
    }
   ],
   "source": [
    "#getting some information about the data set\n",
    "\n",
    "data.info()"
   ]
  },
  {
   "cell_type": "code",
   "execution_count": 7,
   "id": "e4dab8a8",
   "metadata": {},
   "outputs": [
    {
     "data": {
      "text/plain": [
       "(1338, 7)"
      ]
     },
     "execution_count": 7,
     "metadata": {},
     "output_type": "execute_result"
    }
   ],
   "source": [
    "#checking the number of rows and columns\n",
    "\n",
    "data.shape"
   ]
  },
  {
   "cell_type": "code",
   "execution_count": 8,
   "id": "fca02f7c",
   "metadata": {},
   "outputs": [
    {
     "data": {
      "text/html": [
       "<div>\n",
       "<style scoped>\n",
       "    .dataframe tbody tr th:only-of-type {\n",
       "        vertical-align: middle;\n",
       "    }\n",
       "\n",
       "    .dataframe tbody tr th {\n",
       "        vertical-align: top;\n",
       "    }\n",
       "\n",
       "    .dataframe thead th {\n",
       "        text-align: right;\n",
       "    }\n",
       "</style>\n",
       "<table border=\"1\" class=\"dataframe\">\n",
       "  <thead>\n",
       "    <tr style=\"text-align: right;\">\n",
       "      <th></th>\n",
       "      <th>age</th>\n",
       "      <th>bmi</th>\n",
       "      <th>children</th>\n",
       "      <th>charges</th>\n",
       "    </tr>\n",
       "  </thead>\n",
       "  <tbody>\n",
       "    <tr>\n",
       "      <th>count</th>\n",
       "      <td>1338.000000</td>\n",
       "      <td>1338.000000</td>\n",
       "      <td>1338.000000</td>\n",
       "      <td>1338.000000</td>\n",
       "    </tr>\n",
       "    <tr>\n",
       "      <th>mean</th>\n",
       "      <td>39.207025</td>\n",
       "      <td>30.663397</td>\n",
       "      <td>1.094918</td>\n",
       "      <td>13270.422265</td>\n",
       "    </tr>\n",
       "    <tr>\n",
       "      <th>std</th>\n",
       "      <td>14.049960</td>\n",
       "      <td>6.098187</td>\n",
       "      <td>1.205493</td>\n",
       "      <td>12110.011237</td>\n",
       "    </tr>\n",
       "    <tr>\n",
       "      <th>min</th>\n",
       "      <td>18.000000</td>\n",
       "      <td>15.960000</td>\n",
       "      <td>0.000000</td>\n",
       "      <td>1121.873900</td>\n",
       "    </tr>\n",
       "    <tr>\n",
       "      <th>25%</th>\n",
       "      <td>27.000000</td>\n",
       "      <td>26.296250</td>\n",
       "      <td>0.000000</td>\n",
       "      <td>4740.287150</td>\n",
       "    </tr>\n",
       "    <tr>\n",
       "      <th>50%</th>\n",
       "      <td>39.000000</td>\n",
       "      <td>30.400000</td>\n",
       "      <td>1.000000</td>\n",
       "      <td>9382.033000</td>\n",
       "    </tr>\n",
       "    <tr>\n",
       "      <th>75%</th>\n",
       "      <td>51.000000</td>\n",
       "      <td>34.693750</td>\n",
       "      <td>2.000000</td>\n",
       "      <td>16639.912515</td>\n",
       "    </tr>\n",
       "    <tr>\n",
       "      <th>max</th>\n",
       "      <td>64.000000</td>\n",
       "      <td>53.130000</td>\n",
       "      <td>5.000000</td>\n",
       "      <td>63770.428010</td>\n",
       "    </tr>\n",
       "  </tbody>\n",
       "</table>\n",
       "</div>"
      ],
      "text/plain": [
       "               age          bmi     children       charges\n",
       "count  1338.000000  1338.000000  1338.000000   1338.000000\n",
       "mean     39.207025    30.663397     1.094918  13270.422265\n",
       "std      14.049960     6.098187     1.205493  12110.011237\n",
       "min      18.000000    15.960000     0.000000   1121.873900\n",
       "25%      27.000000    26.296250     0.000000   4740.287150\n",
       "50%      39.000000    30.400000     1.000000   9382.033000\n",
       "75%      51.000000    34.693750     2.000000  16639.912515\n",
       "max      64.000000    53.130000     5.000000  63770.428010"
      ]
     },
     "execution_count": 8,
     "metadata": {},
     "output_type": "execute_result"
    }
   ],
   "source": [
    "#describing the dataset\n",
    "\n",
    "data.describe()"
   ]
  },
  {
   "cell_type": "markdown",
   "id": "b69fd7cf",
   "metadata": {},
   "source": [
    "# Data Visualization"
   ]
  },
  {
   "cell_type": "code",
   "execution_count": 9,
   "id": "36535e17",
   "metadata": {},
   "outputs": [
    {
     "data": {
      "text/plain": [
       "<Axes: xlabel='age', ylabel='charges'>"
      ]
     },
     "execution_count": 9,
     "metadata": {},
     "output_type": "execute_result"
    },
    {
     "data": {
      "image/png": "[encoded data removed]",
      "text/plain": [
       "<Figure size 640x480 with 1 Axes>"
      ]
     },
     "metadata": {},
     "output_type": "display_data"
    }
   ],
   "source": [
    "#Visualization for charges and age\n",
    "sns.lineplot(data=data,x='age',y='charges')"
   ]
  },
  {
   "cell_type": "markdown",
   "id": "c692b205",
   "metadata": {},
   "source": [
    "# Observation\n",
    "\n",
    "In the age of 40 to 60 have the high charges"
   ]
  },
  {
   "cell_type": "code",
   "execution_count": 10,
   "id": "79ba46e1",
   "metadata": {},
   "outputs": [
    {
     "name": "stderr",
     "output_type": "stream",
     "text": [
      "C:\\Users\\DELL LYF\\AppData\\Local\\Temp\\ipykernel_12732\\3303687566.py:1: UserWarning: \n",
      "\n",
      "`distplot` is a deprecated function and will be removed in seaborn v0.14.0.\n",
      "\n",
      "Please adapt your code to use either `displot` (a figure-level function with\n",
      "similar flexibility) or `histplot` (an axes-level function for histograms).\n",
      "\n",
      "For a guide to updating your code to use the new functions, please see\n",
      "https://gist.github.com/mwaskom/de44147ed2974457ad6372750bbe5751\n",
      "\n",
      "  sns.distplot(data['charges'])\n"
     ]
    },
    {
     "data": {
      "text/plain": [
       "<Axes: xlabel='charges', ylabel='Density'>"
      ]
     },
     "execution_count": 10,
     "metadata": {},
     "output_type": "execute_result"
    },
    {
     "data": {
      "image/png": "[encoded data removed]",
      "text/plain": [
       "<Figure size 640x480 with 1 Axes>"
      ]
     },
     "metadata": {},
     "output_type": "display_data"
    }
   ],
   "source": [
    "sns.distplot(data['charges'])"
   ]
  },
  {
   "cell_type": "markdown",
   "id": "ceaaac04",
   "metadata": {},
   "source": [
    "# Observation\n",
    "\n",
    "we have high charges as 10000 to 20000"
   ]
  },
  {
   "cell_type": "code",
   "execution_count": 11,
   "id": "1c3f4162",
   "metadata": {},
   "outputs": [
    {
     "data": {
      "image/png": "[encoded data removed]",
      "text/plain": [
       "<Figure size 600x600 with 1 Axes>"
      ]
     },
     "metadata": {},
     "output_type": "display_data"
    }
   ],
   "source": [
    "# Visualization between smoker and count\n",
    "plt.figure(figsize=(6,6))\n",
    "sns.countplot(x='smoker',data=data)\n",
    "plt.title('smoker')\n",
    "plt.show()"
   ]
  },
  {
   "cell_type": "markdown",
   "id": "f912b88c",
   "metadata": {},
   "source": [
    "# Observation\n",
    "\n",
    "In smoker column we have high non smokers"
   ]
  },
  {
   "cell_type": "code",
   "execution_count": 12,
   "id": "a6302503",
   "metadata": {},
   "outputs": [
    {
     "data": {
      "image/png": "[encoded data removed]",
      "text/plain": [
       "<Figure size 600x600 with 1 Axes>"
      ]
     },
     "metadata": {},
     "output_type": "display_data"
    }
   ],
   "source": [
    "#Visualization between region and count\n",
    "plt.figure(figsize=(6,6))\n",
    "sns.countplot(x='region', data=data)\n",
    "plt.title('region')\n",
    "plt.show()"
   ]
  },
  {
   "cell_type": "code",
   "execution_count": 13,
   "id": "1e73ffae",
   "metadata": {},
   "outputs": [
    {
     "data": {
      "image/png": "[encoded data removed]",
      "text/plain": [
       "<Figure size 600x600 with 1 Axes>"
      ]
     },
     "metadata": {},
     "output_type": "display_data"
    }
   ],
   "source": [
    "#Visualization between region and count\n",
    "plt.figure(figsize=(6,6))\n",
    "sns.barplot(x='region',y='charges',data=data)\n",
    "plt.title('charges distribution on region')\n",
    "plt.show()"
   ]
  },
  {
   "cell_type": "markdown",
   "id": "fe3afb11",
   "metadata": {},
   "source": [
    "# \n",
    "\n",
    "Here we can see about the region charges"
   ]
  },
  {
   "cell_type": "code",
   "execution_count": 14,
   "id": "3d86b968",
   "metadata": {},
   "outputs": [
    {
     "data": {
      "text/plain": [
       "southeast    364\n",
       "southwest    325\n",
       "northwest    325\n",
       "northeast    324\n",
       "Name: region, dtype: int64"
      ]
     },
     "execution_count": 14,
     "metadata": {},
     "output_type": "execute_result"
    }
   ],
   "source": [
    "#counts of region\n",
    "data['region'].value_counts()"
   ]
  },
  {
   "cell_type": "code",
   "execution_count": 15,
   "id": "9b9daec5",
   "metadata": {},
   "outputs": [
    {
     "data": {
      "image/png": "[encoded data removed]",
      "text/plain": [
       "<Figure size 600x600 with 1 Axes>"
      ]
     },
     "metadata": {},
     "output_type": "display_data"
    }
   ],
   "source": [
    "\n",
    "#Visualization between sex distribution and count\n",
    "plt.figure(figsize=(6,6))\n",
    "sns.countplot(x='sex', data=data)\n",
    "plt.title('Sex Distribution')\n",
    "plt.show()"
   ]
  },
  {
   "cell_type": "code",
   "execution_count": 16,
   "id": "7f3b2886",
   "metadata": {},
   "outputs": [
    {
     "data": {
      "image/png": "[encoded data removed]",
      "text/plain": [
       "<Figure size 600x600 with 1 Axes>"
      ]
     },
     "metadata": {},
     "output_type": "display_data"
    }
   ],
   "source": [
    "#Visualization of children count\n",
    "plt.figure(figsize=(6,6))\n",
    "sns.countplot(x='children', data=data)\n",
    "plt.title('Children')\n",
    "plt.show()"
   ]
  },
  {
   "cell_type": "code",
   "execution_count": 17,
   "id": "2d294b58",
   "metadata": {},
   "outputs": [
    {
     "name": "stderr",
     "output_type": "stream",
     "text": [
      "C:\\Users\\DELL LYF\\AppData\\Local\\Temp\\ipykernel_12732\\3262849815.py:1: UserWarning: \n",
      "\n",
      "`distplot` is a deprecated function and will be removed in seaborn v0.14.0.\n",
      "\n",
      "Please adapt your code to use either `displot` (a figure-level function with\n",
      "similar flexibility) or `histplot` (an axes-level function for histograms).\n",
      "\n",
      "For a guide to updating your code to use the new functions, please see\n",
      "https://gist.github.com/mwaskom/de44147ed2974457ad6372750bbe5751\n",
      "\n",
      "  sns.distplot(data['age'])\n"
     ]
    },
    {
     "data": {
      "text/plain": [
       "<Axes: xlabel='age', ylabel='Density'>"
      ]
     },
     "execution_count": 17,
     "metadata": {},
     "output_type": "execute_result"
    },
    {
     "data": {
      "image/png": "[encoded data removed]",
      "text/plain": [
       "<Figure size 640x480 with 1 Axes>"
      ]
     },
     "metadata": {},
     "output_type": "display_data"
    }
   ],
   "source": [
    "sns.distplot(data['age'])"
   ]
  },
  {
   "cell_type": "code",
   "execution_count": 18,
   "id": "1db86221",
   "metadata": {},
   "outputs": [
    {
     "name": "stderr",
     "output_type": "stream",
     "text": [
      "C:\\Users\\DELL LYF\\AppData\\Local\\Temp\\ipykernel_12732\\2852162216.py:3: UserWarning: \n",
      "\n",
      "`distplot` is a deprecated function and will be removed in seaborn v0.14.0.\n",
      "\n",
      "Please adapt your code to use either `displot` (a figure-level function with\n",
      "similar flexibility) or `histplot` (an axes-level function for histograms).\n",
      "\n",
      "For a guide to updating your code to use the new functions, please see\n",
      "https://gist.github.com/mwaskom/de44147ed2974457ad6372750bbe5751\n",
      "\n",
      "  sns.distplot(data['bmi'])\n"
     ]
    },
    {
     "data": {
      "image/png": "[encoded data removed]",
      "text/plain": [
       "<Figure size 600x600 with 1 Axes>"
      ]
     },
     "metadata": {},
     "output_type": "display_data"
    }
   ],
   "source": [
    "# bmi distribution\n",
    "plt.figure(figsize=(6,6))\n",
    "sns.distplot(data['bmi'])\n",
    "plt.title('BMI Distribution')\n",
    "plt.show()"
   ]
  },
  {
   "cell_type": "code",
   "execution_count": 19,
   "id": "0e2d0d9b",
   "metadata": {},
   "outputs": [
    {
     "name": "stderr",
     "output_type": "stream",
     "text": [
      "C:\\Users\\DELL LYF\\AppData\\Local\\Temp\\ipykernel_12732\\832029369.py:2: UserWarning: 'color' and 'colormap' cannot be used simultaneously. Using 'color'\n",
      "  ax=data['age'].value_counts().plot(kind='bar',stacked=True, colormap = 'Set1', color= \"green\")\n",
      "C:\\Users\\DELL LYF\\AppData\\Local\\Temp\\ipykernel_12732\\832029369.py:2: UserWarning: 'color' and 'colormap' cannot be used simultaneously. Using 'color'\n",
      "  ax=data['age'].value_counts().plot(kind='bar',stacked=True, colormap = 'Set1', color= \"green\")\n"
     ]
    },
    {
     "data": {
      "text/plain": [
       "Text(0, 0.5, 'Count')"
      ]
     },
     "execution_count": 19,
     "metadata": {},
     "output_type": "execute_result"
    },
    {
     "data": {
      "image/png": "[encoded data removed]",
      "text/plain": [
       "<Figure size 1000x1000 with 1 Axes>"
      ]
     },
     "metadata": {},
     "output_type": "display_data"
    }
   ],
   "source": [
    "plt.rcParams['figure.figsize'] = [10,10]\n",
    "ax=data['age'].value_counts().plot(kind='bar',stacked=True, colormap = 'Set1', color= \"green\")\n",
    "ax.title.set_text('Distribution of Ages')\n",
    "plt.xlabel(\"Ages\",fontweight = 'bold')\n",
    "plt.ylabel(\"Count\",fontweight = 'bold')"
   ]
  },
  {
   "cell_type": "markdown",
   "id": "bdd95ad2",
   "metadata": {},
   "source": [
    "# Observation\n",
    "\n",
    "In bmi we have 20 - 40 "
   ]
  },
  {
   "cell_type": "code",
   "execution_count": 20,
   "id": "27f678c6",
   "metadata": {},
   "outputs": [
    {
     "data": {
      "image/png": "[encoded data removed]",
      "text/plain": [
       "<Figure size 500x500 with 1 Axes>"
      ]
     },
     "metadata": {},
     "output_type": "display_data"
    }
   ],
   "source": [
    "sns.displot(data = data, x = 'charges', kde = False, bins = 6)\n",
    "plt.xlabel('Charges')\n",
    "plt.ylabel('Count')\n",
    "plt.title('Distribution of Charges')\n",
    "plt.show()"
   ]
  },
  {
   "cell_type": "code",
   "execution_count": 21,
   "id": "a81a6d81",
   "metadata": {},
   "outputs": [
    {
     "data": {
      "text/plain": [
       "male      676\n",
       "female    662\n",
       "Name: sex, dtype: int64"
      ]
     },
     "execution_count": 21,
     "metadata": {},
     "output_type": "execute_result"
    }
   ],
   "source": [
    "#male ,female counts\n",
    "data['sex'].value_counts()"
   ]
  },
  {
   "cell_type": "code",
   "execution_count": 22,
   "id": "2c012299",
   "metadata": {},
   "outputs": [],
   "source": [
    "#encoding\n",
    "data.replace({'sex':{'male':0,'female':1}},inplace=True)\n",
    "data.replace({'smoker':{'yes':0,'no':1}},inplace=True)\n",
    "data.replace({'region':{'southeast':0,'southwest':1,'northeast':2,'northwest':3}},inplace=True)"
   ]
  },
  {
   "cell_type": "code",
   "execution_count": 23,
   "id": "40c97f57",
   "metadata": {},
   "outputs": [
    {
     "data": {
      "text/html": [
       "<div>\n",
       "<style scoped>\n",
       "    .dataframe tbody tr th:only-of-type {\n",
       "        vertical-align: middle;\n",
       "    }\n",
       "\n",
       "    .dataframe tbody tr th {\n",
       "        vertical-align: top;\n",
       "    }\n",
       "\n",
       "    .dataframe thead th {\n",
       "        text-align: right;\n",
       "    }\n",
       "</style>\n",
       "<table border=\"1\" class=\"dataframe\">\n",
       "  <thead>\n",
       "    <tr style=\"text-align: right;\">\n",
       "      <th></th>\n",
       "      <th>age</th>\n",
       "      <th>sex</th>\n",
       "      <th>bmi</th>\n",
       "      <th>children</th>\n",
       "      <th>smoker</th>\n",
       "      <th>region</th>\n",
       "      <th>charges</th>\n",
       "    </tr>\n",
       "  </thead>\n",
       "  <tbody>\n",
       "    <tr>\n",
       "      <th>0</th>\n",
       "      <td>19</td>\n",
       "      <td>1</td>\n",
       "      <td>27.900</td>\n",
       "      <td>0</td>\n",
       "      <td>0</td>\n",
       "      <td>1</td>\n",
       "      <td>16884.92400</td>\n",
       "    </tr>\n",
       "    <tr>\n",
       "      <th>1</th>\n",
       "      <td>18</td>\n",
       "      <td>0</td>\n",
       "      <td>33.770</td>\n",
       "      <td>1</td>\n",
       "      <td>1</td>\n",
       "      <td>0</td>\n",
       "      <td>1725.55230</td>\n",
       "    </tr>\n",
       "    <tr>\n",
       "      <th>2</th>\n",
       "      <td>28</td>\n",
       "      <td>0</td>\n",
       "      <td>33.000</td>\n",
       "      <td>3</td>\n",
       "      <td>1</td>\n",
       "      <td>0</td>\n",
       "      <td>4449.46200</td>\n",
       "    </tr>\n",
       "    <tr>\n",
       "      <th>3</th>\n",
       "      <td>33</td>\n",
       "      <td>0</td>\n",
       "      <td>22.705</td>\n",
       "      <td>0</td>\n",
       "      <td>1</td>\n",
       "      <td>3</td>\n",
       "      <td>21984.47061</td>\n",
       "    </tr>\n",
       "    <tr>\n",
       "      <th>4</th>\n",
       "      <td>32</td>\n",
       "      <td>0</td>\n",
       "      <td>28.880</td>\n",
       "      <td>0</td>\n",
       "      <td>1</td>\n",
       "      <td>3</td>\n",
       "      <td>3866.85520</td>\n",
       "    </tr>\n",
       "  </tbody>\n",
       "</table>\n",
       "</div>"
      ],
      "text/plain": [
       "   age  sex     bmi  children  smoker  region      charges\n",
       "0   19    1  27.900         0       0       1  16884.92400\n",
       "1   18    0  33.770         1       1       0   1725.55230\n",
       "2   28    0  33.000         3       1       0   4449.46200\n",
       "3   33    0  22.705         0       1       3  21984.47061\n",
       "4   32    0  28.880         0       1       3   3866.85520"
      ]
     },
     "execution_count": 23,
     "metadata": {},
     "output_type": "execute_result"
    }
   ],
   "source": [
    "data.head()"
   ]
  },
  {
   "cell_type": "markdown",
   "id": "12147e49",
   "metadata": {},
   "source": [
    "# spliting the data"
   ]
  },
  {
   "cell_type": "code",
   "execution_count": 24,
   "id": "b20b104e",
   "metadata": {},
   "outputs": [],
   "source": [
    "\n",
    "x=data[['age','sex','bmi','children','smoker','region']]\n",
    "y=data['charges']"
   ]
  },
  {
   "cell_type": "code",
   "execution_count": 25,
   "id": "5ee9f6a9",
   "metadata": {},
   "outputs": [
    {
     "data": {
      "text/html": [
       "<div>\n",
       "<style scoped>\n",
       "    .dataframe tbody tr th:only-of-type {\n",
       "        vertical-align: middle;\n",
       "    }\n",
       "\n",
       "    .dataframe tbody tr th {\n",
       "        vertical-align: top;\n",
       "    }\n",
       "\n",
       "    .dataframe thead th {\n",
       "        text-align: right;\n",
       "    }\n",
       "</style>\n",
       "<table border=\"1\" class=\"dataframe\">\n",
       "  <thead>\n",
       "    <tr style=\"text-align: right;\">\n",
       "      <th></th>\n",
       "      <th>age</th>\n",
       "      <th>sex</th>\n",
       "      <th>bmi</th>\n",
       "      <th>children</th>\n",
       "      <th>smoker</th>\n",
       "      <th>region</th>\n",
       "    </tr>\n",
       "  </thead>\n",
       "  <tbody>\n",
       "    <tr>\n",
       "      <th>0</th>\n",
       "      <td>19</td>\n",
       "      <td>1</td>\n",
       "      <td>27.900</td>\n",
       "      <td>0</td>\n",
       "      <td>0</td>\n",
       "      <td>1</td>\n",
       "    </tr>\n",
       "    <tr>\n",
       "      <th>1</th>\n",
       "      <td>18</td>\n",
       "      <td>0</td>\n",
       "      <td>33.770</td>\n",
       "      <td>1</td>\n",
       "      <td>1</td>\n",
       "      <td>0</td>\n",
       "    </tr>\n",
       "    <tr>\n",
       "      <th>2</th>\n",
       "      <td>28</td>\n",
       "      <td>0</td>\n",
       "      <td>33.000</td>\n",
       "      <td>3</td>\n",
       "      <td>1</td>\n",
       "      <td>0</td>\n",
       "    </tr>\n",
       "    <tr>\n",
       "      <th>3</th>\n",
       "      <td>33</td>\n",
       "      <td>0</td>\n",
       "      <td>22.705</td>\n",
       "      <td>0</td>\n",
       "      <td>1</td>\n",
       "      <td>3</td>\n",
       "    </tr>\n",
       "    <tr>\n",
       "      <th>4</th>\n",
       "      <td>32</td>\n",
       "      <td>0</td>\n",
       "      <td>28.880</td>\n",
       "      <td>0</td>\n",
       "      <td>1</td>\n",
       "      <td>3</td>\n",
       "    </tr>\n",
       "    <tr>\n",
       "      <th>...</th>\n",
       "      <td>...</td>\n",
       "      <td>...</td>\n",
       "      <td>...</td>\n",
       "      <td>...</td>\n",
       "      <td>...</td>\n",
       "      <td>...</td>\n",
       "    </tr>\n",
       "    <tr>\n",
       "      <th>1333</th>\n",
       "      <td>50</td>\n",
       "      <td>0</td>\n",
       "      <td>30.970</td>\n",
       "      <td>3</td>\n",
       "      <td>1</td>\n",
       "      <td>3</td>\n",
       "    </tr>\n",
       "    <tr>\n",
       "      <th>1334</th>\n",
       "      <td>18</td>\n",
       "      <td>1</td>\n",
       "      <td>31.920</td>\n",
       "      <td>0</td>\n",
       "      <td>1</td>\n",
       "      <td>2</td>\n",
       "    </tr>\n",
       "    <tr>\n",
       "      <th>1335</th>\n",
       "      <td>18</td>\n",
       "      <td>1</td>\n",
       "      <td>36.850</td>\n",
       "      <td>0</td>\n",
       "      <td>1</td>\n",
       "      <td>0</td>\n",
       "    </tr>\n",
       "    <tr>\n",
       "      <th>1336</th>\n",
       "      <td>21</td>\n",
       "      <td>1</td>\n",
       "      <td>25.800</td>\n",
       "      <td>0</td>\n",
       "      <td>1</td>\n",
       "      <td>1</td>\n",
       "    </tr>\n",
       "    <tr>\n",
       "      <th>1337</th>\n",
       "      <td>61</td>\n",
       "      <td>1</td>\n",
       "      <td>29.070</td>\n",
       "      <td>0</td>\n",
       "      <td>0</td>\n",
       "      <td>3</td>\n",
       "    </tr>\n",
       "  </tbody>\n",
       "</table>\n",
       "<p>1338 rows × 6 columns</p>\n",
       "</div>"
      ],
      "text/plain": [
       "      age  sex     bmi  children  smoker  region\n",
       "0      19    1  27.900         0       0       1\n",
       "1      18    0  33.770         1       1       0\n",
       "2      28    0  33.000         3       1       0\n",
       "3      33    0  22.705         0       1       3\n",
       "4      32    0  28.880         0       1       3\n",
       "...   ...  ...     ...       ...     ...     ...\n",
       "1333   50    0  30.970         3       1       3\n",
       "1334   18    1  31.920         0       1       2\n",
       "1335   18    1  36.850         0       1       0\n",
       "1336   21    1  25.800         0       1       1\n",
       "1337   61    1  29.070         0       0       3\n",
       "\n",
       "[1338 rows x 6 columns]"
      ]
     },
     "execution_count": 25,
     "metadata": {},
     "output_type": "execute_result"
    }
   ],
   "source": [
    "x"
   ]
  },
  {
   "cell_type": "code",
   "execution_count": 26,
   "id": "205eaed6",
   "metadata": {},
   "outputs": [],
   "source": [
    "from sklearn.preprocessing import StandardScaler"
   ]
  },
  {
   "cell_type": "code",
   "execution_count": 27,
   "id": "e1f05463",
   "metadata": {},
   "outputs": [
    {
     "name": "stdout",
     "output_type": "stream",
     "text": [
      "[[-1.43876426  1.0105187  -0.45332    -0.90861367 -1.97058663 -0.40328924]\n",
      " [-1.50996545 -0.98959079  0.5096211  -0.07876719  0.5074631  -1.28788104]\n",
      " [-0.79795355 -0.98959079  0.38330685  1.58092576  0.5074631  -1.28788104]\n",
      " ...\n",
      " [-1.50996545  1.0105187   1.0148781  -0.90861367  0.5074631  -1.28788104]\n",
      " [-1.29636188  1.0105187  -0.79781341 -0.90861367  0.5074631  -0.40328924]\n",
      " [ 1.55168573  1.0105187  -0.26138796 -0.90861367 -1.97058663  1.36589436]]\n"
     ]
    }
   ],
   "source": [
    "std = StandardScaler()\n",
    "std.fit(x)\n",
    "std_data= std.transform(x)\n",
    "print(std_data)"
   ]
  },
  {
   "cell_type": "code",
   "execution_count": 28,
   "id": "891542da",
   "metadata": {},
   "outputs": [
    {
     "data": {
      "text/plain": [
       "0       16884.92400\n",
       "1        1725.55230\n",
       "2        4449.46200\n",
       "3       21984.47061\n",
       "4        3866.85520\n",
       "           ...     \n",
       "1333    10600.54830\n",
       "1334     2205.98080\n",
       "1335     1629.83350\n",
       "1336     2007.94500\n",
       "1337    29141.36030\n",
       "Name: charges, Length: 1338, dtype: float64"
      ]
     },
     "execution_count": 28,
     "metadata": {},
     "output_type": "execute_result"
    }
   ],
   "source": [
    "y"
   ]
  },
  {
   "cell_type": "markdown",
   "id": "859c924e",
   "metadata": {},
   "source": [
    "# Test-Train Split"
   ]
  },
  {
   "cell_type": "code",
   "execution_count": 29,
   "id": "c09c0f2f",
   "metadata": {},
   "outputs": [],
   "source": [
    "#spliting the data into train and test\n",
    "x_train,x_test,y_train,y_test=train_test_split(x,y,test_size=0.3,random_state=0)"
   ]
  },
  {
   "cell_type": "code",
   "execution_count": 30,
   "id": "47c60050",
   "metadata": {},
   "outputs": [
    {
     "data": {
      "text/html": [
       "<div>\n",
       "<style scoped>\n",
       "    .dataframe tbody tr th:only-of-type {\n",
       "        vertical-align: middle;\n",
       "    }\n",
       "\n",
       "    .dataframe tbody tr th {\n",
       "        vertical-align: top;\n",
       "    }\n",
       "\n",
       "    .dataframe thead th {\n",
       "        text-align: right;\n",
       "    }\n",
       "</style>\n",
       "<table border=\"1\" class=\"dataframe\">\n",
       "  <thead>\n",
       "    <tr style=\"text-align: right;\">\n",
       "      <th></th>\n",
       "      <th>age</th>\n",
       "      <th>sex</th>\n",
       "      <th>bmi</th>\n",
       "      <th>children</th>\n",
       "      <th>smoker</th>\n",
       "      <th>region</th>\n",
       "    </tr>\n",
       "  </thead>\n",
       "  <tbody>\n",
       "    <tr>\n",
       "      <th>578</th>\n",
       "      <td>52</td>\n",
       "      <td>0</td>\n",
       "      <td>30.200</td>\n",
       "      <td>1</td>\n",
       "      <td>1</td>\n",
       "      <td>1</td>\n",
       "    </tr>\n",
       "    <tr>\n",
       "      <th>610</th>\n",
       "      <td>47</td>\n",
       "      <td>1</td>\n",
       "      <td>29.370</td>\n",
       "      <td>1</td>\n",
       "      <td>1</td>\n",
       "      <td>0</td>\n",
       "    </tr>\n",
       "    <tr>\n",
       "      <th>569</th>\n",
       "      <td>48</td>\n",
       "      <td>0</td>\n",
       "      <td>40.565</td>\n",
       "      <td>2</td>\n",
       "      <td>0</td>\n",
       "      <td>3</td>\n",
       "    </tr>\n",
       "    <tr>\n",
       "      <th>1034</th>\n",
       "      <td>61</td>\n",
       "      <td>0</td>\n",
       "      <td>38.380</td>\n",
       "      <td>0</td>\n",
       "      <td>1</td>\n",
       "      <td>3</td>\n",
       "    </tr>\n",
       "    <tr>\n",
       "      <th>198</th>\n",
       "      <td>51</td>\n",
       "      <td>1</td>\n",
       "      <td>18.050</td>\n",
       "      <td>0</td>\n",
       "      <td>1</td>\n",
       "      <td>3</td>\n",
       "    </tr>\n",
       "    <tr>\n",
       "      <th>...</th>\n",
       "      <td>...</td>\n",
       "      <td>...</td>\n",
       "      <td>...</td>\n",
       "      <td>...</td>\n",
       "      <td>...</td>\n",
       "      <td>...</td>\n",
       "    </tr>\n",
       "    <tr>\n",
       "      <th>1261</th>\n",
       "      <td>28</td>\n",
       "      <td>0</td>\n",
       "      <td>37.100</td>\n",
       "      <td>1</td>\n",
       "      <td>1</td>\n",
       "      <td>1</td>\n",
       "    </tr>\n",
       "    <tr>\n",
       "      <th>494</th>\n",
       "      <td>21</td>\n",
       "      <td>0</td>\n",
       "      <td>25.700</td>\n",
       "      <td>4</td>\n",
       "      <td>0</td>\n",
       "      <td>1</td>\n",
       "    </tr>\n",
       "    <tr>\n",
       "      <th>97</th>\n",
       "      <td>55</td>\n",
       "      <td>0</td>\n",
       "      <td>38.280</td>\n",
       "      <td>0</td>\n",
       "      <td>1</td>\n",
       "      <td>0</td>\n",
       "    </tr>\n",
       "    <tr>\n",
       "      <th>418</th>\n",
       "      <td>64</td>\n",
       "      <td>0</td>\n",
       "      <td>39.160</td>\n",
       "      <td>1</td>\n",
       "      <td>1</td>\n",
       "      <td>0</td>\n",
       "    </tr>\n",
       "    <tr>\n",
       "      <th>920</th>\n",
       "      <td>62</td>\n",
       "      <td>1</td>\n",
       "      <td>25.000</td>\n",
       "      <td>0</td>\n",
       "      <td>1</td>\n",
       "      <td>1</td>\n",
       "    </tr>\n",
       "  </tbody>\n",
       "</table>\n",
       "<p>402 rows × 6 columns</p>\n",
       "</div>"
      ],
      "text/plain": [
       "      age  sex     bmi  children  smoker  region\n",
       "578    52    0  30.200         1       1       1\n",
       "610    47    1  29.370         1       1       0\n",
       "569    48    0  40.565         2       0       3\n",
       "1034   61    0  38.380         0       1       3\n",
       "198    51    1  18.050         0       1       3\n",
       "...   ...  ...     ...       ...     ...     ...\n",
       "1261   28    0  37.100         1       1       1\n",
       "494    21    0  25.700         4       0       1\n",
       "97     55    0  38.280         0       1       0\n",
       "418    64    0  39.160         1       1       0\n",
       "920    62    1  25.000         0       1       1\n",
       "\n",
       "[402 rows x 6 columns]"
      ]
     },
     "execution_count": 30,
     "metadata": {},
     "output_type": "execute_result"
    }
   ],
   "source": [
    "x_test"
   ]
  },
  {
   "cell_type": "code",
   "execution_count": 31,
   "id": "2af360ff",
   "metadata": {},
   "outputs": [
    {
     "data": {
      "text/plain": [
       "578      9724.53000\n",
       "610      8547.69130\n",
       "569     45702.02235\n",
       "1034    12950.07120\n",
       "198      9644.25250\n",
       "           ...     \n",
       "1261     3277.16100\n",
       "494     17942.10600\n",
       "97      10226.28420\n",
       "418     14418.28040\n",
       "920     13451.12200\n",
       "Name: charges, Length: 402, dtype: float64"
      ]
     },
     "execution_count": 31,
     "metadata": {},
     "output_type": "execute_result"
    }
   ],
   "source": [
    "y_test"
   ]
  },
  {
   "cell_type": "markdown",
   "id": "8acae947",
   "metadata": {},
   "source": [
    "# Linear Regression\n",
    "Linear regression is a type of supervised machine learning algorithm that computes the linear relationship between a dependent variable and one or more independent features."
   ]
  },
  {
   "cell_type": "code",
   "execution_count": 32,
   "id": "aaf0bace",
   "metadata": {},
   "outputs": [],
   "source": [
    "ln=LinearRegression()"
   ]
  },
  {
   "cell_type": "code",
   "execution_count": 33,
   "id": "5c1491b9",
   "metadata": {},
   "outputs": [
    {
     "data": {
      "text/html": [
       "<style>#sk-container-id-1 {color: black;background-color: white;}#sk-container-id-1 pre{padding: 0;}#sk-container-id-1 div.sk-toggleable {background-color: white;}#sk-container-id-1 label.sk-toggleable__label {cursor: pointer;display: block;width: 100%;margin-bottom: 0;padding: 0.3em;box-sizing: border-box;text-align: center;}#sk-container-id-1 label.sk-toggleable__label-arrow:before {content: \"▸\";float: left;margin-right: 0.25em;color: #696969;}#sk-container-id-1 label.sk-toggleable__label-arrow:hover:before {color: black;}#sk-container-id-1 div.sk-estimator:hover label.sk-toggleable__label-arrow:before {color: black;}#sk-container-id-1 div.sk-toggleable__content {max-height: 0;max-width: 0;overflow: hidden;text-align: left;background-color: #f0f8ff;}#sk-container-id-1 div.sk-toggleable__content pre {margin: 0.2em;color: black;border-radius: 0.25em;background-color: #f0f8ff;}#sk-container-id-1 input.sk-toggleable__control:checked~div.sk-toggleable__content {max-height: 200px;max-width: 100%;overflow: auto;}#sk-container-id-1 input.sk-toggleable__control:checked~label.sk-toggleable__label-arrow:before {content: \"▾\";}#sk-container-id-1 div.sk-estimator input.sk-toggleable__control:checked~label.sk-toggleable__label {background-color: #d4ebff;}#sk-container-id-1 div.sk-label input.sk-toggleable__control:checked~label.sk-toggleable__label {background-color: #d4ebff;}#sk-container-id-1 input.sk-hidden--visually {border: 0;clip: rect(1px 1px 1px 1px);clip: rect(1px, 1px, 1px, 1px);height: 1px;margin: -1px;overflow: hidden;padding: 0;position: absolute;width: 1px;}#sk-container-id-1 div.sk-estimator {font-family: monospace;background-color: #f0f8ff;border: 1px dotted black;border-radius: 0.25em;box-sizing: border-box;margin-bottom: 0.5em;}#sk-container-id-1 div.sk-estimator:hover {background-color: #d4ebff;}#sk-container-id-1 div.sk-parallel-item::after {content: \"\";width: 100%;border-bottom: 1px solid gray;flex-grow: 1;}#sk-container-id-1 div.sk-label:hover label.sk-toggleable__label {background-color: #d4ebff;}#sk-container-id-1 div.sk-serial::before {content: \"\";position: absolute;border-left: 1px solid gray;box-sizing: border-box;top: 0;bottom: 0;left: 50%;z-index: 0;}#sk-container-id-1 div.sk-serial {display: flex;flex-direction: column;align-items: center;background-color: white;padding-right: 0.2em;padding-left: 0.2em;position: relative;}#sk-container-id-1 div.sk-item {position: relative;z-index: 1;}#sk-container-id-1 div.sk-parallel {display: flex;align-items: stretch;justify-content: center;background-color: white;position: relative;}#sk-container-id-1 div.sk-item::before, #sk-container-id-1 div.sk-parallel-item::before {content: \"\";position: absolute;border-left: 1px solid gray;box-sizing: border-box;top: 0;bottom: 0;left: 50%;z-index: -1;}#sk-container-id-1 div.sk-parallel-item {display: flex;flex-direction: column;z-index: 1;position: relative;background-color: white;}#sk-container-id-1 div.sk-parallel-item:first-child::after {align-self: flex-end;width: 50%;}#sk-container-id-1 div.sk-parallel-item:last-child::after {align-self: flex-start;width: 50%;}#sk-container-id-1 div.sk-parallel-item:only-child::after {width: 0;}#sk-container-id-1 div.sk-dashed-wrapped {border: 1px dashed gray;margin: 0 0.4em 0.5em 0.4em;box-sizing: border-box;padding-bottom: 0.4em;background-color: white;}#sk-container-id-1 div.sk-label label {font-family: monospace;font-weight: bold;display: inline-block;line-height: 1.2em;}#sk-container-id-1 div.sk-label-container {text-align: center;}#sk-container-id-1 div.sk-container {/* jupyter's `normalize.less` sets `[hidden] { display: none; }` but bootstrap.min.css set `[hidden] { display: none !important; }` so we also need the `!important` here to be able to override the default hidden behavior on the sphinx rendered scikit-learn.org. See: https://github.com/scikit-learn/scikit-learn/issues/21755 */display: inline-block !important;position: relative;}#sk-container-id-1 div.sk-text-repr-fallback {display: none;}</style><div id=\"sk-container-id-1\" class=\"sk-top-container\"><div class=\"sk-text-repr-fallback\"><pre>LinearRegression()</pre><b>In a Jupyter environment, please rerun this cell to show the HTML representation or trust the notebook. <br />On GitHub, the HTML representation is unable to render, please try loading this page with nbviewer.org.</b></div><div class=\"sk-container\" hidden><div class=\"sk-item\"><div class=\"sk-estimator sk-toggleable\"><input class=\"sk-toggleable__control sk-hidden--visually\" id=\"sk-estimator-id-1\" type=\"checkbox\" checked><label for=\"sk-estimator-id-1\" class=\"sk-toggleable__label sk-toggleable__label-arrow\">LinearRegression</label><div class=\"sk-toggleable__content\"><pre>LinearRegression()</pre></div></div></div></div></div>"
      ],
      "text/plain": [
       "LinearRegression()"
      ]
     },
     "execution_count": 33,
     "metadata": {},
     "output_type": "execute_result"
    }
   ],
   "source": [
    "# Training data is used for model building\n",
    "ln.fit(x_train,y_train)"
   ]
  },
  {
   "cell_type": "code",
   "execution_count": 34,
   "id": "b902781f",
   "metadata": {},
   "outputs": [],
   "source": [
    "#testing data used for prediction\n",
    "predicted_test=ln.predict(x_test)"
   ]
  },
  {
   "cell_type": "code",
   "execution_count": 35,
   "id": "4b34863b",
   "metadata": {},
   "outputs": [
    {
     "data": {
      "text/plain": [
       "array([ 1.13604899e+04,  9.63047343e+03,  3.81065737e+04,  1.63338141e+04,\n",
       "        7.05272954e+03,  3.54684209e+03,  1.11492011e+03,  1.45452227e+04,\n",
       "        9.15653214e+03,  7.60590109e+03,  4.20016236e+03,  1.04451514e+04,\n",
       "        8.98646549e+03,  3.88683626e+03,  2.77711850e+04,  1.09358292e+04,\n",
       "        1.14088811e+04,  5.65105775e+03,  8.33593364e+03,  2.64917277e+04,\n",
       "        3.36411266e+04,  1.45093087e+04,  1.13603693e+04,  3.20999735e+04,\n",
       "        4.16595995e+03,  8.80051482e+03,  6.86565582e+02,  9.97470268e+03,\n",
       "        3.84800169e+03,  1.05436257e+04,  9.16548540e+03,  4.00322662e+04,\n",
       "        1.58507371e+04,  1.40198816e+04,  2.41808796e+04,  4.73281638e+03,\n",
       "        1.27268799e+04,  3.07047328e+04,  3.35025676e+04,  3.74040233e+03,\n",
       "        3.59264482e+03,  4.02796889e+03,  2.99517120e+04,  3.94760782e+04,\n",
       "        2.76473213e+04,  5.14254175e+03,  1.08262644e+04,  7.91704638e+03,\n",
       "        3.21404415e+03,  1.04089920e+04,  5.23768356e+03,  3.52019211e+03,\n",
       "        3.30519647e+04,  3.80078950e+04,  1.61504863e+04,  6.67412103e+03,\n",
       "        5.74101493e+03,  9.53471440e+03,  9.16147748e+03,  1.18772163e+04,\n",
       "        1.91947797e+03,  3.89529955e+04,  1.51105293e+04,  1.20124403e+04,\n",
       "        1.37466989e+04,  1.42282674e+04,  2.56759831e+04,  3.21589874e+04,\n",
       "        9.38338561e+02,  1.03224230e+04,  1.25762445e+04,  1.16869203e+04,\n",
       "        2.51606030e+04,  1.57545311e+04,  1.13511064e+04,  1.23108825e+04,\n",
       "        6.72839306e+03,  9.72979521e+03,  2.96594087e+04,  3.91461862e+04,\n",
       "        1.16936897e+04,  3.71718509e+04,  4.23658136e+03,  9.56283584e+03,\n",
       "        3.42860029e+04,  2.88212970e+04,  8.77091669e+03,  4.91685700e+03,\n",
       "        1.22617045e+04,  3.03847971e+04,  9.71095184e+03,  1.15629735e+04,\n",
       "        7.89611333e+03,  9.07389065e+03,  7.96263628e+03,  6.91333969e+03,\n",
       "        3.54799980e+04,  3.32235010e+04,  7.74216037e+03,  1.52727331e+04,\n",
       "        4.02103001e+03,  8.86796962e+03,  6.42467484e+03,  3.14295355e+04,\n",
       "        3.29652236e+04,  2.02483410e+03,  9.23006738e+03,  6.69743601e+03,\n",
       "        1.41891044e+04,  3.72589923e+04,  1.03636481e+04,  1.06266446e+04,\n",
       "        1.03463596e+04,  2.63250675e+04,  3.98473453e+04,  8.11504355e+03,\n",
       "        4.20123030e+02,  9.18328674e+03,  1.54490447e+04,  9.69169927e+03,\n",
       "        3.51434975e+04,  7.40416142e+03,  1.71648356e+04,  9.25511108e+03,\n",
       "        8.44643817e+03,  3.06508183e+03,  3.24167342e+04,  3.14694525e+04,\n",
       "        3.96162959e+04,  5.55684299e+03,  9.47447184e+03,  3.60706421e+03,\n",
       "        7.75746319e+03,  8.25952865e+03,  3.17068124e+04,  2.99179622e+04,\n",
       "        2.97199589e+04,  8.93358663e+03,  3.24656828e+04,  3.38465489e+03,\n",
       "        3.69673261e+03,  1.12287910e+04,  1.32781734e+04,  1.24679630e+04,\n",
       "        5.51562934e+03,  1.57191659e+04,  1.50860705e+04,  2.50201849e+03,\n",
       "        2.81470049e+01,  1.05076114e+04,  7.03482361e+03,  3.16747784e+04,\n",
       "        1.20081681e+04,  2.36532961e+03,  6.46311240e+03,  7.97890579e+03,\n",
       "        4.45258542e+03,  2.14619997e+03,  1.15443143e+04,  1.26979157e+04,\n",
       "        6.87607717e+03,  1.64834788e+04,  1.19503928e+04,  1.42578209e+04,\n",
       "        2.78620364e+03,  6.92094441e+03,  2.30813630e+04,  7.24624702e+03,\n",
       "        5.07415453e+03,  5.18426686e+03,  6.80424555e+03,  4.80360790e+03,\n",
       "        1.01299425e+04,  5.37348591e+03,  5.91016859e+03,  6.77320214e+03,\n",
       "        3.32116271e+03,  5.66417802e+03,  3.76283619e+04,  1.01498787e+03,\n",
       "        1.27881673e+04,  9.08366466e+03,  1.38556794e+04,  5.41347696e+03,\n",
       "        4.83046767e+03,  3.59529138e+04,  3.90316060e+03,  2.17464447e+03,\n",
       "        1.53432277e+04,  1.23466925e+04,  3.45744560e+04,  4.88845442e+03,\n",
       "        5.86075302e+03,  3.11877620e+04,  6.17403585e+03,  2.24067425e+03,\n",
       "        8.06111902e+03,  9.68388708e+03,  8.06897572e+03,  5.84915471e+03,\n",
       "        1.28154407e+04,  3.84375437e+04,  1.39055457e+04,  2.89256730e+04,\n",
       "        6.84474019e+03,  3.54900372e+04,  3.37081560e+03,  1.19797565e+04,\n",
       "        9.17189066e+03,  6.20654396e+03,  1.14450001e+04,  1.42123190e+04,\n",
       "        5.29525804e+03,  4.54402696e+03,  8.07078451e+03,  1.44383921e+03,\n",
       "        7.51565317e+03,  4.04755010e+03,  1.31375339e+04,  3.93450541e+03,\n",
       "        1.03011846e+04,  6.90356340e+03,  9.47015435e+03,  1.96633257e+03,\n",
       "        1.34326929e+04,  1.69465304e+04,  1.51126769e+04,  1.08097776e+04,\n",
       "        5.47990430e+03,  2.27030588e+03,  1.93351606e+03,  1.30897335e+04,\n",
       "        1.41794761e+04,  4.65995426e+03,  3.87923406e+03,  9.66796930e+03,\n",
       "        9.63444224e+03,  2.76451241e+04,  7.25030524e+03,  1.01882433e+04,\n",
       "        6.47045813e+03,  2.97441405e+04,  1.13316903e+04,  7.12507517e+03,\n",
       "        1.03721799e+04,  1.23505421e+04,  2.59591581e+03,  1.09548042e+04,\n",
       "        1.10128524e+03,  6.66444877e+03,  2.83851854e+04,  3.88037265e+04,\n",
       "        6.51673212e+03,  8.21720981e+03,  2.06116173e+03, -2.58779036e+01,\n",
       "        1.07248869e+04,  4.19818350e+03,  5.08248610e+03,  2.44910902e+03,\n",
       "        7.02190713e+03,  3.34696237e+04,  3.77192315e+04,  1.49462065e+04,\n",
       "        8.35414917e+03,  1.57301558e+04,  3.28644515e+04,  9.16903018e+03,\n",
       "        3.36573742e+04,  3.35785869e+03,  3.02227780e+04,  8.35274359e+03,\n",
       "        1.38742130e+04,  4.21420665e+03,  3.21535219e+04,  7.99470010e+03,\n",
       "        1.13235240e+04,  9.27335526e+03,  4.28592523e+03,  1.29537793e+04,\n",
       "        1.18783568e+04,  8.54838814e+03,  1.29679436e+04,  2.37657560e+03,\n",
       "        1.02467370e+04,  5.67977274e+03,  1.10928245e+04,  3.11056309e+04,\n",
       "        9.89803230e+03,  7.94198159e+02,  5.86320676e+02,  3.94185122e+04,\n",
       "        9.34973829e+03,  7.24228383e+03,  1.41578768e+04,  1.31037898e+04,\n",
       "        2.73291355e+04,  7.38600581e+03,  7.09436299e+03,  1.23706269e+04,\n",
       "        2.96149600e+03,  3.71249627e+03,  2.45272168e+04,  2.59412141e+04,\n",
       "        1.31968622e+04,  2.84418332e+03,  4.93026526e+03,  9.60306674e+03,\n",
       "        1.21120545e+04,  2.30185299e+04,  3.08023987e+04,  1.03431900e+04,\n",
       "        2.39917317e+04,  2.96680408e+03,  1.14180546e+04,  7.39373906e+03,\n",
       "        7.89997497e+03,  9.45443123e+01,  7.40363957e+03,  3.56433184e+04,\n",
       "        5.82292200e+03,  5.91317355e+03,  3.17327573e+02,  1.07337238e+04,\n",
       "        6.58480918e+03,  9.79572686e+03,  3.91234224e+04,  2.76488781e+04,\n",
       "        1.11791387e+04,  3.53690729e+04,  1.47165682e+04,  6.97090574e+03,\n",
       "        1.08399845e+04,  7.14063698e+03,  3.67287454e+04,  5.85140078e+03,\n",
       "        1.07382898e+04,  1.02655327e+03,  2.40339952e+04,  2.02035748e+03,\n",
       "        3.45666390e+04,  1.12346180e+04,  1.94301336e+03,  3.17730916e+04,\n",
       "        6.91665000e+03,  5.49202224e+03,  3.77941977e+04,  2.48390279e+03,\n",
       "        9.25022446e+03,  2.79421777e+03,  1.30646817e+04,  1.26738672e+03,\n",
       "        1.09599650e+04,  6.89499509e+03,  3.61018725e+04,  7.44486528e+03,\n",
       "        3.06417687e+04,  2.93616891e+04,  6.91713838e+03,  1.04302726e+04,\n",
       "        2.04679577e+03,  2.48352207e+03,  3.93501579e+03,  1.28959039e+04,\n",
       "        3.69157016e+04,  1.00180985e+04,  6.28269042e+02,  1.10709837e+04,\n",
       "        5.21519582e+03,  1.00941925e+04,  5.25444960e+03,  7.12536652e+03,\n",
       "        4.12761855e+03,  2.85239067e+04,  3.99675673e+03, -1.13397098e+03,\n",
       "        3.30311969e+04,  1.27437339e+04,  3.60924058e+04,  1.01421003e+04,\n",
       "        7.84073872e+03,  4.60535141e+01,  2.71894961e+03,  1.18168795e+04,\n",
       "        5.96551334e+03,  2.97586195e+03,  1.17971631e+04,  8.00826944e+03,\n",
       "        7.22842933e+03,  5.11537660e+03,  3.20550030e+03,  3.21515039e+04,\n",
       "        3.69590115e+03,  8.88812161e+03,  4.63644277e+03,  1.27301798e+04,\n",
       "        1.50403229e+04,  7.48800528e+03,  2.67595280e+04,  1.41380007e+04,\n",
       "        1.72097782e+04,  1.17706055e+04])"
      ]
     },
     "execution_count": 35,
     "metadata": {},
     "output_type": "execute_result"
    }
   ],
   "source": [
    "predicted_test"
   ]
  },
  {
   "cell_type": "code",
   "execution_count": 36,
   "id": "cb7f6530",
   "metadata": {},
   "outputs": [
    {
     "data": {
      "text/plain": [
       "578      9724.53000\n",
       "610      8547.69130\n",
       "569     45702.02235\n",
       "1034    12950.07120\n",
       "198      9644.25250\n",
       "           ...     \n",
       "1261     3277.16100\n",
       "494     17942.10600\n",
       "97      10226.28420\n",
       "418     14418.28040\n",
       "920     13451.12200\n",
       "Name: charges, Length: 402, dtype: float64"
      ]
     },
     "execution_count": 36,
     "metadata": {},
     "output_type": "execute_result"
    }
   ],
   "source": [
    "\n",
    "y_test"
   ]
  },
  {
   "cell_type": "markdown",
   "id": "2590c701",
   "metadata": {},
   "source": [
    "# accuracy"
   ]
  },
  {
   "cell_type": "code",
   "execution_count": 37,
   "id": "46590a7e",
   "metadata": {},
   "outputs": [],
   "source": [
    "#importing linbrary for calculating accuracy\n",
    "from sklearn.metrics import mean_squared_error,r2_score"
   ]
  },
  {
   "cell_type": "code",
   "execution_count": 38,
   "id": "e86d4cdd",
   "metadata": {},
   "outputs": [],
   "source": [
    "accuracy=r2_score(y_test,predicted_test)"
   ]
  },
  {
   "cell_type": "code",
   "execution_count": 39,
   "id": "66e44d78",
   "metadata": {},
   "outputs": [
    {
     "data": {
      "text/plain": [
       "0.7907514220754801"
      ]
     },
     "execution_count": 39,
     "metadata": {},
     "output_type": "execute_result"
    }
   ],
   "source": [
    "accuracy"
   ]
  },
  {
   "cell_type": "code",
   "execution_count": 40,
   "id": "ac80c015",
   "metadata": {},
   "outputs": [],
   "source": [
    "mean=mean_squared_error(y_test,predicted_test)"
   ]
  },
  {
   "cell_type": "code",
   "execution_count": 41,
   "id": "d72da505",
   "metadata": {},
   "outputs": [
    {
     "data": {
      "text/plain": [
       "33368758.796567176"
      ]
     },
     "execution_count": 41,
     "metadata": {},
     "output_type": "execute_result"
    }
   ],
   "source": [
    "mean"
   ]
  },
  {
   "cell_type": "markdown",
   "id": "285d8794",
   "metadata": {},
   "source": [
    "#  Decision tree\n",
    "A decision tree is a non-parametric supervised learning algorithm for classification and regression tasks. It has a hierarchical tree structure consisting of a root node, branches, internal nodes, and leaf nodes. Decision trees are used for classification and regression tasks, providing easy-to-understand models"
   ]
  },
  {
   "cell_type": "code",
   "execution_count": 42,
   "id": "47c98f3a",
   "metadata": {},
   "outputs": [
    {
     "data": {
      "text/html": [
       "<div>\n",
       "<style scoped>\n",
       "    .dataframe tbody tr th:only-of-type {\n",
       "        vertical-align: middle;\n",
       "    }\n",
       "\n",
       "    .dataframe tbody tr th {\n",
       "        vertical-align: top;\n",
       "    }\n",
       "\n",
       "    .dataframe thead th {\n",
       "        text-align: right;\n",
       "    }\n",
       "</style>\n",
       "<table border=\"1\" class=\"dataframe\">\n",
       "  <thead>\n",
       "    <tr style=\"text-align: right;\">\n",
       "      <th></th>\n",
       "      <th>age</th>\n",
       "      <th>sex</th>\n",
       "      <th>bmi</th>\n",
       "      <th>children</th>\n",
       "      <th>smoker</th>\n",
       "      <th>region</th>\n",
       "    </tr>\n",
       "  </thead>\n",
       "  <tbody>\n",
       "    <tr>\n",
       "      <th>0</th>\n",
       "      <td>19</td>\n",
       "      <td>1</td>\n",
       "      <td>27.900</td>\n",
       "      <td>0</td>\n",
       "      <td>0</td>\n",
       "      <td>1</td>\n",
       "    </tr>\n",
       "    <tr>\n",
       "      <th>1</th>\n",
       "      <td>18</td>\n",
       "      <td>0</td>\n",
       "      <td>33.770</td>\n",
       "      <td>1</td>\n",
       "      <td>1</td>\n",
       "      <td>0</td>\n",
       "    </tr>\n",
       "    <tr>\n",
       "      <th>2</th>\n",
       "      <td>28</td>\n",
       "      <td>0</td>\n",
       "      <td>33.000</td>\n",
       "      <td>3</td>\n",
       "      <td>1</td>\n",
       "      <td>0</td>\n",
       "    </tr>\n",
       "    <tr>\n",
       "      <th>3</th>\n",
       "      <td>33</td>\n",
       "      <td>0</td>\n",
       "      <td>22.705</td>\n",
       "      <td>0</td>\n",
       "      <td>1</td>\n",
       "      <td>3</td>\n",
       "    </tr>\n",
       "    <tr>\n",
       "      <th>4</th>\n",
       "      <td>32</td>\n",
       "      <td>0</td>\n",
       "      <td>28.880</td>\n",
       "      <td>0</td>\n",
       "      <td>1</td>\n",
       "      <td>3</td>\n",
       "    </tr>\n",
       "    <tr>\n",
       "      <th>...</th>\n",
       "      <td>...</td>\n",
       "      <td>...</td>\n",
       "      <td>...</td>\n",
       "      <td>...</td>\n",
       "      <td>...</td>\n",
       "      <td>...</td>\n",
       "    </tr>\n",
       "    <tr>\n",
       "      <th>1333</th>\n",
       "      <td>50</td>\n",
       "      <td>0</td>\n",
       "      <td>30.970</td>\n",
       "      <td>3</td>\n",
       "      <td>1</td>\n",
       "      <td>3</td>\n",
       "    </tr>\n",
       "    <tr>\n",
       "      <th>1334</th>\n",
       "      <td>18</td>\n",
       "      <td>1</td>\n",
       "      <td>31.920</td>\n",
       "      <td>0</td>\n",
       "      <td>1</td>\n",
       "      <td>2</td>\n",
       "    </tr>\n",
       "    <tr>\n",
       "      <th>1335</th>\n",
       "      <td>18</td>\n",
       "      <td>1</td>\n",
       "      <td>36.850</td>\n",
       "      <td>0</td>\n",
       "      <td>1</td>\n",
       "      <td>0</td>\n",
       "    </tr>\n",
       "    <tr>\n",
       "      <th>1336</th>\n",
       "      <td>21</td>\n",
       "      <td>1</td>\n",
       "      <td>25.800</td>\n",
       "      <td>0</td>\n",
       "      <td>1</td>\n",
       "      <td>1</td>\n",
       "    </tr>\n",
       "    <tr>\n",
       "      <th>1337</th>\n",
       "      <td>61</td>\n",
       "      <td>1</td>\n",
       "      <td>29.070</td>\n",
       "      <td>0</td>\n",
       "      <td>0</td>\n",
       "      <td>3</td>\n",
       "    </tr>\n",
       "  </tbody>\n",
       "</table>\n",
       "<p>1338 rows × 6 columns</p>\n",
       "</div>"
      ],
      "text/plain": [
       "      age  sex     bmi  children  smoker  region\n",
       "0      19    1  27.900         0       0       1\n",
       "1      18    0  33.770         1       1       0\n",
       "2      28    0  33.000         3       1       0\n",
       "3      33    0  22.705         0       1       3\n",
       "4      32    0  28.880         0       1       3\n",
       "...   ...  ...     ...       ...     ...     ...\n",
       "1333   50    0  30.970         3       1       3\n",
       "1334   18    1  31.920         0       1       2\n",
       "1335   18    1  36.850         0       1       0\n",
       "1336   21    1  25.800         0       1       1\n",
       "1337   61    1  29.070         0       0       3\n",
       "\n",
       "[1338 rows x 6 columns]"
      ]
     },
     "execution_count": 42,
     "metadata": {},
     "output_type": "execute_result"
    }
   ],
   "source": [
    "x"
   ]
  },
  {
   "cell_type": "code",
   "execution_count": 43,
   "id": "8854bed1",
   "metadata": {},
   "outputs": [
    {
     "data": {
      "text/plain": [
       "0       16884.92400\n",
       "1        1725.55230\n",
       "2        4449.46200\n",
       "3       21984.47061\n",
       "4        3866.85520\n",
       "           ...     \n",
       "1333    10600.54830\n",
       "1334     2205.98080\n",
       "1335     1629.83350\n",
       "1336     2007.94500\n",
       "1337    29141.36030\n",
       "Name: charges, Length: 1338, dtype: float64"
      ]
     },
     "execution_count": 43,
     "metadata": {},
     "output_type": "execute_result"
    }
   ],
   "source": [
    "y"
   ]
  },
  {
   "cell_type": "code",
   "execution_count": 44,
   "id": "6e38769e",
   "metadata": {},
   "outputs": [],
   "source": [
    "#importing the library  decisiontreeregressor\n",
    "from sklearn.tree  import DecisionTreeRegressor"
   ]
  },
  {
   "cell_type": "code",
   "execution_count": 45,
   "id": "d46f6d2d",
   "metadata": {},
   "outputs": [],
   "source": [
    "dc=DecisionTreeRegressor()"
   ]
  },
  {
   "cell_type": "code",
   "execution_count": 46,
   "id": "5a679e7c",
   "metadata": {},
   "outputs": [
    {
     "data": {
      "text/html": [
       "<style>#sk-container-id-2 {color: black;background-color: white;}#sk-container-id-2 pre{padding: 0;}#sk-container-id-2 div.sk-toggleable {background-color: white;}#sk-container-id-2 label.sk-toggleable__label {cursor: pointer;display: block;width: 100%;margin-bottom: 0;padding: 0.3em;box-sizing: border-box;text-align: center;}#sk-container-id-2 label.sk-toggleable__label-arrow:before {content: \"▸\";float: left;margin-right: 0.25em;color: #696969;}#sk-container-id-2 label.sk-toggleable__label-arrow:hover:before {color: black;}#sk-container-id-2 div.sk-estimator:hover label.sk-toggleable__label-arrow:before {color: black;}#sk-container-id-2 div.sk-toggleable__content {max-height: 0;max-width: 0;overflow: hidden;text-align: left;background-color: #f0f8ff;}#sk-container-id-2 div.sk-toggleable__content pre {margin: 0.2em;color: black;border-radius: 0.25em;background-color: #f0f8ff;}#sk-container-id-2 input.sk-toggleable__control:checked~div.sk-toggleable__content {max-height: 200px;max-width: 100%;overflow: auto;}#sk-container-id-2 input.sk-toggleable__control:checked~label.sk-toggleable__label-arrow:before {content: \"▾\";}#sk-container-id-2 div.sk-estimator input.sk-toggleable__control:checked~label.sk-toggleable__label {background-color: #d4ebff;}#sk-container-id-2 div.sk-label input.sk-toggleable__control:checked~label.sk-toggleable__label {background-color: #d4ebff;}#sk-container-id-2 input.sk-hidden--visually {border: 0;clip: rect(1px 1px 1px 1px);clip: rect(1px, 1px, 1px, 1px);height: 1px;margin: -1px;overflow: hidden;padding: 0;position: absolute;width: 1px;}#sk-container-id-2 div.sk-estimator {font-family: monospace;background-color: #f0f8ff;border: 1px dotted black;border-radius: 0.25em;box-sizing: border-box;margin-bottom: 0.5em;}#sk-container-id-2 div.sk-estimator:hover {background-color: #d4ebff;}#sk-container-id-2 div.sk-parallel-item::after {content: \"\";width: 100%;border-bottom: 1px solid gray;flex-grow: 1;}#sk-container-id-2 div.sk-label:hover label.sk-toggleable__label {background-color: #d4ebff;}#sk-container-id-2 div.sk-serial::before {content: \"\";position: absolute;border-left: 1px solid gray;box-sizing: border-box;top: 0;bottom: 0;left: 50%;z-index: 0;}#sk-container-id-2 div.sk-serial {display: flex;flex-direction: column;align-items: center;background-color: white;padding-right: 0.2em;padding-left: 0.2em;position: relative;}#sk-container-id-2 div.sk-item {position: relative;z-index: 1;}#sk-container-id-2 div.sk-parallel {display: flex;align-items: stretch;justify-content: center;background-color: white;position: relative;}#sk-container-id-2 div.sk-item::before, #sk-container-id-2 div.sk-parallel-item::before {content: \"\";position: absolute;border-left: 1px solid gray;box-sizing: border-box;top: 0;bottom: 0;left: 50%;z-index: -1;}#sk-container-id-2 div.sk-parallel-item {display: flex;flex-direction: column;z-index: 1;position: relative;background-color: white;}#sk-container-id-2 div.sk-parallel-item:first-child::after {align-self: flex-end;width: 50%;}#sk-container-id-2 div.sk-parallel-item:last-child::after {align-self: flex-start;width: 50%;}#sk-container-id-2 div.sk-parallel-item:only-child::after {width: 0;}#sk-container-id-2 div.sk-dashed-wrapped {border: 1px dashed gray;margin: 0 0.4em 0.5em 0.4em;box-sizing: border-box;padding-bottom: 0.4em;background-color: white;}#sk-container-id-2 div.sk-label label {font-family: monospace;font-weight: bold;display: inline-block;line-height: 1.2em;}#sk-container-id-2 div.sk-label-container {text-align: center;}#sk-container-id-2 div.sk-container {/* jupyter's `normalize.less` sets `[hidden] { display: none; }` but bootstrap.min.css set `[hidden] { display: none !important; }` so we also need the `!important` here to be able to override the default hidden behavior on the sphinx rendered scikit-learn.org. See: https://github.com/scikit-learn/scikit-learn/issues/21755 */display: inline-block !important;position: relative;}#sk-container-id-2 div.sk-text-repr-fallback {display: none;}</style><div id=\"sk-container-id-2\" class=\"sk-top-container\"><div class=\"sk-text-repr-fallback\"><pre>DecisionTreeRegressor()</pre><b>In a Jupyter environment, please rerun this cell to show the HTML representation or trust the notebook. <br />On GitHub, the HTML representation is unable to render, please try loading this page with nbviewer.org.</b></div><div class=\"sk-container\" hidden><div class=\"sk-item\"><div class=\"sk-estimator sk-toggleable\"><input class=\"sk-toggleable__control sk-hidden--visually\" id=\"sk-estimator-id-2\" type=\"checkbox\" checked><label for=\"sk-estimator-id-2\" class=\"sk-toggleable__label sk-toggleable__label-arrow\">DecisionTreeRegressor</label><div class=\"sk-toggleable__content\"><pre>DecisionTreeRegressor()</pre></div></div></div></div></div>"
      ],
      "text/plain": [
       "DecisionTreeRegressor()"
      ]
     },
     "execution_count": 46,
     "metadata": {},
     "output_type": "execute_result"
    }
   ],
   "source": [
    "dc.fit(x_train,y_train)"
   ]
  },
  {
   "cell_type": "code",
   "execution_count": 47,
   "id": "9e95bbc5",
   "metadata": {},
   "outputs": [],
   "source": [
    "\n",
    "prd1=dc.predict(x_test)"
   ]
  },
  {
   "cell_type": "code",
   "execution_count": 48,
   "id": "53e74835",
   "metadata": {},
   "outputs": [
    {
     "data": {
      "text/plain": [
       "array([10085.846   ,  8823.279   , 44202.6536  , 12741.16745 ,\n",
       "        9264.797   , 21984.47061 ,  2196.4732  , 10381.4787  ,\n",
       "        8965.79575 ,  5693.4305  , 21984.47061 , 30284.64294 ,\n",
       "        6849.026   ,  3704.3545  , 35147.52848 , 10560.4917  ,\n",
       "       12124.9924  ,  2904.088   ,  6455.86265 , 33907.548   ,\n",
       "       24869.8368  , 12495.29085 , 10072.05505 , 28868.6639  ,\n",
       "        1391.5287  ,  4454.40265 ,  4827.90495 ,  7954.517   ,\n",
       "        3757.8448  ,  9411.005   ,  8538.28845 , 48673.5588  ,\n",
       "       13981.85035 , 10594.2257  , 16420.49455 ,  4719.52405 ,\n",
       "        8978.1851  , 44585.45587 , 39983.42595 ,  2020.177   ,\n",
       "        5855.9025  ,  2866.091   , 21659.9301  , 43813.8661  ,\n",
       "       36307.7983  ,  3579.8287  , 26140.3603  ,  6389.37785 ,\n",
       "        4719.52405 , 27117.99378 ,  2855.43755 ,  4296.2712  ,\n",
       "       28868.6639  , 60021.39897 , 11856.4115  , 19673.33573 ,\n",
       "        3392.9768  ,  7518.02535 ,  7726.854   , 13937.6665  ,\n",
       "        1252.407   , 46130.5265  , 12928.7911  ,  8703.456   ,\n",
       "       10141.1362  ,  9875.6804  , 33907.548   , 55135.40209 ,\n",
       "        2585.269   ,  8538.28845 , 12957.118   , 10965.446   ,\n",
       "       16297.846   , 13981.85035 , 12815.44495 , 12815.44495 ,\n",
       "        6250.435   ,  6849.026   , 20773.62775 , 46599.1084  ,\n",
       "       11658.11505 , 46113.511   ,  1639.5631  ,  8825.086   ,\n",
       "       40273.6455  , 19539.243   ,  2904.088   ,  3292.52985 ,\n",
       "       27000.98473 , 36950.2567  ,  6128.79745 , 10436.096   ,\n",
       "        2727.3951  ,  8516.829   ,  6112.35295 ,  4347.02335 ,\n",
       "       41999.52    , 62592.87309 ,  5031.26955 , 11090.7178  ,\n",
       "        1981.5819  ,  6112.35295 ,  3577.999   , 39047.285   ,\n",
       "       37829.7242  ,  4719.73655 , 11070.535   , 19673.33573 ,\n",
       "       11362.755   , 45008.9555  , 12479.70895 ,  4753.6368  ,\n",
       "        8988.15875 , 34617.84065 , 47269.854   ,  7256.7231  ,\n",
       "        1832.094   ,  8442.667   , 36910.60803 , 10407.08585 ,\n",
       "       40941.2854  , 10197.7722  , 13822.803   ,  5693.4305  ,\n",
       "        7624.63    ,  5209.57885 , 38245.59327 , 35069.37452 ,\n",
       "       48673.5588  ,  1646.4297  ,  6849.026   ,  1727.54    ,\n",
       "        5974.3847  ,  8688.85885 , 62592.87309 , 37270.1512  ,\n",
       "       21259.37795 , 10156.7832  , 22218.1149  , 12609.88702 ,\n",
       "        2719.27975 , 10601.63225 ,  8978.1851  , 10923.9332  ,\n",
       "        5227.98875 , 13831.1152  , 36910.60803 , 22395.74424 ,\n",
       "        1628.4709  , 10942.13205 ,  7144.86265 , 38792.6856  ,\n",
       "        8835.26495 , 21344.8467  ,  2217.46915 ,  6238.298   ,\n",
       "        1639.5631  ,  1711.0268  , 10600.5483  , 11015.1747  ,\n",
       "        4922.9159  , 13470.86    , 12815.44495 ,  9048.0273  ,\n",
       "        4134.08245 , 24671.66334 , 20167.33603 ,  5693.4305  ,\n",
       "        4237.12655 ,  1634.5734  , 19442.3535  ,  4133.64165 ,\n",
       "       32108.66282 ,  2416.955   ,  4449.462   , 24671.66334 ,\n",
       "        4827.90495 ,  5855.9025  , 25309.489   ,  1705.6245  ,\n",
       "       12495.29085 ,  7281.5056  , 11945.1327  ,  2497.0383  ,\n",
       "       21984.47061 , 29330.98315 ,  1639.5631  ,  2331.519   ,\n",
       "       14410.9321  , 10043.249   , 41919.097   ,  3877.30425 ,\n",
       "        5002.7827  , 21978.6769  ,  3021.80915 ,  1815.8759  ,\n",
       "        6203.90175 , 12404.8791  ,  3471.4096  ,  4454.40265 ,\n",
       "       10923.9332  , 47055.5321  , 12495.29085 , 19040.876   ,\n",
       "        4922.9159  , 41676.0811  ,  3484.331   ,  9487.6442  ,\n",
       "        4889.9995  ,  1146.7966  ,  8835.26495 , 13880.949   ,\n",
       "        4133.64165 ,  2473.3341  ,  6289.7549  ,  1815.8759  ,\n",
       "        6748.5912  , 21984.47061 , 14001.1338  ,  6933.24225 ,\n",
       "        5934.3798  ,  8965.79575 , 21232.18226 ,  3176.8159  ,\n",
       "       12231.6136  , 14410.9321  , 12949.1554  , 11931.12525 ,\n",
       "        6338.0756  ,  2302.3     , 21344.8467  ,  8083.9198  ,\n",
       "       21797.0004  , 24671.66334 ,  4931.647   ,  6600.361   ,\n",
       "       28340.18885 , 34617.84065 ,  6123.5688  , 12096.6512  ,\n",
       "        5649.715   , 38344.566   ,  7162.0122  ,  7419.4779  ,\n",
       "       32108.66282 , 10072.05505 ,  2221.56445 ,  8823.98575 ,\n",
       "        1515.3449  ,  6600.20595 , 19107.7796  , 47291.055   ,\n",
       "        3877.30425 ,  3227.1211  ,  2200.83085 ,  1704.70015 ,\n",
       "        8240.5896  ,  7882.429475, 24671.66334 ,  3847.674   ,\n",
       "        9193.8385  , 24535.69855 , 47291.055   , 15612.19335 ,\n",
       "        6393.60345 , 10982.5013  , 44585.45587 , 10407.08585 ,\n",
       "       39047.285   ,  1137.011   , 37484.4493  ,  5253.524   ,\n",
       "       11938.25595 ,  3594.17085 , 39774.2763  ,  6112.35295 ,\n",
       "        9487.6442  , 10096.97    ,  1639.5631  , 27000.98473 ,\n",
       "       12224.35085 ,  5989.52365 , 13143.33665 , 21344.8467  ,\n",
       "        6123.5688  ,  4466.6214  , 23563.01618 , 21880.82    ,\n",
       "        3392.9768  ,  1705.6245  ,  3077.0955  , 47896.79135 ,\n",
       "        7518.02535 ,  4357.04365 , 12495.29085 , 10923.9332  ,\n",
       "       34439.8559  ,  6238.298   ,  5240.765   ,  9386.1613  ,\n",
       "        1639.5631  ,  3056.3881  , 32734.1863  , 17663.1442  ,\n",
       "       13352.0998  ,  2302.3     ,  3227.1211  ,  9101.798   ,\n",
       "       10564.8845  , 13747.87235 , 20234.85475 , 18963.17192 ,\n",
       "       15359.1045  ,  2459.7201  ,  5400.9805  ,  4399.731   ,\n",
       "        7419.4779  ,  2304.0022  ,  7518.02535 , 44202.6536  ,\n",
       "        3579.8287  ,  4922.9159  ,  2196.4732  ,  8280.6227  ,\n",
       "        3353.284   , 27117.99378 , 47055.5321  , 18765.87545 ,\n",
       "        9288.0267  , 41949.2441  , 29186.48236 ,  4922.9159  ,\n",
       "        9872.701   ,  4466.6214  , 27533.9129  ,  4350.5144  ,\n",
       "       13129.60345 ,  1832.094   , 15518.18025 ,  3176.8159  ,\n",
       "       24667.419   ,  5400.9805  ,  2775.19215 , 44501.3982  ,\n",
       "        5152.134   ,  4889.0368  , 25309.489   , 16586.49771 ,\n",
       "       32108.66282 ,  2639.0429  , 11299.343   ,  3208.787   ,\n",
       "        6666.243   ,  4949.7587  , 44641.1974  ,  6250.435   ,\n",
       "       62592.87309 , 37484.4493  ,  5488.262   ,  8538.28845 ,\n",
       "        1632.56445 ,  3161.454   ,  3481.868   ,  8068.185   ,\n",
       "       44423.803   , 11830.6072  ,  1731.677   , 12124.9924  ,\n",
       "        2134.9015  , 17929.30337 ,  4337.7352  ,  2416.955   ,\n",
       "        3392.3652  , 36307.7983  ,  6933.24225 ,  1615.7667  ,\n",
       "       39774.2763  ,  9850.432   , 41919.097   , 11830.6072  ,\n",
       "        4454.40265 ,  2775.19215 ,  1906.35825 ,  8703.456   ,\n",
       "        5003.853   ,  2203.73595 , 10072.05505 ,  7640.3092  ,\n",
       "        5979.731   ,  3877.30425 , 12609.88702 , 44585.45587 ,\n",
       "        1639.5631  ,  8601.3293  ,  7882.429475, 28476.73499 ,\n",
       "       11090.7178  ,  3693.428   , 18223.4512  , 10594.2257  ,\n",
       "       16085.1275  , 12957.118   ])"
      ]
     },
     "execution_count": 48,
     "metadata": {},
     "output_type": "execute_result"
    }
   ],
   "source": [
    "prd1"
   ]
  },
  {
   "cell_type": "code",
   "execution_count": 49,
   "id": "8813abec",
   "metadata": {},
   "outputs": [
    {
     "data": {
      "text/plain": [
       "578      9724.53000\n",
       "610      8547.69130\n",
       "569     45702.02235\n",
       "1034    12950.07120\n",
       "198      9644.25250\n",
       "           ...     \n",
       "1261     3277.16100\n",
       "494     17942.10600\n",
       "97      10226.28420\n",
       "418     14418.28040\n",
       "920     13451.12200\n",
       "Name: charges, Length: 402, dtype: float64"
      ]
     },
     "execution_count": 49,
     "metadata": {},
     "output_type": "execute_result"
    }
   ],
   "source": [
    "y_test"
   ]
  },
  {
   "cell_type": "code",
   "execution_count": 50,
   "id": "08ee9a52",
   "metadata": {},
   "outputs": [],
   "source": [
    "accuracy1=r2_score(y_test,prd1)"
   ]
  },
  {
   "cell_type": "code",
   "execution_count": 51,
   "id": "2344f654",
   "metadata": {},
   "outputs": [
    {
     "data": {
      "text/plain": [
       "0.6945654543958901"
      ]
     },
     "execution_count": 51,
     "metadata": {},
     "output_type": "execute_result"
    }
   ],
   "source": [
    "accuracy1"
   ]
  },
  {
   "cell_type": "code",
   "execution_count": 52,
   "id": "1cd131ed",
   "metadata": {},
   "outputs": [],
   "source": [
    "mean1=mean_squared_error(y_test,prd1)"
   ]
  },
  {
   "cell_type": "code",
   "execution_count": 53,
   "id": "d01cf5b4",
   "metadata": {},
   "outputs": [
    {
     "data": {
      "text/plain": [
       "48707483.61348045"
      ]
     },
     "execution_count": 53,
     "metadata": {},
     "output_type": "execute_result"
    }
   ],
   "source": [
    "mean1"
   ]
  },
  {
   "cell_type": "markdown",
   "id": "6b287abf",
   "metadata": {},
   "source": [
    "# random forest\n",
    "Random Forest is a popular machine learning algorithm that belongs to the supervised learning technique. It can be used for both Classification and Regression problems in ML. It is based on the concept of ensemble learning, which is a process of combining multiple classifiers to solve a complex problem and to improve the performance of the model."
   ]
  },
  {
   "cell_type": "code",
   "execution_count": 54,
   "id": "eca570c8",
   "metadata": {},
   "outputs": [
    {
     "data": {
      "text/html": [
       "<div>\n",
       "<style scoped>\n",
       "    .dataframe tbody tr th:only-of-type {\n",
       "        vertical-align: middle;\n",
       "    }\n",
       "\n",
       "    .dataframe tbody tr th {\n",
       "        vertical-align: top;\n",
       "    }\n",
       "\n",
       "    .dataframe thead th {\n",
       "        text-align: right;\n",
       "    }\n",
       "</style>\n",
       "<table border=\"1\" class=\"dataframe\">\n",
       "  <thead>\n",
       "    <tr style=\"text-align: right;\">\n",
       "      <th></th>\n",
       "      <th>age</th>\n",
       "      <th>sex</th>\n",
       "      <th>bmi</th>\n",
       "      <th>children</th>\n",
       "      <th>smoker</th>\n",
       "      <th>region</th>\n",
       "    </tr>\n",
       "  </thead>\n",
       "  <tbody>\n",
       "    <tr>\n",
       "      <th>0</th>\n",
       "      <td>19</td>\n",
       "      <td>1</td>\n",
       "      <td>27.900</td>\n",
       "      <td>0</td>\n",
       "      <td>0</td>\n",
       "      <td>1</td>\n",
       "    </tr>\n",
       "    <tr>\n",
       "      <th>1</th>\n",
       "      <td>18</td>\n",
       "      <td>0</td>\n",
       "      <td>33.770</td>\n",
       "      <td>1</td>\n",
       "      <td>1</td>\n",
       "      <td>0</td>\n",
       "    </tr>\n",
       "    <tr>\n",
       "      <th>2</th>\n",
       "      <td>28</td>\n",
       "      <td>0</td>\n",
       "      <td>33.000</td>\n",
       "      <td>3</td>\n",
       "      <td>1</td>\n",
       "      <td>0</td>\n",
       "    </tr>\n",
       "    <tr>\n",
       "      <th>3</th>\n",
       "      <td>33</td>\n",
       "      <td>0</td>\n",
       "      <td>22.705</td>\n",
       "      <td>0</td>\n",
       "      <td>1</td>\n",
       "      <td>3</td>\n",
       "    </tr>\n",
       "    <tr>\n",
       "      <th>4</th>\n",
       "      <td>32</td>\n",
       "      <td>0</td>\n",
       "      <td>28.880</td>\n",
       "      <td>0</td>\n",
       "      <td>1</td>\n",
       "      <td>3</td>\n",
       "    </tr>\n",
       "    <tr>\n",
       "      <th>...</th>\n",
       "      <td>...</td>\n",
       "      <td>...</td>\n",
       "      <td>...</td>\n",
       "      <td>...</td>\n",
       "      <td>...</td>\n",
       "      <td>...</td>\n",
       "    </tr>\n",
       "    <tr>\n",
       "      <th>1333</th>\n",
       "      <td>50</td>\n",
       "      <td>0</td>\n",
       "      <td>30.970</td>\n",
       "      <td>3</td>\n",
       "      <td>1</td>\n",
       "      <td>3</td>\n",
       "    </tr>\n",
       "    <tr>\n",
       "      <th>1334</th>\n",
       "      <td>18</td>\n",
       "      <td>1</td>\n",
       "      <td>31.920</td>\n",
       "      <td>0</td>\n",
       "      <td>1</td>\n",
       "      <td>2</td>\n",
       "    </tr>\n",
       "    <tr>\n",
       "      <th>1335</th>\n",
       "      <td>18</td>\n",
       "      <td>1</td>\n",
       "      <td>36.850</td>\n",
       "      <td>0</td>\n",
       "      <td>1</td>\n",
       "      <td>0</td>\n",
       "    </tr>\n",
       "    <tr>\n",
       "      <th>1336</th>\n",
       "      <td>21</td>\n",
       "      <td>1</td>\n",
       "      <td>25.800</td>\n",
       "      <td>0</td>\n",
       "      <td>1</td>\n",
       "      <td>1</td>\n",
       "    </tr>\n",
       "    <tr>\n",
       "      <th>1337</th>\n",
       "      <td>61</td>\n",
       "      <td>1</td>\n",
       "      <td>29.070</td>\n",
       "      <td>0</td>\n",
       "      <td>0</td>\n",
       "      <td>3</td>\n",
       "    </tr>\n",
       "  </tbody>\n",
       "</table>\n",
       "<p>1338 rows × 6 columns</p>\n",
       "</div>"
      ],
      "text/plain": [
       "      age  sex     bmi  children  smoker  region\n",
       "0      19    1  27.900         0       0       1\n",
       "1      18    0  33.770         1       1       0\n",
       "2      28    0  33.000         3       1       0\n",
       "3      33    0  22.705         0       1       3\n",
       "4      32    0  28.880         0       1       3\n",
       "...   ...  ...     ...       ...     ...     ...\n",
       "1333   50    0  30.970         3       1       3\n",
       "1334   18    1  31.920         0       1       2\n",
       "1335   18    1  36.850         0       1       0\n",
       "1336   21    1  25.800         0       1       1\n",
       "1337   61    1  29.070         0       0       3\n",
       "\n",
       "[1338 rows x 6 columns]"
      ]
     },
     "execution_count": 54,
     "metadata": {},
     "output_type": "execute_result"
    }
   ],
   "source": [
    "x"
   ]
  },
  {
   "cell_type": "code",
   "execution_count": 55,
   "id": "f1359b5d",
   "metadata": {},
   "outputs": [
    {
     "data": {
      "text/plain": [
       "0       16884.92400\n",
       "1        1725.55230\n",
       "2        4449.46200\n",
       "3       21984.47061\n",
       "4        3866.85520\n",
       "           ...     \n",
       "1333    10600.54830\n",
       "1334     2205.98080\n",
       "1335     1629.83350\n",
       "1336     2007.94500\n",
       "1337    29141.36030\n",
       "Name: charges, Length: 1338, dtype: float64"
      ]
     },
     "execution_count": 55,
     "metadata": {},
     "output_type": "execute_result"
    }
   ],
   "source": [
    "y"
   ]
  },
  {
   "cell_type": "code",
   "execution_count": 56,
   "id": "eed79f55",
   "metadata": {},
   "outputs": [],
   "source": [
    "#importing the library\n",
    "from sklearn.ensemble import RandomForestRegressor"
   ]
  },
  {
   "cell_type": "code",
   "execution_count": 57,
   "id": "cd31c37f",
   "metadata": {},
   "outputs": [],
   "source": [
    "rd=RandomForestRegressor(n_estimators=40)"
   ]
  },
  {
   "cell_type": "code",
   "execution_count": 58,
   "id": "bb7f23b2",
   "metadata": {},
   "outputs": [
    {
     "data": {
      "text/html": [
       "<style>#sk-container-id-3 {color: black;background-color: white;}#sk-container-id-3 pre{padding: 0;}#sk-container-id-3 div.sk-toggleable {background-color: white;}#sk-container-id-3 label.sk-toggleable__label {cursor: pointer;display: block;width: 100%;margin-bottom: 0;padding: 0.3em;box-sizing: border-box;text-align: center;}#sk-container-id-3 label.sk-toggleable__label-arrow:before {content: \"▸\";float: left;margin-right: 0.25em;color: #696969;}#sk-container-id-3 label.sk-toggleable__label-arrow:hover:before {color: black;}#sk-container-id-3 div.sk-estimator:hover label.sk-toggleable__label-arrow:before {color: black;}#sk-container-id-3 div.sk-toggleable__content {max-height: 0;max-width: 0;overflow: hidden;text-align: left;background-color: #f0f8ff;}#sk-container-id-3 div.sk-toggleable__content pre {margin: 0.2em;color: black;border-radius: 0.25em;background-color: #f0f8ff;}#sk-container-id-3 input.sk-toggleable__control:checked~div.sk-toggleable__content {max-height: 200px;max-width: 100%;overflow: auto;}#sk-container-id-3 input.sk-toggleable__control:checked~label.sk-toggleable__label-arrow:before {content: \"▾\";}#sk-container-id-3 div.sk-estimator input.sk-toggleable__control:checked~label.sk-toggleable__label {background-color: #d4ebff;}#sk-container-id-3 div.sk-label input.sk-toggleable__control:checked~label.sk-toggleable__label {background-color: #d4ebff;}#sk-container-id-3 input.sk-hidden--visually {border: 0;clip: rect(1px 1px 1px 1px);clip: rect(1px, 1px, 1px, 1px);height: 1px;margin: -1px;overflow: hidden;padding: 0;position: absolute;width: 1px;}#sk-container-id-3 div.sk-estimator {font-family: monospace;background-color: #f0f8ff;border: 1px dotted black;border-radius: 0.25em;box-sizing: border-box;margin-bottom: 0.5em;}#sk-container-id-3 div.sk-estimator:hover {background-color: #d4ebff;}#sk-container-id-3 div.sk-parallel-item::after {content: \"\";width: 100%;border-bottom: 1px solid gray;flex-grow: 1;}#sk-container-id-3 div.sk-label:hover label.sk-toggleable__label {background-color: #d4ebff;}#sk-container-id-3 div.sk-serial::before {content: \"\";position: absolute;border-left: 1px solid gray;box-sizing: border-box;top: 0;bottom: 0;left: 50%;z-index: 0;}#sk-container-id-3 div.sk-serial {display: flex;flex-direction: column;align-items: center;background-color: white;padding-right: 0.2em;padding-left: 0.2em;position: relative;}#sk-container-id-3 div.sk-item {position: relative;z-index: 1;}#sk-container-id-3 div.sk-parallel {display: flex;align-items: stretch;justify-content: center;background-color: white;position: relative;}#sk-container-id-3 div.sk-item::before, #sk-container-id-3 div.sk-parallel-item::before {content: \"\";position: absolute;border-left: 1px solid gray;box-sizing: border-box;top: 0;bottom: 0;left: 50%;z-index: -1;}#sk-container-id-3 div.sk-parallel-item {display: flex;flex-direction: column;z-index: 1;position: relative;background-color: white;}#sk-container-id-3 div.sk-parallel-item:first-child::after {align-self: flex-end;width: 50%;}#sk-container-id-3 div.sk-parallel-item:last-child::after {align-self: flex-start;width: 50%;}#sk-container-id-3 div.sk-parallel-item:only-child::after {width: 0;}#sk-container-id-3 div.sk-dashed-wrapped {border: 1px dashed gray;margin: 0 0.4em 0.5em 0.4em;box-sizing: border-box;padding-bottom: 0.4em;background-color: white;}#sk-container-id-3 div.sk-label label {font-family: monospace;font-weight: bold;display: inline-block;line-height: 1.2em;}#sk-container-id-3 div.sk-label-container {text-align: center;}#sk-container-id-3 div.sk-container {/* jupyter's `normalize.less` sets `[hidden] { display: none; }` but bootstrap.min.css set `[hidden] { display: none !important; }` so we also need the `!important` here to be able to override the default hidden behavior on the sphinx rendered scikit-learn.org. See: https://github.com/scikit-learn/scikit-learn/issues/21755 */display: inline-block !important;position: relative;}#sk-container-id-3 div.sk-text-repr-fallback {display: none;}</style><div id=\"sk-container-id-3\" class=\"sk-top-container\"><div class=\"sk-text-repr-fallback\"><pre>RandomForestRegressor(n_estimators=40)</pre><b>In a Jupyter environment, please rerun this cell to show the HTML representation or trust the notebook. <br />On GitHub, the HTML representation is unable to render, please try loading this page with nbviewer.org.</b></div><div class=\"sk-container\" hidden><div class=\"sk-item\"><div class=\"sk-estimator sk-toggleable\"><input class=\"sk-toggleable__control sk-hidden--visually\" id=\"sk-estimator-id-3\" type=\"checkbox\" checked><label for=\"sk-estimator-id-3\" class=\"sk-toggleable__label sk-toggleable__label-arrow\">RandomForestRegressor</label><div class=\"sk-toggleable__content\"><pre>RandomForestRegressor(n_estimators=40)</pre></div></div></div></div></div>"
      ],
      "text/plain": [
       "RandomForestRegressor(n_estimators=40)"
      ]
     },
     "execution_count": 58,
     "metadata": {},
     "output_type": "execute_result"
    }
   ],
   "source": [
    "rd.fit(x_train,y_train)"
   ]
  },
  {
   "cell_type": "code",
   "execution_count": 59,
   "id": "53fab0fc",
   "metadata": {},
   "outputs": [],
   "source": [
    "prd2=rd.predict(x_test)"
   ]
  },
  {
   "cell_type": "code",
   "execution_count": 60,
   "id": "91c9e71a",
   "metadata": {},
   "outputs": [
    {
     "data": {
      "text/plain": [
       "array([10191.0294795 ,  9677.33809875, 45145.83587475, 13599.63012125,\n",
       "       10384.48079625, 11314.76882425,  3240.90036975, 12354.03356125,\n",
       "        7612.09989125,  6432.7942605 ,  6410.036758  , 18991.20667325,\n",
       "        9473.97587425,  6924.0766595 , 25977.30028975, 12952.4449895 ,\n",
       "       16129.76525825,  4736.56275175,  6396.05526625, 34216.01938375,\n",
       "       24014.48652875, 17522.6655675 , 10311.46871825, 28134.7429635 ,\n",
       "        3247.404735  ,  9318.0635075 ,  5545.64701775,  7983.90613325,\n",
       "        3716.03442125, 10690.157277  ,  7958.4514795 , 47973.89502   ,\n",
       "       14048.86801125, 11256.4659285 , 15437.9422575 ,  3870.55546   ,\n",
       "        9092.0638135 , 37325.707601  , 39996.197175  ,  3136.7891465 ,\n",
       "        9768.265069  ,  3492.14103525, 20434.42196875, 47582.605743  ,\n",
       "       36818.17600625,  3688.1546095 , 13319.7819405 ,  6737.50088875,\n",
       "        4723.92197125, 14462.49598825,  3895.6891425 ,  4545.9020205 ,\n",
       "       26035.804731  , 47204.325459  , 11608.97381375, 12569.8794635 ,\n",
       "        5171.77244275, 14181.2418335 , 11989.46746975, 17737.1848235 ,\n",
       "        2031.38808075, 48680.30346725, 16755.406435  , 14118.40431775,\n",
       "       13562.70782225, 10168.82115975, 34112.0875825 , 42546.44999775,\n",
       "        4920.328224  , 14609.669966  , 16995.83685275, 12502.1658745 ,\n",
       "       17030.80571225, 14135.2783015 , 15192.08909875, 16201.39662075,\n",
       "        9107.67374275, 11877.61827825, 19819.861275  , 46520.06944   ,\n",
       "       11553.9067625 , 51009.7766805 ,  4144.8821265 ,  9138.298539  ,\n",
       "       40645.39692   , 19314.71989375,  4098.9625755 ,  3127.65203175,\n",
       "       14035.498222  , 39132.550126  , 11988.4764105 , 12137.44714725,\n",
       "        4664.09348275,  9662.350948  ,  9959.22880475,  5464.220311  ,\n",
       "       42655.15120375, 51859.01139075,  6312.166194  , 11132.57257   ,\n",
       "        2565.2324455 , 10177.92146125,  7508.3907205 , 38790.64929875,\n",
       "       25405.82936775,  5087.654749  , 11039.75930125, 12055.57316675,\n",
       "       11664.2750825 , 45563.807905  , 12557.01251725,  7097.0441415 ,\n",
       "        9938.43576775, 34431.134265  , 47434.35712625,  7062.517495  ,\n",
       "        2014.68503   , 11925.410298  , 22821.45037775, 11707.89083775,\n",
       "       41384.98397   , 11571.148755  , 14035.687095  , 13829.402678  ,\n",
       "        9133.73755875,  7151.68432   , 26911.45801325, 26385.99672625,\n",
       "       48191.74921875,  1779.94325125, 11840.5284635 ,  2847.1925045 ,\n",
       "        6239.5040945 , 10424.0319615 , 43719.76116075, 37453.52713625,\n",
       "       25529.200412  , 13756.41344025, 24989.62758925,  6834.143005  ,\n",
       "        2287.92363625, 12605.54333   , 10034.00492225, 11394.29679875,\n",
       "        5985.64327675, 13902.9883025 , 21856.7896715 , 11135.7637785 ,\n",
       "        1630.2082675 , 12909.8782875 ,  6497.515623  , 38890.46267175,\n",
       "       10216.592537  ,  6618.2600795 ,  3995.82039375,  6977.59636375,\n",
       "        3566.32231125,  4544.76580325, 11366.415907  ,  9900.8524495 ,\n",
       "       12359.63945825, 13176.3076775 , 15875.17519175,  9725.24713475,\n",
       "        5447.218562  , 15169.62932225, 18563.62125225,  8751.35058125,\n",
       "        4878.989407  ,  1889.02079062, 12694.89752875,  5372.66542125,\n",
       "       13961.87459875,  3114.66839425,  8622.639568  ,  8502.2829405 ,\n",
       "        7617.808007  ,  7813.63002175, 26962.18228125,  1989.91208475,\n",
       "       16225.0413095 ,  6667.15333875, 11463.60242875,  4054.27812975,\n",
       "        7238.774105  , 28275.40483175,  3237.7163245 ,  2518.0566575 ,\n",
       "       14206.30373   , 13689.90943225, 41305.310155  ,  3685.6729475 ,\n",
       "        5399.12872725, 24982.2900205 ,  4010.15545575,  4983.9832505 ,\n",
       "       10395.65631475, 12170.6385745 ,  5706.21369775,  4370.6730175 ,\n",
       "       11593.43331925, 46914.695516  , 16600.57383625, 19355.02785875,\n",
       "       12330.06730725, 43316.59731975,  6406.1400015 , 11049.97296325,\n",
       "        5694.96866875,  1274.74396875,  9366.631991  , 13690.4968175 ,\n",
       "        6789.33832425,  5474.882264  ,  6570.1595525 ,  8988.29049225,\n",
       "        6473.81302375,  6832.3050085 , 14684.89716075,  6840.1245275 ,\n",
       "        6814.42215725,  7857.7940425 , 16074.86807825,  5266.3944515 ,\n",
       "       12684.7848565 , 15011.3898425 , 16610.34516975, 11806.565935  ,\n",
       "        8611.64571   ,  3164.83901725,  6608.05593475,  8835.77415975,\n",
       "       15119.82552125,  6433.3000685 ,  6318.830792  ,  6978.9301225 ,\n",
       "       12328.60844375, 34554.56101625,  5966.69915375, 13514.84198975,\n",
       "        6709.25198   , 38862.965152  ,  7175.23966125,  8843.088546  ,\n",
       "       13827.96965275, 11050.62005425,  3709.20715625, 10774.3497515 ,\n",
       "        2361.13415625,  7076.08464175, 19620.5786725 , 46759.89803   ,\n",
       "        4542.1515355 ,  3840.1401005 ,  6392.79221325,  1952.1460085 ,\n",
       "        8600.6133555 ,  3342.01342154, 12721.22416475, 11032.73615875,\n",
       "        9064.259606  , 24916.372038  , 46001.1723725 , 15207.12860875,\n",
       "        6800.46640475, 11524.0756    , 44588.33279575,  9574.38330975,\n",
       "       39350.70824375,  2101.6634225 , 38609.45263   ,  5205.5957405 ,\n",
       "       12175.71431   ,  6768.95254775, 39995.19918475,  8102.66005   ,\n",
       "       10449.1923525 , 11052.98345275,  3925.0819715 , 16833.47192875,\n",
       "       12318.75222275, 10118.45942125, 16624.043711  , 15143.84061125,\n",
       "        7728.5018385 ,  4152.1053185 , 12793.4978105 , 22672.31585725,\n",
       "        3741.48884375,  1982.03124475,  2859.52029875, 46409.41217875,\n",
       "       10655.12694125,  5688.015516  , 17430.726302  , 12319.51771275,\n",
       "       34464.7206825 ,  6984.3625245 ,  5449.684016  ,  9275.028759  ,\n",
       "        2120.41832275,  5318.451008  , 20394.57414875, 17383.73813825,\n",
       "       13948.4229535 ,  2915.10627125,  3023.388105  , 11780.13459225,\n",
       "        9674.8474375 , 14737.7332025 , 20361.2417875 ,  7344.00711575,\n",
       "       15963.03745825,  3594.19427875,  9637.584513  ,  6847.2661315 ,\n",
       "       17383.449198  ,  2282.49305125,  9009.9254005 , 47017.76455175,\n",
       "        4343.62798725,  9534.85938   ,  2576.16537625, 11390.2752655 ,\n",
       "        5410.7138535 , 14009.07626525, 47270.2317785 , 17496.845305  ,\n",
       "        9659.941021  , 43101.9982435 , 17075.76282325, 12378.0464685 ,\n",
       "        9425.534205  ,  4361.14707375, 28510.1005925 ,  4697.683554  ,\n",
       "       13340.82653375,  2050.33721125, 17171.99298225,  3107.75229875,\n",
       "       24142.52841875,  8867.63748875,  5334.72122075, 40359.36042025,\n",
       "        6315.072851  ,  4774.35473375, 30803.085526  ,  3388.720765  ,\n",
       "       10764.6716505 ,  3398.65766675, 12516.403465  ,  3783.3247035 ,\n",
       "        7952.103627  ,  6085.15409325, 44859.7948195 , 12378.7670465 ,\n",
       "       47462.27471825, 37868.822192  ,  6188.35005575, 14198.82337875,\n",
       "        2252.3525075 ,  4787.59363725,  3565.64434125, 11549.161539  ,\n",
       "       45408.66495075, 11343.8838675 ,  1754.68449   , 13599.68245575,\n",
       "        2271.67401625, 13762.08740225,  9000.5089475 ,  2899.04322125,\n",
       "        3111.45043625, 38126.62930675,  6783.8223875 ,  2250.7247835 ,\n",
       "       40981.614736  , 15911.13517375, 42522.3733505 , 11658.61828625,\n",
       "       10067.5398955 ,  4093.79113425,  2785.46920125, 13892.2861985 ,\n",
       "        5720.65283075,  4072.865262  , 11131.537707  ,  7536.19351825,\n",
       "        6099.020955  ,  5864.29898025,  7492.43031225, 42372.94975025,\n",
       "        3711.23954175, 12202.7108325 ,  5842.44879721, 18953.55917725,\n",
       "       11097.738245  ,  7317.41732375, 17632.45317525, 14072.90278025,\n",
       "       18909.52774675, 16039.56502625])"
      ]
     },
     "execution_count": 60,
     "metadata": {},
     "output_type": "execute_result"
    }
   ],
   "source": [
    "prd2"
   ]
  },
  {
   "cell_type": "code",
   "execution_count": 61,
   "id": "adf02333",
   "metadata": {},
   "outputs": [],
   "source": [
    "#finding the accuracy\n",
    "accuracy2=r2_score(y_test,prd2)"
   ]
  },
  {
   "cell_type": "code",
   "execution_count": 62,
   "id": "1b2db087",
   "metadata": {},
   "outputs": [
    {
     "data": {
      "text/plain": [
       "0.8600910922381022"
      ]
     },
     "execution_count": 62,
     "metadata": {},
     "output_type": "execute_result"
    }
   ],
   "source": [
    "accuracy2"
   ]
  },
  {
   "cell_type": "code",
   "execution_count": 63,
   "id": "03d24907",
   "metadata": {},
   "outputs": [],
   "source": [
    "mean2=mean_squared_error(y_test,prd2)"
   ]
  },
  {
   "cell_type": "code",
   "execution_count": 64,
   "id": "a15dab3f",
   "metadata": {},
   "outputs": [
    {
     "data": {
      "text/plain": [
       "22311198.68485789"
      ]
     },
     "execution_count": 64,
     "metadata": {},
     "output_type": "execute_result"
    }
   ],
   "source": [
    "mean2"
   ]
  },
  {
   "cell_type": "markdown",
   "id": "a7d206f9",
   "metadata": {},
   "source": [
    "# KNeighborsRegressor\n",
    "Regression based on k-nearest neighbors. The target is predicted by local interpolation of the targets associated of the nearest neighbors in the training set."
   ]
  },
  {
   "cell_type": "code",
   "execution_count": 65,
   "id": "3af2cf1d",
   "metadata": {},
   "outputs": [],
   "source": [
    "from sklearn.neighbors import KNeighborsRegressor\n",
    "from sklearn.model_selection import cross_val_score"
   ]
  },
  {
   "cell_type": "code",
   "execution_count": 66,
   "id": "ae0bdde3",
   "metadata": {},
   "outputs": [],
   "source": [
    "bk=None\n",
    "ba=0"
   ]
  },
  {
   "cell_type": "code",
   "execution_count": 67,
   "id": "12ad4e58",
   "metadata": {},
   "outputs": [
    {
     "name": "stdout",
     "output_type": "stream",
     "text": [
      "-0.5472325986664505\n",
      "-0.16638709049150555\n",
      "-0.041589234007097506\n",
      "-0.028493924562641236\n",
      "-0.006840662338950132\n",
      "0.01353983131494827\n",
      "0.031118319183324018\n",
      "0.045368590454668234\n",
      "0.05775755550968083\n",
      "0.06712195302416804\n"
     ]
    }
   ],
   "source": [
    "for k in range(1, 11):\n",
    "    knn = KNeighborsRegressor(n_neighbors=k)\n",
    "    sc = cross_val_score(knn, x_train, y_train, cv=5 , scoring = \"r2\")\n",
    "    m_a = np.mean(sc)\n",
    "    print(m_a)\n",
    "\n",
    "    if m_a > ba:\n",
    "        ba = m_a\n",
    "        bk = k"
   ]
  },
  {
   "cell_type": "code",
   "execution_count": 68,
   "id": "48e29620",
   "metadata": {},
   "outputs": [
    {
     "data": {
      "text/plain": [
       "(10, 0.06712195302416804)"
      ]
     },
     "execution_count": 68,
     "metadata": {},
     "output_type": "execute_result"
    }
   ],
   "source": [
    "bk,ba"
   ]
  },
  {
   "cell_type": "code",
   "execution_count": 69,
   "id": "55e7db5a",
   "metadata": {},
   "outputs": [],
   "source": [
    "knn = KNeighborsRegressor(n_neighbors=10)"
   ]
  },
  {
   "cell_type": "code",
   "execution_count": 70,
   "id": "2f83dab9",
   "metadata": {},
   "outputs": [
    {
     "data": {
      "text/html": [
       "<style>#sk-container-id-4 {color: black;background-color: white;}#sk-container-id-4 pre{padding: 0;}#sk-container-id-4 div.sk-toggleable {background-color: white;}#sk-container-id-4 label.sk-toggleable__label {cursor: pointer;display: block;width: 100%;margin-bottom: 0;padding: 0.3em;box-sizing: border-box;text-align: center;}#sk-container-id-4 label.sk-toggleable__label-arrow:before {content: \"▸\";float: left;margin-right: 0.25em;color: #696969;}#sk-container-id-4 label.sk-toggleable__label-arrow:hover:before {color: black;}#sk-container-id-4 div.sk-estimator:hover label.sk-toggleable__label-arrow:before {color: black;}#sk-container-id-4 div.sk-toggleable__content {max-height: 0;max-width: 0;overflow: hidden;text-align: left;background-color: #f0f8ff;}#sk-container-id-4 div.sk-toggleable__content pre {margin: 0.2em;color: black;border-radius: 0.25em;background-color: #f0f8ff;}#sk-container-id-4 input.sk-toggleable__control:checked~div.sk-toggleable__content {max-height: 200px;max-width: 100%;overflow: auto;}#sk-container-id-4 input.sk-toggleable__control:checked~label.sk-toggleable__label-arrow:before {content: \"▾\";}#sk-container-id-4 div.sk-estimator input.sk-toggleable__control:checked~label.sk-toggleable__label {background-color: #d4ebff;}#sk-container-id-4 div.sk-label input.sk-toggleable__control:checked~label.sk-toggleable__label {background-color: #d4ebff;}#sk-container-id-4 input.sk-hidden--visually {border: 0;clip: rect(1px 1px 1px 1px);clip: rect(1px, 1px, 1px, 1px);height: 1px;margin: -1px;overflow: hidden;padding: 0;position: absolute;width: 1px;}#sk-container-id-4 div.sk-estimator {font-family: monospace;background-color: #f0f8ff;border: 1px dotted black;border-radius: 0.25em;box-sizing: border-box;margin-bottom: 0.5em;}#sk-container-id-4 div.sk-estimator:hover {background-color: #d4ebff;}#sk-container-id-4 div.sk-parallel-item::after {content: \"\";width: 100%;border-bottom: 1px solid gray;flex-grow: 1;}#sk-container-id-4 div.sk-label:hover label.sk-toggleable__label {background-color: #d4ebff;}#sk-container-id-4 div.sk-serial::before {content: \"\";position: absolute;border-left: 1px solid gray;box-sizing: border-box;top: 0;bottom: 0;left: 50%;z-index: 0;}#sk-container-id-4 div.sk-serial {display: flex;flex-direction: column;align-items: center;background-color: white;padding-right: 0.2em;padding-left: 0.2em;position: relative;}#sk-container-id-4 div.sk-item {position: relative;z-index: 1;}#sk-container-id-4 div.sk-parallel {display: flex;align-items: stretch;justify-content: center;background-color: white;position: relative;}#sk-container-id-4 div.sk-item::before, #sk-container-id-4 div.sk-parallel-item::before {content: \"\";position: absolute;border-left: 1px solid gray;box-sizing: border-box;top: 0;bottom: 0;left: 50%;z-index: -1;}#sk-container-id-4 div.sk-parallel-item {display: flex;flex-direction: column;z-index: 1;position: relative;background-color: white;}#sk-container-id-4 div.sk-parallel-item:first-child::after {align-self: flex-end;width: 50%;}#sk-container-id-4 div.sk-parallel-item:last-child::after {align-self: flex-start;width: 50%;}#sk-container-id-4 div.sk-parallel-item:only-child::after {width: 0;}#sk-container-id-4 div.sk-dashed-wrapped {border: 1px dashed gray;margin: 0 0.4em 0.5em 0.4em;box-sizing: border-box;padding-bottom: 0.4em;background-color: white;}#sk-container-id-4 div.sk-label label {font-family: monospace;font-weight: bold;display: inline-block;line-height: 1.2em;}#sk-container-id-4 div.sk-label-container {text-align: center;}#sk-container-id-4 div.sk-container {/* jupyter's `normalize.less` sets `[hidden] { display: none; }` but bootstrap.min.css set `[hidden] { display: none !important; }` so we also need the `!important` here to be able to override the default hidden behavior on the sphinx rendered scikit-learn.org. See: https://github.com/scikit-learn/scikit-learn/issues/21755 */display: inline-block !important;position: relative;}#sk-container-id-4 div.sk-text-repr-fallback {display: none;}</style><div id=\"sk-container-id-4\" class=\"sk-top-container\"><div class=\"sk-text-repr-fallback\"><pre>KNeighborsRegressor(n_neighbors=10)</pre><b>In a Jupyter environment, please rerun this cell to show the HTML representation or trust the notebook. <br />On GitHub, the HTML representation is unable to render, please try loading this page with nbviewer.org.</b></div><div class=\"sk-container\" hidden><div class=\"sk-item\"><div class=\"sk-estimator sk-toggleable\"><input class=\"sk-toggleable__control sk-hidden--visually\" id=\"sk-estimator-id-4\" type=\"checkbox\" checked><label for=\"sk-estimator-id-4\" class=\"sk-toggleable__label sk-toggleable__label-arrow\">KNeighborsRegressor</label><div class=\"sk-toggleable__content\"><pre>KNeighborsRegressor(n_neighbors=10)</pre></div></div></div></div></div>"
      ],
      "text/plain": [
       "KNeighborsRegressor(n_neighbors=10)"
      ]
     },
     "execution_count": 70,
     "metadata": {},
     "output_type": "execute_result"
    }
   ],
   "source": [
    "knn.fit(x_train,y_train)"
   ]
  },
  {
   "cell_type": "code",
   "execution_count": 71,
   "id": "4cfa548a",
   "metadata": {},
   "outputs": [],
   "source": [
    "prd3 = knn.predict(x_test)"
   ]
  },
  {
   "cell_type": "code",
   "execution_count": 72,
   "id": "2811950a",
   "metadata": {},
   "outputs": [
    {
     "data": {
      "text/plain": [
       "array([13172.67557 ,  9760.515626, 16573.167645, 16435.169226,\n",
       "       10507.256175, 10395.375061,  4815.93341 , 26689.594623,\n",
       "        8387.867345,  9139.71922 , 11139.2357  , 17818.515975,\n",
       "       16228.500252, 10527.352431,  6400.30492 , 14401.047444,\n",
       "       13945.16276 , 14103.770589,  8057.86647 ,  9788.26699 ,\n",
       "       18068.071259, 14876.252315, 13296.205802, 14400.032858,\n",
       "        5312.75758 , 22807.098432, 11569.9066  ,  8688.484413,\n",
       "        6674.15002 , 20553.487752,  9387.932313, 15629.706725,\n",
       "       22121.242926, 14298.948235,  6268.928894,  5568.245646,\n",
       "       22599.882601, 22604.726949, 10535.462985,  7094.466133,\n",
       "        9323.142675,  8300.920068, 10876.11932 , 18421.677405,\n",
       "        9709.71656 , 12723.071053, 15960.838714, 12980.622125,\n",
       "        9396.49315 , 11873.52855 ,  8886.02571 ,  9498.580369,\n",
       "       13439.128073, 21662.153726, 15384.312685, 20719.716075,\n",
       "        9783.39765 , 17860.74538 , 13985.559217, 14200.372945,\n",
       "        6285.72237 , 22530.24421 , 24207.692345, 14903.589524,\n",
       "       14530.387959, 15740.864189,  4752.143231, 22846.310561,\n",
       "        5607.468823, 11523.373068, 19400.275351, 17176.954122,\n",
       "        7907.465555, 29247.263341, 14072.40871 , 15819.485596,\n",
       "       13803.367934, 19007.218701,  8775.45026 , 24208.628044,\n",
       "       12865.63072 , 19000.310175,  8814.392075, 20174.954778,\n",
       "       10198.601951, 11311.171464, 10678.43094 ,  4419.880024,\n",
       "       14106.513131, 23840.29595 , 24058.115148, 15342.829011,\n",
       "        6191.90334 ,  9863.225247, 21797.780271, 11028.398175,\n",
       "       15161.644131, 22413.740346,  9356.699415, 11127.021935,\n",
       "       10192.402571, 19038.64023 , 13073.27308 , 17804.28035 ,\n",
       "       16792.6435  , 10562.301725, 13286.522295, 14105.77309 ,\n",
       "       12016.319285, 16053.165045, 15121.60605 ,  5388.341687,\n",
       "       10787.334065, 16059.561971, 14927.990605, 14695.826617,\n",
       "        5069.313208, 12586.940016, 16769.529575, 12141.218545,\n",
       "       13184.240259, 12551.429465, 17655.16109 , 18729.360837,\n",
       "       14443.17249 ,  9204.481575, 16820.863892, 13686.534002,\n",
       "       17324.087565,  5215.879235, 10577.674802,  7946.689698,\n",
       "        7209.916855, 12279.038275, 13092.55398 ,  8832.534897,\n",
       "       12541.194862, 16891.476383, 17329.923708,  9501.898685,\n",
       "       11863.181763, 12714.361635, 15840.36298 , 13554.540863,\n",
       "        6539.44932 , 29425.421841, 19195.969678,  6085.960174,\n",
       "        2901.75776 , 13443.478017,  9456.195385, 12325.873187,\n",
       "       16610.83946 ,  7155.879685,  6983.681555,  9586.248495,\n",
       "        8918.186735,  4222.383359, 13501.117714, 12163.471392,\n",
       "       14775.159399, 20644.28165 , 14327.62324 , 17120.6524  ,\n",
       "       12614.018681, 16623.698445,  5997.188033,  8095.571045,\n",
       "        5742.259255,  7557.153765, 13042.889302,  5542.451888,\n",
       "       19544.707862,  9026.8337  , 13301.775103, 16576.94337 ,\n",
       "        9871.103385,  7744.210849, 18339.28782 ,  6240.939795,\n",
       "       13797.99287 ,  6370.567725, 14880.95477 , 19457.36277 ,\n",
       "       11385.037246, 21509.513025, 10076.279146,  3520.80004 ,\n",
       "       13853.726605, 14571.931739, 17104.691874, 12448.836164,\n",
       "        8803.558729, 14497.981112,  7795.094048,  5170.193684,\n",
       "        7308.35355 , 17354.520926, 13141.202929,  7652.043861,\n",
       "       12568.786951, 18611.441378, 16541.575331,  8967.89522 ,\n",
       "       10037.696241, 23630.933989,  7646.377996, 11095.592057,\n",
       "       17472.102096, 10399.87655 , 15263.570697, 13542.65135 ,\n",
       "        7963.424888,  8931.585415,  9778.235885,  8217.588113,\n",
       "        9448.166425,  7871.184156, 12921.3825  , 10583.357035,\n",
       "       11870.990668, 10006.233285, 11658.770136,  6436.510404,\n",
       "       15271.418835, 22888.614636, 15796.069316, 12223.48579 ,\n",
       "       10659.362935,  8139.032096,  3758.835225, 11569.325115,\n",
       "       22817.978768,  8149.347135, 10351.009391, 13775.53726 ,\n",
       "       14055.097406, 13584.187945, 12358.012545, 15267.86964 ,\n",
       "       13391.42183 , 12118.88763 , 10283.776585, 11458.642085,\n",
       "       23047.864557, 13489.906382,  5782.537974,  9082.048964,\n",
       "        3585.10645 , 10547.561679,  8438.81262 , 18923.709178,\n",
       "        9792.11042 , 10433.29755 ,  9560.922689,  4374.578925,\n",
       "       11499.83289 ,  9709.71656 ,  8671.974521,  8940.143269,\n",
       "       11841.864955, 14139.806151, 13521.827855, 17654.25253 ,\n",
       "       11289.752185, 12442.539545, 14658.38866 , 12089.677512,\n",
       "       21349.348163,  9001.434495,  9444.53345 , 18898.61877 ,\n",
       "       12433.33581 ,  5880.708299, 20438.062423, 16575.980817,\n",
       "       14422.540677, 10431.310855, 10998.989176, 15986.217436,\n",
       "       12035.131705, 21081.233949, 15912.088931,  8610.46597 ,\n",
       "       24236.736473, 19654.45135 , 15360.364423, 14657.05596 ,\n",
       "       18722.955815,  4948.65222 ,  2985.585395, 23551.960409,\n",
       "       17745.269455,  9213.555155, 16496.719511, 12877.920291,\n",
       "       18241.980651,  9795.72113 ,  9625.67618 , 10840.464649,\n",
       "       11867.787605, 10148.262701,  6008.851625,  6763.261865,\n",
       "       16201.998988,  6914.938129, 15890.86891 ,  9929.025995,\n",
       "        9977.879885,  4662.511548,  9975.1147  , 13649.243946,\n",
       "        6393.957948, 11907.370195, 12045.223709, 13347.845307,\n",
       "       15868.224389,  2944.674145, 13157.198455, 15773.747888,\n",
       "        9354.73606 , 12829.692142,  5028.609948, 16368.868373,\n",
       "       17539.634957, 13276.62595 , 20849.911325, 10954.96026 ,\n",
       "       17097.400224, 16178.284188, 14773.161808, 10124.554574,\n",
       "       12254.709975,  9711.15415 , 18005.550481,  7294.18362 ,\n",
       "       15982.967811,  3500.776505,  5307.040253,  6496.76074 ,\n",
       "       19558.027251, 15439.724319,  6016.614544, 13621.493   ,\n",
       "        7394.776391,  8071.289725, 23606.168159,  3813.288945,\n",
       "       13799.443017,  9030.577129, 11619.384004,  7033.322145,\n",
       "       11076.685989,  4326.41089 , 12412.794241, 15953.905579,\n",
       "       12819.27967 , 12627.52359 , 10243.95978 , 14002.40545 ,\n",
       "        9099.258024,  5395.512925, 10480.706375, 17409.670764,\n",
       "       16948.858723, 12928.86408 ,  3350.62862 , 13694.03184 ,\n",
       "        5469.239915, 13633.26477 ,  8652.136984,  9586.20324 ,\n",
       "       10664.51987 ,  9742.23469 , 10583.357035,  4575.884658,\n",
       "       24312.431043, 19938.021628, 18266.575424, 13548.139615,\n",
       "       19662.070221,  2873.57443 , 11399.79448 , 14584.544729,\n",
       "       10240.228894, 12770.917846, 13388.549047,  7670.596288,\n",
       "       17555.688872, 10110.102918, 11187.352692, 18740.245867,\n",
       "        8455.122855, 15763.276334,  7556.803005, 16722.656974,\n",
       "       11234.562005, 19247.452619,  9136.733089, 11144.56726 ,\n",
       "       21272.3883  , 17450.760356])"
      ]
     },
     "execution_count": 72,
     "metadata": {},
     "output_type": "execute_result"
    }
   ],
   "source": [
    "prd3"
   ]
  },
  {
   "cell_type": "code",
   "execution_count": 73,
   "id": "a538774b",
   "metadata": {},
   "outputs": [],
   "source": [
    "accuracy4=r2_score(y_test,prd3)"
   ]
  },
  {
   "cell_type": "code",
   "execution_count": 74,
   "id": "2dcfa97c",
   "metadata": {},
   "outputs": [
    {
     "data": {
      "text/plain": [
       "0.17130386116664542"
      ]
     },
     "execution_count": 74,
     "metadata": {},
     "output_type": "execute_result"
    }
   ],
   "source": [
    "accuracy4"
   ]
  },
  {
   "cell_type": "markdown",
   "id": "b4a2256f",
   "metadata": {},
   "source": [
    "# Extra Tree Regressor\n",
    "\n",
    "This class implements a meta estimator that fits a number of randomized decision trees  on various sub-samples of the dataset and uses averaging to improve the predictive accuracy and control over-fitting."
   ]
  },
  {
   "cell_type": "code",
   "execution_count": 75,
   "id": "a28ee847",
   "metadata": {},
   "outputs": [],
   "source": [
    "from sklearn.ensemble import  ExtraTreesRegressor"
   ]
  },
  {
   "cell_type": "code",
   "execution_count": 76,
   "id": "183432c7",
   "metadata": {},
   "outputs": [],
   "source": [
    "et=ExtraTreesRegressor(n_estimators = 120)\n",
    "et.fit(x_train,y_train)\n",
    "prd4=et.predict(x_test)"
   ]
  },
  {
   "cell_type": "code",
   "execution_count": 77,
   "id": "ed734801",
   "metadata": {},
   "outputs": [
    {
     "data": {
      "text/plain": [
       "array([10114.87636525,  9469.24522208, 45575.67504342, 13221.94098292,\n",
       "        9764.25069467, 11857.84168442,  2159.45803833, 11293.91161842,\n",
       "        7538.501323  ,  9208.79289042,  7014.77992883, 21093.15262883,\n",
       "        7552.33598583,  4719.46021275, 23965.47121117, 12837.35507325,\n",
       "       18652.8026005 ,  7805.8657905 ,  6446.14460542, 30925.74902942,\n",
       "       24007.82068975, 18618.12915642, 10728.59186325, 26892.08908125,\n",
       "        2646.22656483, 11111.46790025,  4204.2487925 ,  9573.4140395 ,\n",
       "        3739.97636542, 14753.4084845 ,  9562.85370975, 48493.64578583,\n",
       "       13412.83384208, 13330.54578558, 16229.22329525,  4157.86913833,\n",
       "        8738.335256  , 39295.94126775, 40167.80216333,  1926.57951417,\n",
       "        5603.40778433,  3217.910296  , 26317.67711967, 47993.385535  ,\n",
       "       37225.59445075,  3548.95277792, 13082.34883542,  6989.44125225,\n",
       "        4730.81111917, 12911.50679067,  5939.82014733,  3962.69045517,\n",
       "       27243.80346725, 47385.17151933, 11854.22035083,  8478.36137567,\n",
       "        2472.95398733, 13816.48977075, 12635.65367158, 15841.45419692,\n",
       "        3400.4475115 , 44781.06491208, 19604.10304892, 15923.20515883,\n",
       "       12487.84738333, 10016.774812  , 28520.78437583, 44042.70790775,\n",
       "        3386.788029  , 11629.299241  , 16335.814469  , 12520.2466665 ,\n",
       "       18086.21912508, 13898.7466575 , 14261.77889025, 18072.11965417,\n",
       "       16077.50726358, 11794.67512408, 20143.80718083, 46885.764497  ,\n",
       "       11652.05556875, 52201.19206225,  2505.39507867, 10663.49283267,\n",
       "       40985.94369417, 19918.32528217,  3425.20856792,  3466.77581625,\n",
       "       13450.84890383, 37046.87569033, 12366.23741575, 12519.36637975,\n",
       "        3164.930195  ,  8836.09289542, 12062.70116017,  7312.16013308,\n",
       "       41685.37657083, 38122.60236675,  5434.47274292, 10857.91437667,\n",
       "        2678.52490508,  5954.96370758,  6206.074858  , 38640.40455225,\n",
       "       25181.5978375 ,  3404.29227458, 11054.08954225,  5521.64173558,\n",
       "       11841.82974292, 44598.61718917, 12410.49268875,  9667.02721075,\n",
       "        9924.74514942, 33958.48856542, 48726.32095767,  8410.24956583,\n",
       "        1996.96683375, 11860.48550975, 19931.4814815 , 10327.33922075,\n",
       "       42839.50629458, 11990.93806725, 14345.75360167, 10976.05041233,\n",
       "        8462.937147  ,  5014.27399958, 24197.97763758, 27544.46726358,\n",
       "       47943.03262733,  2180.777615  , 10735.1951355 ,  1805.81213492,\n",
       "        5970.8146875 ,  9261.69146383, 32966.74725833, 35053.53619617,\n",
       "       28710.49301725, 13079.57524867, 24096.854524  ,  5976.41602775,\n",
       "        2268.6022775 , 13017.38106   ,  9656.192456  , 10458.79153183,\n",
       "        7115.88816725, 14393.30809183, 22005.6833065 , 11808.55245908,\n",
       "        1627.33196875, 11952.82022467,  6526.80539542, 40065.611379  ,\n",
       "       10473.11248125,  2212.40459642,  3331.04847125,  6784.85073808,\n",
       "        2664.52235667,  2380.34214875, 14027.1463305 , 10070.67319158,\n",
       "        6127.38465317, 13002.26133667, 14928.96011525,  9713.63336825,\n",
       "        4679.7953535 , 11278.3912185 , 19630.91330925,  9562.96038067,\n",
       "        4506.71347367,  1633.9618    ,  9327.7513925 ,  5333.90667258,\n",
       "       12062.13348933,  1939.38654833,  4749.09919992,  6521.8138245 ,\n",
       "        5281.29325792,  6116.18993083, 30358.81749875,  2208.10911408,\n",
       "       24814.94040058,  6713.60356708, 11336.26243708,  2605.55151525,\n",
       "        8843.41728183, 28499.00079783,  2548.74996633,  2768.30395692,\n",
       "       15554.93038158, 14050.88055383, 41406.01570583,  5842.86282308,\n",
       "        5537.85252708, 26640.24930975,  5310.51515142,  2983.55237983,\n",
       "        7818.76609742, 12193.4457415 ,  4948.76701842,  4700.45443592,\n",
       "       13952.14759   , 46686.40907317, 19189.60791767, 19357.43732817,\n",
       "       18170.10303542, 43956.899184  ,  4697.7790575 , 12063.33929108,\n",
       "        6800.69857517,  1149.15763083,  9063.9252    , 13886.65947717,\n",
       "        9721.95494225,  6825.80221583,  6753.33658608,  3323.7684555 ,\n",
       "        6762.25942892,  5477.74099983, 13992.22413667,  6770.44243625,\n",
       "        7935.71041467,  8050.4864375 , 17562.96700083,  4594.36816933,\n",
       "       11975.97730542, 15166.56785142, 12659.45699217, 11842.39795583,\n",
       "        6637.29984858,  2514.944827  ,  3135.57266117,  8337.87011542,\n",
       "       15903.54507317,  5815.03758558,  4717.96750033,  6954.34333167,\n",
       "        9755.79925483, 33341.3370015 ,  6248.08319042, 15441.56934308,\n",
       "        6220.60096192, 39944.76087992,  8566.96427858, 10162.60563525,\n",
       "       12884.62585208, 10643.03586492,  4122.34675142, 10331.41938142,\n",
       "        3151.95667017,  8412.48680975, 19559.75271858, 46281.40879708,\n",
       "        9317.40474125,  3312.71462875, 10013.20671208,  1704.64402875,\n",
       "        9264.90832192,  7939.04287313, 11125.28868525,  5849.211345  ,\n",
       "        9129.12040408, 25706.79307375, 44433.60694667, 15212.46997442,\n",
       "        6560.72541542, 11535.67083375, 42978.99319642,  9381.51190517,\n",
       "       40309.87791083,  1139.53521   , 44743.07452375,  5407.94858367,\n",
       "       13502.99887858,  6582.01431642, 39148.19330642,  8275.67380925,\n",
       "       10026.4801675 ,  9634.41508158,  2576.98802817, 18945.18753   ,\n",
       "       12201.2644575 , 13210.2098235 , 25745.80717825, 21344.8467    ,\n",
       "        7250.90021475,  3575.84693742, 11054.97464233, 22056.77273017,\n",
       "        3673.2668605 ,  2126.85990292,  2751.90746208, 47302.81883542,\n",
       "       10257.47372242,  4756.02767467, 19368.6082755 , 20859.74247058,\n",
       "       34563.42857217,  7023.8650175 ,  6112.68317942,  9198.69128275,\n",
       "        1639.5631    , 12067.68407025, 15744.36401   , 17574.38137517,\n",
       "       15802.28692075,  2724.27304833,  3228.53670708,  9052.10557292,\n",
       "        9720.65334292, 15755.03836858, 20961.05340383,  6491.05430883,\n",
       "       17874.87429808,  2147.13485375,  6950.26330758,  8761.41387133,\n",
       "       18614.68791433,  2347.32164042,  8692.10528508, 49429.69617258,\n",
       "       10181.74158092, 13979.90814717,  2170.3352925 ,  9095.3955595 ,\n",
       "        3397.06608583, 12998.23841525, 46372.50788267, 18879.66822375,\n",
       "        9201.43279875, 43552.76577433, 17195.19828008, 18414.3040075 ,\n",
       "        9545.78451867,  3360.3595425 , 29608.56906958,  4446.25159208,\n",
       "       14013.60575967,  1868.86364375, 17945.10432567,  3179.38481083,\n",
       "       24719.35902042,  7272.7118905 ,  4414.17333008, 47708.93345333,\n",
       "        6479.57403042,  5080.06556042, 33492.38421267,  9075.41359817,\n",
       "       13187.39811567,  3040.87459142, 13908.60408892,  4231.52972042,\n",
       "        6371.06924575,  7870.66056883, 43675.46214708, 13153.30131817,\n",
       "       34686.15282583, 37386.07869417,  5917.95267592, 11815.92981492,\n",
       "        1644.15755875,  3912.81265342,  3186.06342958,  9287.46353608,\n",
       "       45391.61809   , 11094.4486775 ,  1799.88611875, 15444.42283758,\n",
       "        2353.05888208, 10374.4849035 , 15121.21037508,  1802.02172667,\n",
       "        3616.09698517, 38249.1650155 ,  6614.28589   ,  2733.43506167,\n",
       "       40429.05293292, 13734.50184733, 43982.08516067, 11570.40945208,\n",
       "        6772.17353417,  2554.89656317,  2312.50922958, 14283.57419683,\n",
       "        6221.21977408,  2180.97402917, 11388.58949117,  7206.33142633,\n",
       "        6541.65407392, 14853.58758383,  6497.88205792, 41013.10652775,\n",
       "        1991.32647442, 18079.48156792,  7835.23793854, 13467.72386458,\n",
       "       10848.1199725 ,  4744.38713142, 18508.151655  , 16688.26275933,\n",
       "       23004.99272992, 15675.34759525])"
      ]
     },
     "execution_count": 77,
     "metadata": {},
     "output_type": "execute_result"
    }
   ],
   "source": [
    "prd4"
   ]
  },
  {
   "cell_type": "code",
   "execution_count": 78,
   "id": "d93fb1f9",
   "metadata": {},
   "outputs": [],
   "source": [
    "#finding the accuracy\n",
    "accuracy5=r2_score(y_test,prd4)"
   ]
  },
  {
   "cell_type": "code",
   "execution_count": 79,
   "id": "9a675d0d",
   "metadata": {},
   "outputs": [
    {
     "data": {
      "text/plain": [
       "0.8442329760943689"
      ]
     },
     "execution_count": 79,
     "metadata": {},
     "output_type": "execute_result"
    }
   ],
   "source": [
    "accuracy5"
   ]
  },
  {
   "cell_type": "markdown",
   "id": "50066b13",
   "metadata": {},
   "source": [
    "# XGBRegressor\n",
    "The XGBRegressor in Python is the regression-specific implementation of XGBoost and is used for regression problems where the intent is to predict continuous numerical values. objective is a required parameter representing the objective function to use for regression."
   ]
  },
  {
   "cell_type": "code",
   "execution_count": 80,
   "id": "3d98fbf1",
   "metadata": {},
   "outputs": [],
   "source": [
    "from xgboost import XGBRegressor"
   ]
  },
  {
   "cell_type": "code",
   "execution_count": 81,
   "id": "ce5ad600",
   "metadata": {},
   "outputs": [],
   "source": [
    "xgb=XGBRegressor(n_estimators = 120)\n",
    "xgb.fit(x_train,y_train)\n",
    "prd5=xgb.predict(x_test)"
   ]
  },
  {
   "cell_type": "code",
   "execution_count": 82,
   "id": "f1931ffb",
   "metadata": {},
   "outputs": [
    {
     "data": {
      "text/plain": [
       "array([ 9038.758  ,  9895.108  , 45481.355  , 11625.869  ,  8932.742  ,\n",
       "        5867.174  ,  2664.9573 , 10735.503  ,  7581.8535 ,  7257.8354 ,\n",
       "        7228.2    , 21013.072  ,  7102.779  ,  8590.28   , 29781.488  ,\n",
       "       14653.947  , 12448.699  ,  4874.239  ,  6056.6333 , 34123.773  ,\n",
       "       23420.605  , 20918.936  ,  9898.111  , 29815.92   ,  4711.46   ,\n",
       "        8105.253  ,  5190.2847 ,  7459.1587 ,  3541.6533 , 11918.399  ,\n",
       "        7194.3555 , 48131.93   , 16570.5    , 10778.011  , 15750.421  ,\n",
       "        4585.7217 ,  9371.159  , 36444.137  , 38791.5    ,   346.34155,\n",
       "        5030.222  ,  5274.85   , 20283.318  , 49044.914  , 34757.156  ,\n",
       "        1674.3961 , 16677.918  ,  8104.0806 ,  5153.7856 , 11847.468  ,\n",
       "        4445.829  ,  3217.8855 , 30394.938  , 46338.156  , 11551.767  ,\n",
       "        8308.033  ,  4340.0615 , 11035.776  , 14358.126  , 13950.516  ,\n",
       "        1045.6781 , 44098.035  , 16370.117  , 21915.209  , 15517.762  ,\n",
       "        8518.98   , 34715.03   , 45033.258  ,  6334.928  , 14459.535  ,\n",
       "       15452.465  , 12376.492  , 15754.784  , 14255.211  , 12038.242  ,\n",
       "       15258.739  , 12405.499  ,  9275.719  , 18435.895  , 51116.594  ,\n",
       "       11505.99   , 50335.88   ,  1396.4106 ,  9377.232  , 40685.164  ,\n",
       "       19102.62   ,  5233.319  ,  1499.671  , 14060.6875 , 38118.13   ,\n",
       "        8512.976  , 11120.829  ,  4093.0828 , 12235.456  ,  8506.071  ,\n",
       "        6893.623  , 42510.18   , 50583.945  ,  5852.211  , 10913.6875 ,\n",
       "        2612.077  , 14121.997  ,  6286.4316 , 37000.742  , 30245.691  ,\n",
       "        3897.742  , 11348.922  ,  7564.417  , 12101.555  , 45978.984  ,\n",
       "       15167.483  ,  6372.7075 ,  9547.61   , 34334.66   , 48190.344  ,\n",
       "        9154.704  ,  1686.7539 ,  9193.247  , 22881.701  , 11165.904  ,\n",
       "       40487.863  , 11329.112  , 14153.555  , 18289.312  , 11134.857  ,\n",
       "        6317.087  , 26522.338  , 26782.717  , 47915.027  ,  2176.2158 ,\n",
       "       11581.736  ,  3041.9106 ,  5608.0303 ,  8291.5    , 51260.85   ,\n",
       "       35703.332  , 20985.898  , 16139.52   , 23738.389  ,  5341.013  ,\n",
       "         371.54764, 12650.866  , 14651.244  , 10699.617  ,  4997.873  ,\n",
       "       13847.677  , 24866.508  ,  6572.261  ,  1802.5461 , 10017.11   ,\n",
       "        2616.9966 , 40678.69   , 12920.141  , 13059.755  ,  3543.0088 ,\n",
       "        8519.199  ,  1463.3412 ,  1681.8131 , 13144.222  , 10242.407  ,\n",
       "        9557.432  , 13135.264  , 13003.166  ,  8073.1553 ,  3974.3232 ,\n",
       "       11796.285  , 18479.91   ,  9581.254  ,  8197.89   ,  1344.6576 ,\n",
       "       11208.716  , 10551.836  , 11359.573  ,  2932.628  ,  8924.899  ,\n",
       "        6291.7354 ,  5102.386  ,  6540.2476 , 24705.941  ,  1459.4207 ,\n",
       "       18881.9    ,  6277.7046 , 11683.292  ,  3478.3486 ,  6226.1294 ,\n",
       "       27945.271  ,  2780.1104 ,  6780.1704 , 14097.112  , 16200.043  ,\n",
       "       43239.426  ,  3929.567  ,  5514.926  , 24471.242  ,  4020.644  ,\n",
       "        3718.2463 , 11211.368  ,  9927.907  ,  4657.109  ,  5316.295  ,\n",
       "       11499.441  , 48393.438  , 17534.371  , 20814.701  ,  7589.6143 ,\n",
       "       41106.734  ,  3765.6294 ,  9888.55   ,  5092.343  ,  1520.5448 ,\n",
       "        8486.367  , 13619.37   ,  5916.1484 ,  3096.3286 ,  5166.0986 ,\n",
       "        4795.574  ,  5607.0757 ,  6881.8867 , 16295.362  ,  7079.2197 ,\n",
       "        8507.211  , 12075.727  , 11575.8955 ,  4252.6045 , 12726.959  ,\n",
       "       14060.336  , 16784.057  , 11006.878  ,  4491.2847 ,   893.74414,\n",
       "       16893.986  ,  7995.9624 , 18074.738  ,  4653.5635 ,  4745.522  ,\n",
       "        7097.726  , 17618.738  , 34912.023  ,  6559.789  , 11279.5205 ,\n",
       "       12418.163  , 45001.793  ,  5985.9517 ,  8128.5444 , 10986.18   ,\n",
       "        9496.039  ,  3940.2761 ,  8886.246  ,  2788.1755 ,  5966.7397 ,\n",
       "       18758.812  , 46147.266  ,  3060.3477 ,  6271.9873 ,  4358.453  ,\n",
       "        1797.9098 ,  6798.678  ,  1441.6678 ,  6792.8984 , 12791.352  ,\n",
       "       11017.164  , 32785.605  , 44647.727  , 17129.25   ,  7389.071  ,\n",
       "       11370.169  , 40407.562  , 10870.101  , 44581.684  ,   756.0038 ,\n",
       "       42869.668  ,  5728.006  , 11554.459  ,  9028.169  , 38749.793  ,\n",
       "        7788.7354 , 10748.379  , 12917.664  ,  1911.6375 , 15147.247  ,\n",
       "       11755.538  ,  7951.6777 , 21995.998  , 20181.793  ,  8511.516  ,\n",
       "        1596.382  , 11673.969  , 20719.412  ,  2993.736  ,  1276.6702 ,\n",
       "        2213.4482 , 51874.13   ,  8949.995  ,  5536.84   , 17778.139  ,\n",
       "       11501.693  , 34912.914  , 11217.151  ,  4430.317  ,  8736.993  ,\n",
       "        1719.6091 ,  3532.7236 , 23308.793  , 17745.975  , 10646.351  ,\n",
       "         970.822  ,  2053.5613 , 14860.596  , 10468.975  , 17615.31   ,\n",
       "       20792.086  ,  6612.0947 , 16837.98   ,   932.67114,  4985.769  ,\n",
       "        6205.3804 , 18397.084  ,  1229.1498 , 10691.616  , 48253.32   ,\n",
       "        5013.3423 ,  9243.795  ,  1533.3954 , 10089.744  ,  2514.4785 ,\n",
       "       14860.779  , 46168.766  , 17839.436  ,  9097.516  , 45515.72   ,\n",
       "       19005.354  ,  7135.2085 , 14472.74   ,  3219.645  , 27728.863  ,\n",
       "        3862.345  , 15288.676  ,   748.9216 , 17948.93   ,  2644.4392 ,\n",
       "       24021.86   , 11284.925  ,  3562.8503 , 44786.418  ,  4794.8667 ,\n",
       "        4232.4824 , 28573.389  ,  2827.0679 ,  9643.585  ,   994.5817 ,\n",
       "       16392.299  ,  3057.2942 ,  6117.914  ,  7814.859  , 45697.555  ,\n",
       "       12775.755  , 47131.     , 39328.42   ,  5036.144  , 21329.734  ,\n",
       "         987.5173 , 10332.872  ,  2471.1777 , 10321.151  , 49123.03   ,\n",
       "       10305.149  ,  2060.47   , 14565.736  ,  2891.13   , 15323.221  ,\n",
       "        8120.317  ,  3878.455  ,  2675.9072 , 43753.312  ,  5377.5386 ,\n",
       "        6852.2744 , 41247.953  , 11271.973  , 45101.816  , 10437.435  ,\n",
       "       15761.083  ,  3205.8916 ,   876.5236 , 20811.127  , 13405.632  ,\n",
       "        2847.4697 , 10103.039  ,  7907.6304 ,  7244.02   ,  6712.6616 ,\n",
       "        3297.0771 , 44465.324  ,  -222.19107, 10746.7705 ,  6915.8047 ,\n",
       "        9165.486  , 10965.997  ,  3100.0916 , 17836.883  , 10221.192  ,\n",
       "       16422.607  , 18377.814  ], dtype=float32)"
      ]
     },
     "execution_count": 82,
     "metadata": {},
     "output_type": "execute_result"
    }
   ],
   "source": [
    "prd5"
   ]
  },
  {
   "cell_type": "code",
   "execution_count": 83,
   "id": "8c5a0b86",
   "metadata": {},
   "outputs": [],
   "source": [
    "accuracy6=r2_score(y_test,prd5)"
   ]
  },
  {
   "cell_type": "code",
   "execution_count": 84,
   "id": "2280d24c",
   "metadata": {},
   "outputs": [
    {
     "data": {
      "text/plain": [
       "0.8161241971548543"
      ]
     },
     "execution_count": 84,
     "metadata": {},
     "output_type": "execute_result"
    }
   ],
   "source": [
    "accuracy6"
   ]
  },
  {
   "cell_type": "markdown",
   "id": "cdcc9a4b",
   "metadata": {},
   "source": [
    "# Model Building"
   ]
  },
  {
   "cell_type": "code",
   "execution_count": 85,
   "id": "bf94c6ff",
   "metadata": {},
   "outputs": [
    {
     "name": "stdout",
     "output_type": "stream",
     "text": [
      "[15877.83594833]\n"
     ]
    },
    {
     "name": "stderr",
     "output_type": "stream",
     "text": [
      "C:\\Users\\DELL LYF\\anaconda3\\Lib\\site-packages\\sklearn\\base.py:439: UserWarning: X does not have valid feature names, but ExtraTreesRegressor was fitted with feature names\n",
      "  warnings.warn(\n"
     ]
    }
   ],
   "source": [
    "data=(19,1,27.900,0,0,1)\n",
    "input_array=np.asarray(data)\n",
    "data_reshape=input_array.reshape(1,-1)\n",
    "std_input=std.fit_transform(data_reshape)\n",
    "prd_m=et.predict(std_input)\n",
    "print(prd_m)"
   ]
  },
  {
   "cell_type": "code",
   "execution_count": 99,
   "id": "8f156524",
   "metadata": {},
   "outputs": [
    {
     "data": {
      "text/plain": [
       "<matplotlib.collections.PathCollection at 0x1b93d82fe50>"
      ]
     },
     "execution_count": 99,
     "metadata": {},
     "output_type": "execute_result"
    },
    {
     "data": {
      "image/png": "[encoded data removed]",
      "text/plain": [
       "<Figure size 1000x1000 with 1 Axes>"
      ]
     },
     "metadata": {},
     "output_type": "display_data"
    }
   ],
   "source": [
    "plt.scatter(y_test, prd4, label='Predictions',s=10)"
   ]
  },
  {
   "cell_type": "code",
   "execution_count": 86,
   "id": "6c2a90a4",
   "metadata": {},
   "outputs": [],
   "source": [
    "cost_results = pd.DataFrame({\n",
    "    'Model': [ 'Linear Regression', \n",
    "              'Random Forest Regressor', \n",
    "              'Decision Tree Regressor' ,\n",
    "              'knn',\n",
    "              'Extra tree Regressor',\n",
    "              'XGBRegressor'\n",
    "              ],\n",
    "    'Score': [ accuracy,\n",
    "              accuracy2, \n",
    "              accuracy1,\n",
    "             accuracy4,\n",
    "             accuracy5,\n",
    "             accuracy6]\n",
    "           })"
   ]
  },
  {
   "cell_type": "code",
   "execution_count": 87,
   "id": "7f06d831",
   "metadata": {},
   "outputs": [
    {
     "data": {
      "text/html": [
       "<div>\n",
       "<style scoped>\n",
       "    .dataframe tbody tr th:only-of-type {\n",
       "        vertical-align: middle;\n",
       "    }\n",
       "\n",
       "    .dataframe tbody tr th {\n",
       "        vertical-align: top;\n",
       "    }\n",
       "\n",
       "    .dataframe thead th {\n",
       "        text-align: right;\n",
       "    }\n",
       "</style>\n",
       "<table border=\"1\" class=\"dataframe\">\n",
       "  <thead>\n",
       "    <tr style=\"text-align: right;\">\n",
       "      <th></th>\n",
       "      <th>Model</th>\n",
       "      <th>Score</th>\n",
       "    </tr>\n",
       "  </thead>\n",
       "  <tbody>\n",
       "    <tr>\n",
       "      <th>0</th>\n",
       "      <td>Linear Regression</td>\n",
       "      <td>0.790751</td>\n",
       "    </tr>\n",
       "    <tr>\n",
       "      <th>1</th>\n",
       "      <td>Random Forest Regressor</td>\n",
       "      <td>0.860091</td>\n",
       "    </tr>\n",
       "    <tr>\n",
       "      <th>2</th>\n",
       "      <td>Decision Tree Regressor</td>\n",
       "      <td>0.694565</td>\n",
       "    </tr>\n",
       "    <tr>\n",
       "      <th>3</th>\n",
       "      <td>knn</td>\n",
       "      <td>0.171304</td>\n",
       "    </tr>\n",
       "    <tr>\n",
       "      <th>4</th>\n",
       "      <td>Extra tree Regressor</td>\n",
       "      <td>0.844233</td>\n",
       "    </tr>\n",
       "    <tr>\n",
       "      <th>5</th>\n",
       "      <td>XGBRegressor</td>\n",
       "      <td>0.816124</td>\n",
       "    </tr>\n",
       "  </tbody>\n",
       "</table>\n",
       "</div>"
      ],
      "text/plain": [
       "                     Model     Score\n",
       "0        Linear Regression  0.790751\n",
       "1  Random Forest Regressor  0.860091\n",
       "2  Decision Tree Regressor  0.694565\n",
       "3                      knn  0.171304\n",
       "4     Extra tree Regressor  0.844233\n",
       "5             XGBRegressor  0.816124"
      ]
     },
     "execution_count": 87,
     "metadata": {},
     "output_type": "execute_result"
    }
   ],
   "source": [
    "cost_results"
   ]
  },
  {
   "cell_type": "code",
   "execution_count": 88,
   "id": "02aafe92",
   "metadata": {},
   "outputs": [
    {
     "data": {
      "image/png": "[encoded data removed]",
      "text/plain": [
       "<Figure size 1600x600 with 1 Axes>"
      ]
     },
     "metadata": {},
     "output_type": "display_data"
    }
   ],
   "source": [
    "plt.figure(figsize=(16,6))\n",
    "sns.barplot(x='Model' ,y='Score',data=cost_results)\n",
    "plt.title('Model Accuracy')\n",
    "plt.show()"
   ]
  },
  {
   "cell_type": "markdown",
   "id": "008e8f5d",
   "metadata": {},
   "source": [
    "#  Observation\n",
    "\n",
    "Here we can see that our Random Forest Regressor only have the High Accuracy score\n"
   ]
  },
  {
   "cell_type": "code",
   "execution_count": null,
   "id": "beffd3e5",
   "metadata": {},
   "outputs": [],
   "source": []
  }
 ],
 "metadata": {
  "kernelspec": {
   "display_name": "Python 3 (ipykernel)",
   "language": "python",
   "name": "python3"
  },
  "language_info": {
   "codemirror_mode": {
    "name": "ipython",
    "version": 3
   },
   "file_extension": ".py",
   "mimetype": "text/x-python",
   "name": "python",
   "nbconvert_exporter": "python",
   "pygments_lexer": "ipython3",
   "version": "3.11.3"
  }
 },
 "nbformat": 4,
 "nbformat_minor": 5
}
