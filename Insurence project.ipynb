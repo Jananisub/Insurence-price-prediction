{
 "cells": [
  {
   "cell_type": "markdown",
   "id": "b6a9879d",
   "metadata": {},
   "source": [
    "# Insurence price prediction\n",
    "This project is to allows a person to get an idea about the\n",
    "necessary amount required according to their own health status. Later they\n",
    "can comply with any health insurance company and their schemes &\n",
    "benefits keeping in mind the predicted amount from our project"
   ]
  },
  {
   "cell_type": "markdown",
   "id": "bb7d588d",
   "metadata": {},
   "source": [
    "# The Attributess include:\n",
    "Age: age of the person\n",
    "\n",
    "Sex: Gender of the person [Male,Female]\n",
    "\n",
    "Bmi:Bmi of the person\n",
    "\n",
    "Smoker:whether the person is smoker or not [yes,no]\n",
    "\n",
    "Region:region the person[southeast,\n",
    "southwest,\n",
    "northwest,\n",
    "northeast]\n",
    "\n",
    "Charges:charges for the person"
   ]
  },
  {
   "cell_type": "markdown",
   "id": "d3cb2bb7",
   "metadata": {},
   "source": [
    "# Importing Necessary Libraries"
   ]
  },
  {
   "cell_type": "code",
   "execution_count": 1,
   "id": "ac9d8944",
   "metadata": {},
   "outputs": [],
   "source": [
    "import pandas as pd\n",
    "import seaborn as sns\n",
    "import numpy as np\n",
    "import matplotlib.pyplot as plt\n",
    "from sklearn.model_selection import train_test_split\n",
    "from sklearn.linear_model import LinearRegression"
   ]
  },
  {
   "cell_type": "code",
   "execution_count": 2,
   "id": "0125a03e",
   "metadata": {},
   "outputs": [],
   "source": [
    "#loading the data\n",
    "\n",
    "data=pd.read_csv(\"C:/Users/DELL LYF/Documents/insurance.csv\")"
   ]
  },
  {
   "cell_type": "code",
   "execution_count": 3,
   "id": "78073995",
   "metadata": {},
   "outputs": [
    {
     "data": {
      "text/html": [
       "<div>\n",
       "<style scoped>\n",
       "    .dataframe tbody tr th:only-of-type {\n",
       "        vertical-align: middle;\n",
       "    }\n",
       "\n",
       "    .dataframe tbody tr th {\n",
       "        vertical-align: top;\n",
       "    }\n",
       "\n",
       "    .dataframe thead th {\n",
       "        text-align: right;\n",
       "    }\n",
       "</style>\n",
       "<table border=\"1\" class=\"dataframe\">\n",
       "  <thead>\n",
       "    <tr style=\"text-align: right;\">\n",
       "      <th></th>\n",
       "      <th>age</th>\n",
       "      <th>sex</th>\n",
       "      <th>bmi</th>\n",
       "      <th>children</th>\n",
       "      <th>smoker</th>\n",
       "      <th>region</th>\n",
       "      <th>charges</th>\n",
       "    </tr>\n",
       "  </thead>\n",
       "  <tbody>\n",
       "    <tr>\n",
       "      <th>0</th>\n",
       "      <td>19</td>\n",
       "      <td>female</td>\n",
       "      <td>27.900</td>\n",
       "      <td>0</td>\n",
       "      <td>yes</td>\n",
       "      <td>southwest</td>\n",
       "      <td>16884.92400</td>\n",
       "    </tr>\n",
       "    <tr>\n",
       "      <th>1</th>\n",
       "      <td>18</td>\n",
       "      <td>male</td>\n",
       "      <td>33.770</td>\n",
       "      <td>1</td>\n",
       "      <td>no</td>\n",
       "      <td>southeast</td>\n",
       "      <td>1725.55230</td>\n",
       "    </tr>\n",
       "    <tr>\n",
       "      <th>2</th>\n",
       "      <td>28</td>\n",
       "      <td>male</td>\n",
       "      <td>33.000</td>\n",
       "      <td>3</td>\n",
       "      <td>no</td>\n",
       "      <td>southeast</td>\n",
       "      <td>4449.46200</td>\n",
       "    </tr>\n",
       "    <tr>\n",
       "      <th>3</th>\n",
       "      <td>33</td>\n",
       "      <td>male</td>\n",
       "      <td>22.705</td>\n",
       "      <td>0</td>\n",
       "      <td>no</td>\n",
       "      <td>northwest</td>\n",
       "      <td>21984.47061</td>\n",
       "    </tr>\n",
       "    <tr>\n",
       "      <th>4</th>\n",
       "      <td>32</td>\n",
       "      <td>male</td>\n",
       "      <td>28.880</td>\n",
       "      <td>0</td>\n",
       "      <td>no</td>\n",
       "      <td>northwest</td>\n",
       "      <td>3866.85520</td>\n",
       "    </tr>\n",
       "  </tbody>\n",
       "</table>\n",
       "</div>"
      ],
      "text/plain": [
       "   age     sex     bmi  children smoker     region      charges\n",
       "0   19  female  27.900         0    yes  southwest  16884.92400\n",
       "1   18    male  33.770         1     no  southeast   1725.55230\n",
       "2   28    male  33.000         3     no  southeast   4449.46200\n",
       "3   33    male  22.705         0     no  northwest  21984.47061\n",
       "4   32    male  28.880         0     no  northwest   3866.85520"
      ]
     },
     "execution_count": 3,
     "metadata": {},
     "output_type": "execute_result"
    }
   ],
   "source": [
    "#inspecting the first 5 rows\n",
    "\n",
    "data.head()"
   ]
  },
  {
   "cell_type": "code",
   "execution_count": 4,
   "id": "b5d77a7e",
   "metadata": {},
   "outputs": [
    {
     "data": {
      "text/html": [
       "<div>\n",
       "<style scoped>\n",
       "    .dataframe tbody tr th:only-of-type {\n",
       "        vertical-align: middle;\n",
       "    }\n",
       "\n",
       "    .dataframe tbody tr th {\n",
       "        vertical-align: top;\n",
       "    }\n",
       "\n",
       "    .dataframe thead th {\n",
       "        text-align: right;\n",
       "    }\n",
       "</style>\n",
       "<table border=\"1\" class=\"dataframe\">\n",
       "  <thead>\n",
       "    <tr style=\"text-align: right;\">\n",
       "      <th></th>\n",
       "      <th>age</th>\n",
       "      <th>sex</th>\n",
       "      <th>bmi</th>\n",
       "      <th>children</th>\n",
       "      <th>smoker</th>\n",
       "      <th>region</th>\n",
       "      <th>charges</th>\n",
       "    </tr>\n",
       "  </thead>\n",
       "  <tbody>\n",
       "    <tr>\n",
       "      <th>1333</th>\n",
       "      <td>50</td>\n",
       "      <td>male</td>\n",
       "      <td>30.97</td>\n",
       "      <td>3</td>\n",
       "      <td>no</td>\n",
       "      <td>northwest</td>\n",
       "      <td>10600.5483</td>\n",
       "    </tr>\n",
       "    <tr>\n",
       "      <th>1334</th>\n",
       "      <td>18</td>\n",
       "      <td>female</td>\n",
       "      <td>31.92</td>\n",
       "      <td>0</td>\n",
       "      <td>no</td>\n",
       "      <td>northeast</td>\n",
       "      <td>2205.9808</td>\n",
       "    </tr>\n",
       "    <tr>\n",
       "      <th>1335</th>\n",
       "      <td>18</td>\n",
       "      <td>female</td>\n",
       "      <td>36.85</td>\n",
       "      <td>0</td>\n",
       "      <td>no</td>\n",
       "      <td>southeast</td>\n",
       "      <td>1629.8335</td>\n",
       "    </tr>\n",
       "    <tr>\n",
       "      <th>1336</th>\n",
       "      <td>21</td>\n",
       "      <td>female</td>\n",
       "      <td>25.80</td>\n",
       "      <td>0</td>\n",
       "      <td>no</td>\n",
       "      <td>southwest</td>\n",
       "      <td>2007.9450</td>\n",
       "    </tr>\n",
       "    <tr>\n",
       "      <th>1337</th>\n",
       "      <td>61</td>\n",
       "      <td>female</td>\n",
       "      <td>29.07</td>\n",
       "      <td>0</td>\n",
       "      <td>yes</td>\n",
       "      <td>northwest</td>\n",
       "      <td>29141.3603</td>\n",
       "    </tr>\n",
       "  </tbody>\n",
       "</table>\n",
       "</div>"
      ],
      "text/plain": [
       "      age     sex    bmi  children smoker     region     charges\n",
       "1333   50    male  30.97         3     no  northwest  10600.5483\n",
       "1334   18  female  31.92         0     no  northeast   2205.9808\n",
       "1335   18  female  36.85         0     no  southeast   1629.8335\n",
       "1336   21  female  25.80         0     no  southwest   2007.9450\n",
       "1337   61  female  29.07         0    yes  northwest  29141.3603"
      ]
     },
     "execution_count": 4,
     "metadata": {},
     "output_type": "execute_result"
    }
   ],
   "source": [
    "\n",
    "\n",
    "#last 5 rows\n",
    "\n",
    "data.tail()"
   ]
  },
  {
   "cell_type": "code",
   "execution_count": 5,
   "id": "050e0abc",
   "metadata": {},
   "outputs": [
    {
     "data": {
      "text/plain": [
       "age         0\n",
       "sex         0\n",
       "bmi         0\n",
       "children    0\n",
       "smoker      0\n",
       "region      0\n",
       "charges     0\n",
       "dtype: int64"
      ]
     },
     "execution_count": 5,
     "metadata": {},
     "output_type": "execute_result"
    }
   ],
   "source": [
    "#checking the  number of missing values\n",
    "\n",
    "data.isnull().sum()"
   ]
  },
  {
   "cell_type": "code",
   "execution_count": 6,
   "id": "f38eab0c",
   "metadata": {},
   "outputs": [
    {
     "name": "stdout",
     "output_type": "stream",
     "text": [
      "<class 'pandas.core.frame.DataFrame'>\n",
      "RangeIndex: 1338 entries, 0 to 1337\n",
      "Data columns (total 7 columns):\n",
      " #   Column    Non-Null Count  Dtype  \n",
      "---  ------    --------------  -----  \n",
      " 0   age       1338 non-null   int64  \n",
      " 1   sex       1338 non-null   object \n",
      " 2   bmi       1338 non-null   float64\n",
      " 3   children  1338 non-null   int64  \n",
      " 4   smoker    1338 non-null   object \n",
      " 5   region    1338 non-null   object \n",
      " 6   charges   1338 non-null   float64\n",
      "dtypes: float64(2), int64(2), object(3)\n",
      "memory usage: 73.3+ KB\n"
     ]
    }
   ],
   "source": [
    "#getting some information about the data set\n",
    "\n",
    "data.info()"
   ]
  },
  {
   "cell_type": "code",
   "execution_count": 7,
   "id": "e4dab8a8",
   "metadata": {},
   "outputs": [
    {
     "data": {
      "text/plain": [
       "(1338, 7)"
      ]
     },
     "execution_count": 7,
     "metadata": {},
     "output_type": "execute_result"
    }
   ],
   "source": [
    "#checking the number of rows and columns\n",
    "\n",
    "data.shape"
   ]
  },
  {
   "cell_type": "code",
   "execution_count": 8,
   "id": "fca02f7c",
   "metadata": {},
   "outputs": [
    {
     "data": {
      "text/html": [
       "<div>\n",
       "<style scoped>\n",
       "    .dataframe tbody tr th:only-of-type {\n",
       "        vertical-align: middle;\n",
       "    }\n",
       "\n",
       "    .dataframe tbody tr th {\n",
       "        vertical-align: top;\n",
       "    }\n",
       "\n",
       "    .dataframe thead th {\n",
       "        text-align: right;\n",
       "    }\n",
       "</style>\n",
       "<table border=\"1\" class=\"dataframe\">\n",
       "  <thead>\n",
       "    <tr style=\"text-align: right;\">\n",
       "      <th></th>\n",
       "      <th>age</th>\n",
       "      <th>bmi</th>\n",
       "      <th>children</th>\n",
       "      <th>charges</th>\n",
       "    </tr>\n",
       "  </thead>\n",
       "  <tbody>\n",
       "    <tr>\n",
       "      <th>count</th>\n",
       "      <td>1338.000000</td>\n",
       "      <td>1338.000000</td>\n",
       "      <td>1338.000000</td>\n",
       "      <td>1338.000000</td>\n",
       "    </tr>\n",
       "    <tr>\n",
       "      <th>mean</th>\n",
       "      <td>39.207025</td>\n",
       "      <td>30.663397</td>\n",
       "      <td>1.094918</td>\n",
       "      <td>13270.422265</td>\n",
       "    </tr>\n",
       "    <tr>\n",
       "      <th>std</th>\n",
       "      <td>14.049960</td>\n",
       "      <td>6.098187</td>\n",
       "      <td>1.205493</td>\n",
       "      <td>12110.011237</td>\n",
       "    </tr>\n",
       "    <tr>\n",
       "      <th>min</th>\n",
       "      <td>18.000000</td>\n",
       "      <td>15.960000</td>\n",
       "      <td>0.000000</td>\n",
       "      <td>1121.873900</td>\n",
       "    </tr>\n",
       "    <tr>\n",
       "      <th>25%</th>\n",
       "      <td>27.000000</td>\n",
       "      <td>26.296250</td>\n",
       "      <td>0.000000</td>\n",
       "      <td>4740.287150</td>\n",
       "    </tr>\n",
       "    <tr>\n",
       "      <th>50%</th>\n",
       "      <td>39.000000</td>\n",
       "      <td>30.400000</td>\n",
       "      <td>1.000000</td>\n",
       "      <td>9382.033000</td>\n",
       "    </tr>\n",
       "    <tr>\n",
       "      <th>75%</th>\n",
       "      <td>51.000000</td>\n",
       "      <td>34.693750</td>\n",
       "      <td>2.000000</td>\n",
       "      <td>16639.912515</td>\n",
       "    </tr>\n",
       "    <tr>\n",
       "      <th>max</th>\n",
       "      <td>64.000000</td>\n",
       "      <td>53.130000</td>\n",
       "      <td>5.000000</td>\n",
       "      <td>63770.428010</td>\n",
       "    </tr>\n",
       "  </tbody>\n",
       "</table>\n",
       "</div>"
      ],
      "text/plain": [
       "               age          bmi     children       charges\n",
       "count  1338.000000  1338.000000  1338.000000   1338.000000\n",
       "mean     39.207025    30.663397     1.094918  13270.422265\n",
       "std      14.049960     6.098187     1.205493  12110.011237\n",
       "min      18.000000    15.960000     0.000000   1121.873900\n",
       "25%      27.000000    26.296250     0.000000   4740.287150\n",
       "50%      39.000000    30.400000     1.000000   9382.033000\n",
       "75%      51.000000    34.693750     2.000000  16639.912515\n",
       "max      64.000000    53.130000     5.000000  63770.428010"
      ]
     },
     "execution_count": 8,
     "metadata": {},
     "output_type": "execute_result"
    }
   ],
   "source": [
    "#describing the dataset\n",
    "\n",
    "data.describe()"
   ]
  },
  {
   "cell_type": "markdown",
   "id": "b69fd7cf",
   "metadata": {},
   "source": [
    "# Data Visualization"
   ]
  },
  {
   "cell_type": "code",
   "execution_count": 9,
   "id": "36535e17",
   "metadata": {},
   "outputs": [
    {
     "data": {
      "text/plain": [
       "<Axes: xlabel='age', ylabel='charges'>"
      ]
     },
     "execution_count": 9,
     "metadata": {},
     "output_type": "execute_result"
    },
    {
     "data": {
      "image/png": "[encoded data removed]",
      "text/plain": [
       "<Figure size 640x480 with 1 Axes>"
      ]
     },
     "metadata": {},
     "output_type": "display_data"
    }
   ],
   "source": [
    "#Visualization for charges and age\n",
    "sns.lineplot(data=data,x='age',y='charges')"
   ]
  },
  {
   "cell_type": "code",
   "execution_count": 10,
   "id": "79ba46e1",
   "metadata": {},
   "outputs": [
    {
     "name": "stderr",
     "output_type": "stream",
     "text": [
      "C:\\Users\\DELL LYF\\AppData\\Local\\Temp\\ipykernel_8208\\3303687566.py:1: UserWarning: \n",
      "\n",
      "`distplot` is a deprecated function and will be removed in seaborn v0.14.0.\n",
      "\n",
      "Please adapt your code to use either `displot` (a figure-level function with\n",
      "similar flexibility) or `histplot` (an axes-level function for histograms).\n",
      "\n",
      "For a guide to updating your code to use the new functions, please see\n",
      "https://gist.github.com/mwaskom/de44147ed2974457ad6372750bbe5751\n",
      "\n",
      "  sns.distplot(data['charges'])\n"
     ]
    },
    {
     "data": {
      "text/plain": [
       "<Axes: xlabel='charges', ylabel='Density'>"
      ]
     },
     "execution_count": 10,
     "metadata": {},
     "output_type": "execute_result"
    },
    {
     "data": {
      "image/png": "[encoded data removed]",
      "text/plain": [
       "<Figure size 640x480 with 1 Axes>"
      ]
     },
     "metadata": {},
     "output_type": "display_data"
    }
   ],
   "source": [
    "sns.distplot(data['charges'])"
   ]
  },
  {
   "cell_type": "code",
   "execution_count": 11,
   "id": "1c3f4162",
   "metadata": {},
   "outputs": [
    {
     "data": {
      "image/png": "[encoded data removed]",
      "text/plain": [
       "<Figure size 600x600 with 1 Axes>"
      ]
     },
     "metadata": {},
     "output_type": "display_data"
    }
   ],
   "source": [
    "# Visualization between smoker and count\n",
    "plt.figure(figsize=(6,6))\n",
    "sns.countplot(x='smoker',data=data)\n",
    "plt.title('smoker')\n",
    "plt.show()"
   ]
  },
  {
   "cell_type": "code",
   "execution_count": 12,
   "id": "a6302503",
   "metadata": {},
   "outputs": [
    {
     "data": {
      "image/png": "[encoded data removed]",
      "text/plain": [
       "<Figure size 600x600 with 1 Axes>"
      ]
     },
     "metadata": {},
     "output_type": "display_data"
    }
   ],
   "source": [
    "#Visualization between region and count\n",
    "plt.figure(figsize=(6,6))\n",
    "sns.countplot(x='region',data=data)\n",
    "plt.title('region')\n",
    "plt.show()"
   ]
  },
  {
   "cell_type": "code",
   "execution_count": 13,
   "id": "3d86b968",
   "metadata": {},
   "outputs": [
    {
     "data": {
      "text/plain": [
       "southeast    364\n",
       "southwest    325\n",
       "northwest    325\n",
       "northeast    324\n",
       "Name: region, dtype: int64"
      ]
     },
     "execution_count": 13,
     "metadata": {},
     "output_type": "execute_result"
    }
   ],
   "source": [
    "#counts of region\n",
    "data['region'].value_counts()"
   ]
  },
  {
   "cell_type": "code",
   "execution_count": 14,
   "id": "9b9daec5",
   "metadata": {},
   "outputs": [
    {
     "data": {
      "image/png": "[encoded data removed]",
      "text/plain": [
       "<Figure size 600x600 with 1 Axes>"
      ]
     },
     "metadata": {},
     "output_type": "display_data"
    }
   ],
   "source": [
    "\n",
    "#Visualization between sex distribution and count\n",
    "plt.figure(figsize=(6,6))\n",
    "sns.countplot(x='sex', data=data)\n",
    "plt.title('Sex Distribution')\n",
    "plt.show()"
   ]
  },
  {
   "cell_type": "code",
   "execution_count": 15,
   "id": "7f3b2886",
   "metadata": {},
   "outputs": [
    {
     "data": {
      "image/png": "[encoded data removed]",
      "text/plain": [
       "<Figure size 600x600 with 1 Axes>"
      ]
     },
     "metadata": {},
     "output_type": "display_data"
    }
   ],
   "source": [
    "#Visualization of children count\n",
    "plt.figure(figsize=(6,6))\n",
    "sns.countplot(x='children', data=data)\n",
    "plt.title('Children')\n",
    "plt.show()"
   ]
  },
  {
   "cell_type": "code",
   "execution_count": 16,
   "id": "848e08a4",
   "metadata": {},
   "outputs": [
    {
     "data": {
      "text/plain": [
       "0    574\n",
       "1    324\n",
       "2    240\n",
       "3    157\n",
       "4     25\n",
       "5     18\n",
       "Name: children, dtype: int64"
      ]
     },
     "execution_count": 16,
     "metadata": {},
     "output_type": "execute_result"
    }
   ],
   "source": [
    "\n",
    "#children counts\n",
    "data['children'].value_counts()"
   ]
  },
  {
   "cell_type": "code",
   "execution_count": 17,
   "id": "a81a6d81",
   "metadata": {},
   "outputs": [
    {
     "data": {
      "text/plain": [
       "male      676\n",
       "female    662\n",
       "Name: sex, dtype: int64"
      ]
     },
     "execution_count": 17,
     "metadata": {},
     "output_type": "execute_result"
    }
   ],
   "source": [
    "#male ,female counts\n",
    "data['sex'].value_counts()"
   ]
  },
  {
   "cell_type": "code",
   "execution_count": 18,
   "id": "2c012299",
   "metadata": {},
   "outputs": [],
   "source": [
    "#encoding\n",
    "data.replace({'sex':{'male':0,'female':1}},inplace=True)\n",
    "data.replace({'smoker':{'yes':0,'no':1}},inplace=True)\n",
    "data.replace({'region':{'southeast':0,'southwest':1,'northeast':2,'northwest':3}},inplace=True)"
   ]
  },
  {
   "cell_type": "code",
   "execution_count": 19,
   "id": "40c97f57",
   "metadata": {},
   "outputs": [
    {
     "data": {
      "text/html": [
       "<div>\n",
       "<style scoped>\n",
       "    .dataframe tbody tr th:only-of-type {\n",
       "        vertical-align: middle;\n",
       "    }\n",
       "\n",
       "    .dataframe tbody tr th {\n",
       "        vertical-align: top;\n",
       "    }\n",
       "\n",
       "    .dataframe thead th {\n",
       "        text-align: right;\n",
       "    }\n",
       "</style>\n",
       "<table border=\"1\" class=\"dataframe\">\n",
       "  <thead>\n",
       "    <tr style=\"text-align: right;\">\n",
       "      <th></th>\n",
       "      <th>age</th>\n",
       "      <th>sex</th>\n",
       "      <th>bmi</th>\n",
       "      <th>children</th>\n",
       "      <th>smoker</th>\n",
       "      <th>region</th>\n",
       "      <th>charges</th>\n",
       "    </tr>\n",
       "  </thead>\n",
       "  <tbody>\n",
       "    <tr>\n",
       "      <th>0</th>\n",
       "      <td>19</td>\n",
       "      <td>1</td>\n",
       "      <td>27.900</td>\n",
       "      <td>0</td>\n",
       "      <td>0</td>\n",
       "      <td>1</td>\n",
       "      <td>16884.92400</td>\n",
       "    </tr>\n",
       "    <tr>\n",
       "      <th>1</th>\n",
       "      <td>18</td>\n",
       "      <td>0</td>\n",
       "      <td>33.770</td>\n",
       "      <td>1</td>\n",
       "      <td>1</td>\n",
       "      <td>0</td>\n",
       "      <td>1725.55230</td>\n",
       "    </tr>\n",
       "    <tr>\n",
       "      <th>2</th>\n",
       "      <td>28</td>\n",
       "      <td>0</td>\n",
       "      <td>33.000</td>\n",
       "      <td>3</td>\n",
       "      <td>1</td>\n",
       "      <td>0</td>\n",
       "      <td>4449.46200</td>\n",
       "    </tr>\n",
       "    <tr>\n",
       "      <th>3</th>\n",
       "      <td>33</td>\n",
       "      <td>0</td>\n",
       "      <td>22.705</td>\n",
       "      <td>0</td>\n",
       "      <td>1</td>\n",
       "      <td>3</td>\n",
       "      <td>21984.47061</td>\n",
       "    </tr>\n",
       "    <tr>\n",
       "      <th>4</th>\n",
       "      <td>32</td>\n",
       "      <td>0</td>\n",
       "      <td>28.880</td>\n",
       "      <td>0</td>\n",
       "      <td>1</td>\n",
       "      <td>3</td>\n",
       "      <td>3866.85520</td>\n",
       "    </tr>\n",
       "  </tbody>\n",
       "</table>\n",
       "</div>"
      ],
      "text/plain": [
       "   age  sex     bmi  children  smoker  region      charges\n",
       "0   19    1  27.900         0       0       1  16884.92400\n",
       "1   18    0  33.770         1       1       0   1725.55230\n",
       "2   28    0  33.000         3       1       0   4449.46200\n",
       "3   33    0  22.705         0       1       3  21984.47061\n",
       "4   32    0  28.880         0       1       3   3866.85520"
      ]
     },
     "execution_count": 19,
     "metadata": {},
     "output_type": "execute_result"
    }
   ],
   "source": [
    "\n",
    "\n",
    "data.head()"
   ]
  },
  {
   "cell_type": "markdown",
   "id": "12147e49",
   "metadata": {},
   "source": [
    "# spliting the data"
   ]
  },
  {
   "cell_type": "code",
   "execution_count": 20,
   "id": "b20b104e",
   "metadata": {},
   "outputs": [],
   "source": [
    "\n",
    "x=data[['sex','smoker','region']]\n",
    "y=data['charges']"
   ]
  },
  {
   "cell_type": "code",
   "execution_count": 21,
   "id": "5ee9f6a9",
   "metadata": {},
   "outputs": [
    {
     "data": {
      "text/html": [
       "<div>\n",
       "<style scoped>\n",
       "    .dataframe tbody tr th:only-of-type {\n",
       "        vertical-align: middle;\n",
       "    }\n",
       "\n",
       "    .dataframe tbody tr th {\n",
       "        vertical-align: top;\n",
       "    }\n",
       "\n",
       "    .dataframe thead th {\n",
       "        text-align: right;\n",
       "    }\n",
       "</style>\n",
       "<table border=\"1\" class=\"dataframe\">\n",
       "  <thead>\n",
       "    <tr style=\"text-align: right;\">\n",
       "      <th></th>\n",
       "      <th>sex</th>\n",
       "      <th>smoker</th>\n",
       "      <th>region</th>\n",
       "    </tr>\n",
       "  </thead>\n",
       "  <tbody>\n",
       "    <tr>\n",
       "      <th>0</th>\n",
       "      <td>1</td>\n",
       "      <td>0</td>\n",
       "      <td>1</td>\n",
       "    </tr>\n",
       "    <tr>\n",
       "      <th>1</th>\n",
       "      <td>0</td>\n",
       "      <td>1</td>\n",
       "      <td>0</td>\n",
       "    </tr>\n",
       "    <tr>\n",
       "      <th>2</th>\n",
       "      <td>0</td>\n",
       "      <td>1</td>\n",
       "      <td>0</td>\n",
       "    </tr>\n",
       "    <tr>\n",
       "      <th>3</th>\n",
       "      <td>0</td>\n",
       "      <td>1</td>\n",
       "      <td>3</td>\n",
       "    </tr>\n",
       "    <tr>\n",
       "      <th>4</th>\n",
       "      <td>0</td>\n",
       "      <td>1</td>\n",
       "      <td>3</td>\n",
       "    </tr>\n",
       "    <tr>\n",
       "      <th>...</th>\n",
       "      <td>...</td>\n",
       "      <td>...</td>\n",
       "      <td>...</td>\n",
       "    </tr>\n",
       "    <tr>\n",
       "      <th>1333</th>\n",
       "      <td>0</td>\n",
       "      <td>1</td>\n",
       "      <td>3</td>\n",
       "    </tr>\n",
       "    <tr>\n",
       "      <th>1334</th>\n",
       "      <td>1</td>\n",
       "      <td>1</td>\n",
       "      <td>2</td>\n",
       "    </tr>\n",
       "    <tr>\n",
       "      <th>1335</th>\n",
       "      <td>1</td>\n",
       "      <td>1</td>\n",
       "      <td>0</td>\n",
       "    </tr>\n",
       "    <tr>\n",
       "      <th>1336</th>\n",
       "      <td>1</td>\n",
       "      <td>1</td>\n",
       "      <td>1</td>\n",
       "    </tr>\n",
       "    <tr>\n",
       "      <th>1337</th>\n",
       "      <td>1</td>\n",
       "      <td>0</td>\n",
       "      <td>3</td>\n",
       "    </tr>\n",
       "  </tbody>\n",
       "</table>\n",
       "<p>1338 rows × 3 columns</p>\n",
       "</div>"
      ],
      "text/plain": [
       "      sex  smoker  region\n",
       "0       1       0       1\n",
       "1       0       1       0\n",
       "2       0       1       0\n",
       "3       0       1       3\n",
       "4       0       1       3\n",
       "...   ...     ...     ...\n",
       "1333    0       1       3\n",
       "1334    1       1       2\n",
       "1335    1       1       0\n",
       "1336    1       1       1\n",
       "1337    1       0       3\n",
       "\n",
       "[1338 rows x 3 columns]"
      ]
     },
     "execution_count": 21,
     "metadata": {},
     "output_type": "execute_result"
    }
   ],
   "source": [
    "x"
   ]
  },
  {
   "cell_type": "code",
   "execution_count": 22,
   "id": "891542da",
   "metadata": {},
   "outputs": [
    {
     "data": {
      "text/plain": [
       "0       16884.92400\n",
       "1        1725.55230\n",
       "2        4449.46200\n",
       "3       21984.47061\n",
       "4        3866.85520\n",
       "           ...     \n",
       "1333    10600.54830\n",
       "1334     2205.98080\n",
       "1335     1629.83350\n",
       "1336     2007.94500\n",
       "1337    29141.36030\n",
       "Name: charges, Length: 1338, dtype: float64"
      ]
     },
     "execution_count": 22,
     "metadata": {},
     "output_type": "execute_result"
    }
   ],
   "source": [
    "y"
   ]
  },
  {
   "cell_type": "markdown",
   "id": "859c924e",
   "metadata": {},
   "source": [
    "# Test-Train Split"
   ]
  },
  {
   "cell_type": "code",
   "execution_count": 23,
   "id": "c09c0f2f",
   "metadata": {},
   "outputs": [],
   "source": [
    "#spliting the data into train and test\n",
    "x_train,x_test,y_train,y_test=train_test_split(x,y,test_size=0.3,random_state=0)"
   ]
  },
  {
   "cell_type": "code",
   "execution_count": 24,
   "id": "47c60050",
   "metadata": {},
   "outputs": [
    {
     "data": {
      "text/html": [
       "<div>\n",
       "<style scoped>\n",
       "    .dataframe tbody tr th:only-of-type {\n",
       "        vertical-align: middle;\n",
       "    }\n",
       "\n",
       "    .dataframe tbody tr th {\n",
       "        vertical-align: top;\n",
       "    }\n",
       "\n",
       "    .dataframe thead th {\n",
       "        text-align: right;\n",
       "    }\n",
       "</style>\n",
       "<table border=\"1\" class=\"dataframe\">\n",
       "  <thead>\n",
       "    <tr style=\"text-align: right;\">\n",
       "      <th></th>\n",
       "      <th>sex</th>\n",
       "      <th>smoker</th>\n",
       "      <th>region</th>\n",
       "    </tr>\n",
       "  </thead>\n",
       "  <tbody>\n",
       "    <tr>\n",
       "      <th>578</th>\n",
       "      <td>0</td>\n",
       "      <td>1</td>\n",
       "      <td>1</td>\n",
       "    </tr>\n",
       "    <tr>\n",
       "      <th>610</th>\n",
       "      <td>1</td>\n",
       "      <td>1</td>\n",
       "      <td>0</td>\n",
       "    </tr>\n",
       "    <tr>\n",
       "      <th>569</th>\n",
       "      <td>0</td>\n",
       "      <td>0</td>\n",
       "      <td>3</td>\n",
       "    </tr>\n",
       "    <tr>\n",
       "      <th>1034</th>\n",
       "      <td>0</td>\n",
       "      <td>1</td>\n",
       "      <td>3</td>\n",
       "    </tr>\n",
       "    <tr>\n",
       "      <th>198</th>\n",
       "      <td>1</td>\n",
       "      <td>1</td>\n",
       "      <td>3</td>\n",
       "    </tr>\n",
       "    <tr>\n",
       "      <th>...</th>\n",
       "      <td>...</td>\n",
       "      <td>...</td>\n",
       "      <td>...</td>\n",
       "    </tr>\n",
       "    <tr>\n",
       "      <th>1261</th>\n",
       "      <td>0</td>\n",
       "      <td>1</td>\n",
       "      <td>1</td>\n",
       "    </tr>\n",
       "    <tr>\n",
       "      <th>494</th>\n",
       "      <td>0</td>\n",
       "      <td>0</td>\n",
       "      <td>1</td>\n",
       "    </tr>\n",
       "    <tr>\n",
       "      <th>97</th>\n",
       "      <td>0</td>\n",
       "      <td>1</td>\n",
       "      <td>0</td>\n",
       "    </tr>\n",
       "    <tr>\n",
       "      <th>418</th>\n",
       "      <td>0</td>\n",
       "      <td>1</td>\n",
       "      <td>0</td>\n",
       "    </tr>\n",
       "    <tr>\n",
       "      <th>920</th>\n",
       "      <td>1</td>\n",
       "      <td>1</td>\n",
       "      <td>1</td>\n",
       "    </tr>\n",
       "  </tbody>\n",
       "</table>\n",
       "<p>402 rows × 3 columns</p>\n",
       "</div>"
      ],
      "text/plain": [
       "      sex  smoker  region\n",
       "578     0       1       1\n",
       "610     1       1       0\n",
       "569     0       0       3\n",
       "1034    0       1       3\n",
       "198     1       1       3\n",
       "...   ...     ...     ...\n",
       "1261    0       1       1\n",
       "494     0       0       1\n",
       "97      0       1       0\n",
       "418     0       1       0\n",
       "920     1       1       1\n",
       "\n",
       "[402 rows x 3 columns]"
      ]
     },
     "execution_count": 24,
     "metadata": {},
     "output_type": "execute_result"
    }
   ],
   "source": [
    "x_test"
   ]
  },
  {
   "cell_type": "code",
   "execution_count": 25,
   "id": "2af360ff",
   "metadata": {},
   "outputs": [
    {
     "data": {
      "text/plain": [
       "578      9724.53000\n",
       "610      8547.69130\n",
       "569     45702.02235\n",
       "1034    12950.07120\n",
       "198      9644.25250\n",
       "           ...     \n",
       "1261     3277.16100\n",
       "494     17942.10600\n",
       "97      10226.28420\n",
       "418     14418.28040\n",
       "920     13451.12200\n",
       "Name: charges, Length: 402, dtype: float64"
      ]
     },
     "execution_count": 25,
     "metadata": {},
     "output_type": "execute_result"
    }
   ],
   "source": [
    "y_test"
   ]
  },
  {
   "cell_type": "markdown",
   "id": "8acae947",
   "metadata": {},
   "source": [
    "# Linear Regression\n",
    "Linear regression is a type of supervised machine learning algorithm that computes the linear relationship between a dependent variable and one or more independent features."
   ]
  },
  {
   "cell_type": "code",
   "execution_count": 26,
   "id": "aaf0bace",
   "metadata": {},
   "outputs": [],
   "source": [
    "ln=LinearRegression()"
   ]
  },
  {
   "cell_type": "code",
   "execution_count": 27,
   "id": "5c1491b9",
   "metadata": {},
   "outputs": [
    {
     "data": {
      "text/html": [
       "<style>#sk-container-id-1 {color: black;background-color: white;}#sk-container-id-1 pre{padding: 0;}#sk-container-id-1 div.sk-toggleable {background-color: white;}#sk-container-id-1 label.sk-toggleable__label {cursor: pointer;display: block;width: 100%;margin-bottom: 0;padding: 0.3em;box-sizing: border-box;text-align: center;}#sk-container-id-1 label.sk-toggleable__label-arrow:before {content: \"▸\";float: left;margin-right: 0.25em;color: #696969;}#sk-container-id-1 label.sk-toggleable__label-arrow:hover:before {color: black;}#sk-container-id-1 div.sk-estimator:hover label.sk-toggleable__label-arrow:before {color: black;}#sk-container-id-1 div.sk-toggleable__content {max-height: 0;max-width: 0;overflow: hidden;text-align: left;background-color: #f0f8ff;}#sk-container-id-1 div.sk-toggleable__content pre {margin: 0.2em;color: black;border-radius: 0.25em;background-color: #f0f8ff;}#sk-container-id-1 input.sk-toggleable__control:checked~div.sk-toggleable__content {max-height: 200px;max-width: 100%;overflow: auto;}#sk-container-id-1 input.sk-toggleable__control:checked~label.sk-toggleable__label-arrow:before {content: \"▾\";}#sk-container-id-1 div.sk-estimator input.sk-toggleable__control:checked~label.sk-toggleable__label {background-color: #d4ebff;}#sk-container-id-1 div.sk-label input.sk-toggleable__control:checked~label.sk-toggleable__label {background-color: #d4ebff;}#sk-container-id-1 input.sk-hidden--visually {border: 0;clip: rect(1px 1px 1px 1px);clip: rect(1px, 1px, 1px, 1px);height: 1px;margin: -1px;overflow: hidden;padding: 0;position: absolute;width: 1px;}#sk-container-id-1 div.sk-estimator {font-family: monospace;background-color: #f0f8ff;border: 1px dotted black;border-radius: 0.25em;box-sizing: border-box;margin-bottom: 0.5em;}#sk-container-id-1 div.sk-estimator:hover {background-color: #d4ebff;}#sk-container-id-1 div.sk-parallel-item::after {content: \"\";width: 100%;border-bottom: 1px solid gray;flex-grow: 1;}#sk-container-id-1 div.sk-label:hover label.sk-toggleable__label {background-color: #d4ebff;}#sk-container-id-1 div.sk-serial::before {content: \"\";position: absolute;border-left: 1px solid gray;box-sizing: border-box;top: 0;bottom: 0;left: 50%;z-index: 0;}#sk-container-id-1 div.sk-serial {display: flex;flex-direction: column;align-items: center;background-color: white;padding-right: 0.2em;padding-left: 0.2em;position: relative;}#sk-container-id-1 div.sk-item {position: relative;z-index: 1;}#sk-container-id-1 div.sk-parallel {display: flex;align-items: stretch;justify-content: center;background-color: white;position: relative;}#sk-container-id-1 div.sk-item::before, #sk-container-id-1 div.sk-parallel-item::before {content: \"\";position: absolute;border-left: 1px solid gray;box-sizing: border-box;top: 0;bottom: 0;left: 50%;z-index: -1;}#sk-container-id-1 div.sk-parallel-item {display: flex;flex-direction: column;z-index: 1;position: relative;background-color: white;}#sk-container-id-1 div.sk-parallel-item:first-child::after {align-self: flex-end;width: 50%;}#sk-container-id-1 div.sk-parallel-item:last-child::after {align-self: flex-start;width: 50%;}#sk-container-id-1 div.sk-parallel-item:only-child::after {width: 0;}#sk-container-id-1 div.sk-dashed-wrapped {border: 1px dashed gray;margin: 0 0.4em 0.5em 0.4em;box-sizing: border-box;padding-bottom: 0.4em;background-color: white;}#sk-container-id-1 div.sk-label label {font-family: monospace;font-weight: bold;display: inline-block;line-height: 1.2em;}#sk-container-id-1 div.sk-label-container {text-align: center;}#sk-container-id-1 div.sk-container {/* jupyter's `normalize.less` sets `[hidden] { display: none; }` but bootstrap.min.css set `[hidden] { display: none !important; }` so we also need the `!important` here to be able to override the default hidden behavior on the sphinx rendered scikit-learn.org. See: https://github.com/scikit-learn/scikit-learn/issues/21755 */display: inline-block !important;position: relative;}#sk-container-id-1 div.sk-text-repr-fallback {display: none;}</style><div id=\"sk-container-id-1\" class=\"sk-top-container\"><div class=\"sk-text-repr-fallback\"><pre>LinearRegression()</pre><b>In a Jupyter environment, please rerun this cell to show the HTML representation or trust the notebook. <br />On GitHub, the HTML representation is unable to render, please try loading this page with nbviewer.org.</b></div><div class=\"sk-container\" hidden><div class=\"sk-item\"><div class=\"sk-estimator sk-toggleable\"><input class=\"sk-toggleable__control sk-hidden--visually\" id=\"sk-estimator-id-1\" type=\"checkbox\" checked><label for=\"sk-estimator-id-1\" class=\"sk-toggleable__label sk-toggleable__label-arrow\">LinearRegression</label><div class=\"sk-toggleable__content\"><pre>LinearRegression()</pre></div></div></div></div></div>"
      ],
      "text/plain": [
       "LinearRegression()"
      ]
     },
     "execution_count": 27,
     "metadata": {},
     "output_type": "execute_result"
    }
   ],
   "source": [
    "# Training data is used for model building\n",
    "ln.fit(x_train,y_train)"
   ]
  },
  {
   "cell_type": "code",
   "execution_count": 28,
   "id": "b902781f",
   "metadata": {},
   "outputs": [],
   "source": [
    "#testing data used for prediction\n",
    "predicted_test=ln.predict(x_test)"
   ]
  },
  {
   "cell_type": "code",
   "execution_count": 29,
   "id": "4b34863b",
   "metadata": {},
   "outputs": [
    {
     "data": {
      "text/plain": [
       "array([ 8712.73575463,  8958.27931412, 30967.52320772,  8255.84752393,\n",
       "        8272.94696806,  8484.29163928,  8501.39108342,  8272.94696806,\n",
       "        8272.94696806,  8255.84752393,  8501.39108342,  8272.94696806,\n",
       "        8729.83519877,  8958.27931412, 30967.52320772,  8958.27931412,\n",
       "        8255.84752393,  8484.29163928,  8255.84752393, 31195.96732307,\n",
       "       30967.52320772,  8272.94696806,  8501.39108342, 31669.95499791,\n",
       "        8941.17986999,  8484.29163928,  8501.39108342,  8958.27931412,\n",
       "        8958.27931412,  8255.84752393,  8272.94696806, 31652.85555377,\n",
       "        8712.73575463,  8712.73575463, 31213.06676721,  8501.39108342,\n",
       "        8941.17986999, 31424.41143842, 30984.62265185,  8729.83519877,\n",
       "        8501.39108342,  8941.17986999, 31195.96732307, 30967.52320772,\n",
       "       31669.95499791,  8272.94696806,  8958.27931412,  8255.84752393,\n",
       "        8501.39108342,  8958.27931412,  8501.39108342,  8272.94696806,\n",
       "       31424.41143842, 31213.06676721,  8958.27931412,  8484.29163928,\n",
       "        8941.17986999,  8255.84752393,  8941.17986999,  8255.84752393,\n",
       "        8712.73575463, 30967.52320772,  8941.17986999,  8712.73575463,\n",
       "        8484.29163928,  8729.83519877, 31652.85555377, 30967.52320772,\n",
       "        8958.27931412,  8255.84752393,  8729.83519877,  8941.17986999,\n",
       "       31424.41143842,  8958.27931412,  8272.94696806,  8501.39108342,\n",
       "        8712.73575463,  8941.17986999, 31213.06676721, 31424.41143842,\n",
       "        8501.39108342, 31669.95499791,  8255.84752393,  8712.73575463,\n",
       "       31195.96732307, 31652.85555377,  8729.83519877,  8255.84752393,\n",
       "        8712.73575463, 31424.41143842,  8501.39108342,  8712.73575463,\n",
       "        8501.39108342,  8958.27931412,  8484.29163928,  8501.39108342,\n",
       "       31195.96732307, 31424.41143842,  8272.94696806,  8712.73575463,\n",
       "        8941.17986999,  8255.84752393,  8958.27931412, 31652.85555377,\n",
       "       30967.52320772,  8272.94696806,  8712.73575463,  8272.94696806,\n",
       "        8484.29163928, 31424.41143842,  8272.94696806,  8941.17986999,\n",
       "        8272.94696806, 31195.96732307, 31652.85555377,  8484.29163928,\n",
       "        8712.73575463,  8712.73575463,  8712.73575463,  8255.84752393,\n",
       "       31652.85555377,  8272.94696806,  8729.83519877,  8484.29163928,\n",
       "        8729.83519877,  8272.94696806, 31213.06676721, 30967.52320772,\n",
       "       31424.41143842,  8255.84752393,  8958.27931412,  8941.17986999,\n",
       "        8958.27931412,  8484.29163928, 31424.41143842, 31424.41143842,\n",
       "       31652.85555377,  8958.27931412, 31669.95499791,  8255.84752393,\n",
       "        8272.94696806,  8255.84752393,  8941.17986999,  8484.29163928,\n",
       "        8255.84752393,  8958.27931412,  8958.27931412,  8272.94696806,\n",
       "        8255.84752393,  8484.29163928,  8501.39108342, 31652.85555377,\n",
       "        8484.29163928,  8941.17986999,  8272.94696806,  8958.27931412,\n",
       "        8255.84752393,  8941.17986999,  8272.94696806,  8272.94696806,\n",
       "        8484.29163928,  8941.17986999,  8272.94696806,  8712.73575463,\n",
       "        8501.39108342,  8484.29163928, 31441.51088256,  8501.39108342,\n",
       "        8484.29163928,  8958.27931412,  8255.84752393,  8484.29163928,\n",
       "        8272.94696806,  8941.17986999,  8712.73575463,  8941.17986999,\n",
       "        8484.29163928,  8255.84752393, 31195.96732307,  8484.29163928,\n",
       "        8272.94696806,  8255.84752393,  8255.84752393,  8941.17986999,\n",
       "        8484.29163928, 31195.96732307,  8484.29163928,  8729.83519877,\n",
       "        8272.94696806,  8501.39108342, 31195.96732307,  8958.27931412,\n",
       "        8729.83519877, 31652.85555377,  8255.84752393,  8712.73575463,\n",
       "        8484.29163928,  8501.39108342,  8941.17986999,  8255.84752393,\n",
       "        8501.39108342, 31652.85555377,  8272.94696806, 31424.41143842,\n",
       "        8255.84752393, 31669.95499791,  8484.29163928,  8941.17986999,\n",
       "        8958.27931412,  8941.17986999,  8255.84752393,  8501.39108342,\n",
       "        8272.94696806,  8729.83519877,  8712.73575463,  8712.73575463,\n",
       "        8484.29163928,  8501.39108342,  8958.27931412,  8501.39108342,\n",
       "        8729.83519877,  8501.39108342,  8729.83519877,  8501.39108342,\n",
       "        8729.83519877,  8255.84752393,  8958.27931412,  8729.83519877,\n",
       "        8941.17986999,  8941.17986999,  8941.17986999,  8484.29163928,\n",
       "        8958.27931412,  8501.39108342,  8958.27931412,  8712.73575463,\n",
       "        8501.39108342, 31195.96732307,  8484.29163928,  8501.39108342,\n",
       "        8729.83519877, 30967.52320772,  8729.83519877,  8501.39108342,\n",
       "        8255.84752393,  8255.84752393,  8484.29163928,  8272.94696806,\n",
       "        8501.39108342,  8484.29163928, 31669.95499791, 31441.51088256,\n",
       "        8729.83519877,  8958.27931412,  8501.39108342,  8484.29163928,\n",
       "        8712.73575463,  8958.27931412,  8255.84752393,  8958.27931412,\n",
       "        8941.17986999, 31441.51088256, 31195.96732307,  8272.94696806,\n",
       "        8255.84752393,  8484.29163928, 31669.95499791,  8484.29163928,\n",
       "       31424.41143842,  8941.17986999, 31213.06676721,  8712.73575463,\n",
       "        8501.39108342,  8272.94696806, 31652.85555377,  8501.39108342,\n",
       "        8941.17986999,  8941.17986999,  8255.84752393,  8729.83519877,\n",
       "        8272.94696806,  8255.84752393,  8484.29163928,  8501.39108342,\n",
       "        8484.29163928,  8712.73575463,  8958.27931412, 31213.06676721,\n",
       "        8941.17986999,  8484.29163928,  8255.84752393, 31213.06676721,\n",
       "        8484.29163928,  8272.94696806,  8272.94696806,  8501.39108342,\n",
       "       31441.51088256,  8729.83519877,  8712.73575463,  8712.73575463,\n",
       "        8255.84752393,  8941.17986999, 31213.06676721, 31669.95499791,\n",
       "        8958.27931412,  8484.29163928,  8958.27931412,  8712.73575463,\n",
       "        8484.29163928, 31213.06676721, 30967.52320772,  8729.83519877,\n",
       "       30984.62265185,  8272.94696806,  8941.17986999,  8941.17986999,\n",
       "        8501.39108342,  8941.17986999,  8484.29163928, 30984.62265185,\n",
       "        8501.39108342,  8501.39108342,  8272.94696806,  8958.27931412,\n",
       "        8958.27931412,  8958.27931412, 31441.51088256, 30967.52320772,\n",
       "        8484.29163928, 31652.85555377,  8501.39108342,  8255.84752393,\n",
       "        8941.17986999,  8712.73575463, 30984.62265185,  8958.27931412,\n",
       "        8501.39108342,  8712.73575463, 31669.95499791,  8272.94696806,\n",
       "       31424.41143842,  8958.27931412,  8255.84752393, 31213.06676721,\n",
       "        8729.83519877,  8729.83519877, 31669.95499791,  8712.73575463,\n",
       "        8484.29163928,  8255.84752393,  8729.83519877,  8729.83519877,\n",
       "        8941.17986999,  8941.17986999, 31195.96732307,  8729.83519877,\n",
       "       30984.62265185, 31652.85555377,  8941.17986999,  8484.29163928,\n",
       "        8255.84752393,  8729.83519877,  8272.94696806,  8255.84752393,\n",
       "       31652.85555377,  8712.73575463,  8729.83519877,  8484.29163928,\n",
       "        8272.94696806,  8729.83519877,  8484.29163928,  8941.17986999,\n",
       "        8941.17986999, 30967.52320772,  8484.29163928,  8958.27931412,\n",
       "       31652.85555377,  8941.17986999, 31424.41143842,  8712.73575463,\n",
       "        8255.84752393,  8255.84752393,  8272.94696806,  8729.83519877,\n",
       "        8712.73575463,  8501.39108342,  8501.39108342,  8729.83519877,\n",
       "        8712.73575463,  8501.39108342,  8272.94696806, 31424.41143842,\n",
       "        8255.84752393,  8729.83519877,  8958.27931412,  8501.39108342,\n",
       "        8712.73575463,  8712.73575463, 31424.41143842,  8941.17986999,\n",
       "        8941.17986999,  8729.83519877])"
      ]
     },
     "execution_count": 29,
     "metadata": {},
     "output_type": "execute_result"
    }
   ],
   "source": [
    "predicted_test"
   ]
  },
  {
   "cell_type": "code",
   "execution_count": 30,
   "id": "cb7f6530",
   "metadata": {},
   "outputs": [
    {
     "data": {
      "text/plain": [
       "578      9724.53000\n",
       "610      8547.69130\n",
       "569     45702.02235\n",
       "1034    12950.07120\n",
       "198      9644.25250\n",
       "           ...     \n",
       "1261     3277.16100\n",
       "494     17942.10600\n",
       "97      10226.28420\n",
       "418     14418.28040\n",
       "920     13451.12200\n",
       "Name: charges, Length: 402, dtype: float64"
      ]
     },
     "execution_count": 30,
     "metadata": {},
     "output_type": "execute_result"
    }
   ],
   "source": [
    "\n",
    "y_test"
   ]
  },
  {
   "cell_type": "markdown",
   "id": "2590c701",
   "metadata": {},
   "source": [
    "# accuracy"
   ]
  },
  {
   "cell_type": "code",
   "execution_count": 31,
   "id": "46590a7e",
   "metadata": {},
   "outputs": [],
   "source": [
    "#importing linbrary for calculating accuracy\n",
    "from sklearn.metrics import mean_squared_error,r2_score"
   ]
  },
  {
   "cell_type": "code",
   "execution_count": 32,
   "id": "e86d4cdd",
   "metadata": {},
   "outputs": [],
   "source": [
    "accuracy=r2_score(y_test,predicted_test)"
   ]
  },
  {
   "cell_type": "code",
   "execution_count": 33,
   "id": "66e44d78",
   "metadata": {},
   "outputs": [
    {
     "data": {
      "text/plain": [
       "0.6709018281016002"
      ]
     },
     "execution_count": 33,
     "metadata": {},
     "output_type": "execute_result"
    }
   ],
   "source": [
    "accuracy"
   ]
  },
  {
   "cell_type": "code",
   "execution_count": 34,
   "id": "ac80c015",
   "metadata": {},
   "outputs": [],
   "source": [
    "mean=mean_squared_error(y_test,predicted_test)"
   ]
  },
  {
   "cell_type": "code",
   "execution_count": 35,
   "id": "d72da505",
   "metadata": {},
   "outputs": [
    {
     "data": {
      "text/plain": [
       "52481109.44118427"
      ]
     },
     "execution_count": 35,
     "metadata": {},
     "output_type": "execute_result"
    }
   ],
   "source": [
    "mean"
   ]
  },
  {
   "cell_type": "markdown",
   "id": "285d8794",
   "metadata": {},
   "source": [
    "#  Decision tree\n",
    "A decision tree is a non-parametric supervised learning algorithm for classification and regression tasks. It has a hierarchical tree structure consisting of a root node, branches, internal nodes, and leaf nodes. Decision trees are used for classification and regression tasks, providing easy-to-understand models"
   ]
  },
  {
   "cell_type": "code",
   "execution_count": 36,
   "id": "47c98f3a",
   "metadata": {},
   "outputs": [
    {
     "data": {
      "text/html": [
       "<div>\n",
       "<style scoped>\n",
       "    .dataframe tbody tr th:only-of-type {\n",
       "        vertical-align: middle;\n",
       "    }\n",
       "\n",
       "    .dataframe tbody tr th {\n",
       "        vertical-align: top;\n",
       "    }\n",
       "\n",
       "    .dataframe thead th {\n",
       "        text-align: right;\n",
       "    }\n",
       "</style>\n",
       "<table border=\"1\" class=\"dataframe\">\n",
       "  <thead>\n",
       "    <tr style=\"text-align: right;\">\n",
       "      <th></th>\n",
       "      <th>sex</th>\n",
       "      <th>smoker</th>\n",
       "      <th>region</th>\n",
       "    </tr>\n",
       "  </thead>\n",
       "  <tbody>\n",
       "    <tr>\n",
       "      <th>0</th>\n",
       "      <td>1</td>\n",
       "      <td>0</td>\n",
       "      <td>1</td>\n",
       "    </tr>\n",
       "    <tr>\n",
       "      <th>1</th>\n",
       "      <td>0</td>\n",
       "      <td>1</td>\n",
       "      <td>0</td>\n",
       "    </tr>\n",
       "    <tr>\n",
       "      <th>2</th>\n",
       "      <td>0</td>\n",
       "      <td>1</td>\n",
       "      <td>0</td>\n",
       "    </tr>\n",
       "    <tr>\n",
       "      <th>3</th>\n",
       "      <td>0</td>\n",
       "      <td>1</td>\n",
       "      <td>3</td>\n",
       "    </tr>\n",
       "    <tr>\n",
       "      <th>4</th>\n",
       "      <td>0</td>\n",
       "      <td>1</td>\n",
       "      <td>3</td>\n",
       "    </tr>\n",
       "    <tr>\n",
       "      <th>...</th>\n",
       "      <td>...</td>\n",
       "      <td>...</td>\n",
       "      <td>...</td>\n",
       "    </tr>\n",
       "    <tr>\n",
       "      <th>1333</th>\n",
       "      <td>0</td>\n",
       "      <td>1</td>\n",
       "      <td>3</td>\n",
       "    </tr>\n",
       "    <tr>\n",
       "      <th>1334</th>\n",
       "      <td>1</td>\n",
       "      <td>1</td>\n",
       "      <td>2</td>\n",
       "    </tr>\n",
       "    <tr>\n",
       "      <th>1335</th>\n",
       "      <td>1</td>\n",
       "      <td>1</td>\n",
       "      <td>0</td>\n",
       "    </tr>\n",
       "    <tr>\n",
       "      <th>1336</th>\n",
       "      <td>1</td>\n",
       "      <td>1</td>\n",
       "      <td>1</td>\n",
       "    </tr>\n",
       "    <tr>\n",
       "      <th>1337</th>\n",
       "      <td>1</td>\n",
       "      <td>0</td>\n",
       "      <td>3</td>\n",
       "    </tr>\n",
       "  </tbody>\n",
       "</table>\n",
       "<p>1338 rows × 3 columns</p>\n",
       "</div>"
      ],
      "text/plain": [
       "      sex  smoker  region\n",
       "0       1       0       1\n",
       "1       0       1       0\n",
       "2       0       1       0\n",
       "3       0       1       3\n",
       "4       0       1       3\n",
       "...   ...     ...     ...\n",
       "1333    0       1       3\n",
       "1334    1       1       2\n",
       "1335    1       1       0\n",
       "1336    1       1       1\n",
       "1337    1       0       3\n",
       "\n",
       "[1338 rows x 3 columns]"
      ]
     },
     "execution_count": 36,
     "metadata": {},
     "output_type": "execute_result"
    }
   ],
   "source": [
    "x"
   ]
  },
  {
   "cell_type": "code",
   "execution_count": 37,
   "id": "8854bed1",
   "metadata": {},
   "outputs": [
    {
     "data": {
      "text/plain": [
       "0       16884.92400\n",
       "1        1725.55230\n",
       "2        4449.46200\n",
       "3       21984.47061\n",
       "4        3866.85520\n",
       "           ...     \n",
       "1333    10600.54830\n",
       "1334     2205.98080\n",
       "1335     1629.83350\n",
       "1336     2007.94500\n",
       "1337    29141.36030\n",
       "Name: charges, Length: 1338, dtype: float64"
      ]
     },
     "execution_count": 37,
     "metadata": {},
     "output_type": "execute_result"
    }
   ],
   "source": [
    "y"
   ]
  },
  {
   "cell_type": "code",
   "execution_count": 38,
   "id": "6c877b6a",
   "metadata": {},
   "outputs": [],
   "source": [
    "#spliting the data\n",
    "x1train,x1test,y1train,y1test=train_test_split(x,y,test_size=0.3,random_state=40)"
   ]
  },
  {
   "cell_type": "code",
   "execution_count": 39,
   "id": "6e38769e",
   "metadata": {},
   "outputs": [],
   "source": [
    "#importing the library  decisiontreeregressor\n",
    "from sklearn.tree  import DecisionTreeRegressor"
   ]
  },
  {
   "cell_type": "code",
   "execution_count": 40,
   "id": "d46f6d2d",
   "metadata": {},
   "outputs": [],
   "source": [
    "dc=DecisionTreeRegressor()"
   ]
  },
  {
   "cell_type": "code",
   "execution_count": 41,
   "id": "5a679e7c",
   "metadata": {},
   "outputs": [
    {
     "data": {
      "text/html": [
       "<style>#sk-container-id-2 {color: black;background-color: white;}#sk-container-id-2 pre{padding: 0;}#sk-container-id-2 div.sk-toggleable {background-color: white;}#sk-container-id-2 label.sk-toggleable__label {cursor: pointer;display: block;width: 100%;margin-bottom: 0;padding: 0.3em;box-sizing: border-box;text-align: center;}#sk-container-id-2 label.sk-toggleable__label-arrow:before {content: \"▸\";float: left;margin-right: 0.25em;color: #696969;}#sk-container-id-2 label.sk-toggleable__label-arrow:hover:before {color: black;}#sk-container-id-2 div.sk-estimator:hover label.sk-toggleable__label-arrow:before {color: black;}#sk-container-id-2 div.sk-toggleable__content {max-height: 0;max-width: 0;overflow: hidden;text-align: left;background-color: #f0f8ff;}#sk-container-id-2 div.sk-toggleable__content pre {margin: 0.2em;color: black;border-radius: 0.25em;background-color: #f0f8ff;}#sk-container-id-2 input.sk-toggleable__control:checked~div.sk-toggleable__content {max-height: 200px;max-width: 100%;overflow: auto;}#sk-container-id-2 input.sk-toggleable__control:checked~label.sk-toggleable__label-arrow:before {content: \"▾\";}#sk-container-id-2 div.sk-estimator input.sk-toggleable__control:checked~label.sk-toggleable__label {background-color: #d4ebff;}#sk-container-id-2 div.sk-label input.sk-toggleable__control:checked~label.sk-toggleable__label {background-color: #d4ebff;}#sk-container-id-2 input.sk-hidden--visually {border: 0;clip: rect(1px 1px 1px 1px);clip: rect(1px, 1px, 1px, 1px);height: 1px;margin: -1px;overflow: hidden;padding: 0;position: absolute;width: 1px;}#sk-container-id-2 div.sk-estimator {font-family: monospace;background-color: #f0f8ff;border: 1px dotted black;border-radius: 0.25em;box-sizing: border-box;margin-bottom: 0.5em;}#sk-container-id-2 div.sk-estimator:hover {background-color: #d4ebff;}#sk-container-id-2 div.sk-parallel-item::after {content: \"\";width: 100%;border-bottom: 1px solid gray;flex-grow: 1;}#sk-container-id-2 div.sk-label:hover label.sk-toggleable__label {background-color: #d4ebff;}#sk-container-id-2 div.sk-serial::before {content: \"\";position: absolute;border-left: 1px solid gray;box-sizing: border-box;top: 0;bottom: 0;left: 50%;z-index: 0;}#sk-container-id-2 div.sk-serial {display: flex;flex-direction: column;align-items: center;background-color: white;padding-right: 0.2em;padding-left: 0.2em;position: relative;}#sk-container-id-2 div.sk-item {position: relative;z-index: 1;}#sk-container-id-2 div.sk-parallel {display: flex;align-items: stretch;justify-content: center;background-color: white;position: relative;}#sk-container-id-2 div.sk-item::before, #sk-container-id-2 div.sk-parallel-item::before {content: \"\";position: absolute;border-left: 1px solid gray;box-sizing: border-box;top: 0;bottom: 0;left: 50%;z-index: -1;}#sk-container-id-2 div.sk-parallel-item {display: flex;flex-direction: column;z-index: 1;position: relative;background-color: white;}#sk-container-id-2 div.sk-parallel-item:first-child::after {align-self: flex-end;width: 50%;}#sk-container-id-2 div.sk-parallel-item:last-child::after {align-self: flex-start;width: 50%;}#sk-container-id-2 div.sk-parallel-item:only-child::after {width: 0;}#sk-container-id-2 div.sk-dashed-wrapped {border: 1px dashed gray;margin: 0 0.4em 0.5em 0.4em;box-sizing: border-box;padding-bottom: 0.4em;background-color: white;}#sk-container-id-2 div.sk-label label {font-family: monospace;font-weight: bold;display: inline-block;line-height: 1.2em;}#sk-container-id-2 div.sk-label-container {text-align: center;}#sk-container-id-2 div.sk-container {/* jupyter's `normalize.less` sets `[hidden] { display: none; }` but bootstrap.min.css set `[hidden] { display: none !important; }` so we also need the `!important` here to be able to override the default hidden behavior on the sphinx rendered scikit-learn.org. See: https://github.com/scikit-learn/scikit-learn/issues/21755 */display: inline-block !important;position: relative;}#sk-container-id-2 div.sk-text-repr-fallback {display: none;}</style><div id=\"sk-container-id-2\" class=\"sk-top-container\"><div class=\"sk-text-repr-fallback\"><pre>DecisionTreeRegressor()</pre><b>In a Jupyter environment, please rerun this cell to show the HTML representation or trust the notebook. <br />On GitHub, the HTML representation is unable to render, please try loading this page with nbviewer.org.</b></div><div class=\"sk-container\" hidden><div class=\"sk-item\"><div class=\"sk-estimator sk-toggleable\"><input class=\"sk-toggleable__control sk-hidden--visually\" id=\"sk-estimator-id-2\" type=\"checkbox\" checked><label for=\"sk-estimator-id-2\" class=\"sk-toggleable__label sk-toggleable__label-arrow\">DecisionTreeRegressor</label><div class=\"sk-toggleable__content\"><pre>DecisionTreeRegressor()</pre></div></div></div></div></div>"
      ],
      "text/plain": [
       "DecisionTreeRegressor()"
      ]
     },
     "execution_count": 41,
     "metadata": {},
     "output_type": "execute_result"
    }
   ],
   "source": [
    "dc.fit(x1train,y1train)"
   ]
  },
  {
   "cell_type": "code",
   "execution_count": 42,
   "id": "9e95bbc5",
   "metadata": {},
   "outputs": [],
   "source": [
    "\n",
    "prd1=dc.predict(x1test)"
   ]
  },
  {
   "cell_type": "code",
   "execution_count": 43,
   "id": "53e74835",
   "metadata": {},
   "outputs": [
    {
     "data": {
      "text/plain": [
       "array([ 9324.98813389, 37372.39548541,  8085.45131969,  8101.14012   ,\n",
       "       27569.5364619 ,  9241.95021121,  9241.95021121, 31823.39325   ,\n",
       "        7398.49759589, 30922.30645955, 32277.350556  ,  8101.14012   ,\n",
       "        8652.23152391,  8027.08319585,  8085.45131969,  8027.08319585,\n",
       "        8101.14012   , 27569.5364619 , 31048.20014885,  8652.23152391,\n",
       "        9324.98813389,  8085.45131969,  8101.14012   , 37372.39548541,\n",
       "        8085.45131969, 31823.39325   ,  8444.56073815,  8101.14012   ,\n",
       "        7398.49759589,  7398.49759589, 27569.5364619 ,  8444.56073815,\n",
       "       30839.42628444, 30839.42628444, 31823.39325   ,  9241.95021121,\n",
       "        8085.45131969,  8085.45131969,  7398.49759589,  7398.49759589,\n",
       "        8085.45131969,  8027.08319585,  8101.14012   ,  9241.95021121,\n",
       "        8085.45131969,  8652.23152391,  9241.95021121, 30922.30645955,\n",
       "        8027.08319585,  8444.56073815,  8101.14012   , 31048.20014885,\n",
       "        8027.08319585,  8652.23152391,  8444.56073815,  8652.23152391,\n",
       "        8101.14012   ,  9324.98813389,  8085.45131969,  9241.95021121,\n",
       "        8085.45131969,  7398.49759589,  8444.56073815,  7398.49759589,\n",
       "        9241.95021121,  7398.49759589,  8027.08319585,  8101.14012   ,\n",
       "        9324.98813389, 37372.39548541,  8085.45131969,  8444.56073815,\n",
       "        8027.08319585,  8085.45131969,  8027.08319585,  8444.56073815,\n",
       "        8085.45131969,  8444.56073815,  8101.14012   ,  7398.49759589,\n",
       "        8444.56073815, 27569.5364619 , 30839.42628444,  8085.45131969,\n",
       "       31048.20014885, 37372.39548541,  8101.14012   ,  8085.45131969,\n",
       "        9241.95021121, 30839.42628444, 37372.39548541,  8101.14012   ,\n",
       "        8652.23152391,  8027.08319585,  9324.98813389,  8652.23152391,\n",
       "       30839.42628444,  8101.14012   ,  8027.08319585,  8444.56073815,\n",
       "        9241.95021121, 31823.39325   ,  8085.45131969,  8101.14012   ,\n",
       "        7398.49759589, 31048.20014885,  8085.45131969,  8085.45131969,\n",
       "        9241.95021121,  9324.98813389,  8101.14012   ,  8444.56073815,\n",
       "        9324.98813389, 37372.39548541,  9324.98813389,  7398.49759589,\n",
       "       30922.30645955,  9241.95021121,  9324.98813389,  8027.08319585,\n",
       "        8027.08319585,  8101.14012   ,  8101.14012   ,  7398.49759589,\n",
       "       33593.81129588, 31823.39325   ,  7398.49759589,  8652.23152391,\n",
       "        9241.95021121,  8101.14012   ,  8101.14012   , 31823.39325   ,\n",
       "       37372.39548541,  8085.45131969,  9324.98813389,  9324.98813389,\n",
       "        8444.56073815,  8085.45131969,  8652.23152391,  9241.95021121,\n",
       "       27569.5364619 ,  9241.95021121,  8444.56073815, 27569.5364619 ,\n",
       "        8085.45131969,  9324.98813389, 31823.39325   , 37372.39548541,\n",
       "        8101.14012   ,  8027.08319585,  9324.98813389,  8101.14012   ,\n",
       "        8101.14012   ,  8101.14012   ,  8444.56073815,  8085.45131969,\n",
       "        9241.95021121,  8085.45131969,  8652.23152391,  8027.08319585,\n",
       "        8444.56073815, 31048.20014885,  9324.98813389,  8101.14012   ,\n",
       "        9324.98813389,  8652.23152391,  9324.98813389,  9241.95021121,\n",
       "        9241.95021121,  9324.98813389,  8027.08319585,  8085.45131969,\n",
       "        8027.08319585,  7398.49759589,  9324.98813389,  8444.56073815,\n",
       "        8652.23152391,  8444.56073815, 32277.350556  ,  9241.95021121,\n",
       "        8101.14012   ,  8652.23152391,  9241.95021121,  8027.08319585,\n",
       "        8085.45131969, 31048.20014885,  9324.98813389, 37372.39548541,\n",
       "        8652.23152391,  8444.56073815,  9324.98813389,  8101.14012   ,\n",
       "        7398.49759589,  9241.95021121, 27569.5364619 ,  8101.14012   ,\n",
       "        8027.08319585,  9241.95021121,  8027.08319585,  9324.98813389,\n",
       "        8444.56073815,  8101.14012   ,  8444.56073815,  8085.45131969,\n",
       "        9241.95021121, 31048.20014885, 31048.20014885,  9324.98813389,\n",
       "        7398.49759589,  8652.23152391,  8027.08319585,  9324.98813389,\n",
       "        9241.95021121,  9324.98813389, 30839.42628444,  9241.95021121,\n",
       "       33593.81129588, 37372.39548541,  9324.98813389,  9241.95021121,\n",
       "        8652.23152391,  9241.95021121, 32277.350556  ,  8027.08319585,\n",
       "        8027.08319585,  9241.95021121, 37372.39548541,  8027.08319585,\n",
       "        8444.56073815,  8085.45131969,  7398.49759589,  8085.45131969,\n",
       "        8027.08319585,  7398.49759589,  9241.95021121, 32277.350556  ,\n",
       "        8101.14012   ,  9324.98813389,  8085.45131969,  8652.23152391,\n",
       "        8444.56073815,  9241.95021121,  9324.98813389,  8085.45131969,\n",
       "        8444.56073815,  7398.49759589, 31823.39325   ,  9324.98813389,\n",
       "        8444.56073815,  9324.98813389,  8101.14012   ,  9241.95021121,\n",
       "       32277.350556  , 30839.42628444,  7398.49759589, 30922.30645955,\n",
       "       30922.30645955,  8101.14012   ,  9241.95021121,  8444.56073815,\n",
       "        8652.23152391,  9324.98813389,  8027.08319585,  8101.14012   ,\n",
       "        8085.45131969,  9241.95021121,  8027.08319585, 31823.39325   ,\n",
       "        7398.49759589,  8652.23152391,  8085.45131969,  8085.45131969,\n",
       "       31823.39325   ,  8027.08319585,  8444.56073815,  9324.98813389,\n",
       "        8085.45131969,  8027.08319585,  8444.56073815,  9241.95021121,\n",
       "        8101.14012   ,  8085.45131969,  9241.95021121,  9241.95021121,\n",
       "        7398.49759589,  9324.98813389, 37372.39548541,  7398.49759589,\n",
       "        8652.23152391, 37372.39548541, 31823.39325   , 30839.42628444,\n",
       "        7398.49759589,  9241.95021121,  8027.08319585,  9324.98813389,\n",
       "        9324.98813389, 30922.30645955,  8027.08319585, 37372.39548541,\n",
       "       27569.5364619 ,  8085.45131969,  8085.45131969,  8027.08319585,\n",
       "        8652.23152391,  9241.95021121,  8027.08319585,  8652.23152391,\n",
       "        8444.56073815, 31048.20014885,  7398.49759589, 37372.39548541,\n",
       "        8101.14012   ,  8101.14012   ,  7398.49759589,  8027.08319585,\n",
       "        8444.56073815,  8652.23152391, 30839.42628444,  7398.49759589,\n",
       "        9241.95021121,  8444.56073815,  8027.08319585,  8444.56073815,\n",
       "        7398.49759589,  7398.49759589,  8101.14012   ,  7398.49759589,\n",
       "        9324.98813389, 31823.39325   ,  8652.23152391,  8652.23152391,\n",
       "        8444.56073815,  8444.56073815,  7398.49759589,  7398.49759589,\n",
       "        9324.98813389,  8652.23152391,  7398.49759589,  8101.14012   ,\n",
       "        8085.45131969,  8652.23152391,  8444.56073815,  8101.14012   ,\n",
       "        8101.14012   ,  7398.49759589,  8085.45131969, 33593.81129588,\n",
       "        9324.98813389,  9324.98813389, 33593.81129588,  8101.14012   ,\n",
       "       30839.42628444, 31823.39325   ,  8652.23152391,  8444.56073815,\n",
       "        8652.23152391,  8101.14012   ,  8444.56073815, 31048.20014885,\n",
       "        8652.23152391,  8085.45131969,  8101.14012   ,  9324.98813389,\n",
       "        8444.56073815,  7398.49759589,  9324.98813389,  8444.56073815,\n",
       "        9241.95021121,  8101.14012   , 31048.20014885, 30839.42628444,\n",
       "       37372.39548541,  8027.08319585,  9324.98813389,  8444.56073815,\n",
       "        8652.23152391,  7398.49759589, 37372.39548541, 32277.350556  ,\n",
       "        8027.08319585,  8085.45131969,  8652.23152391,  8444.56073815,\n",
       "        8444.56073815,  8444.56073815,  8085.45131969,  9324.98813389,\n",
       "        8101.14012   ,  9324.98813389,  9241.95021121,  8027.08319585,\n",
       "        8444.56073815, 31823.39325   ,  8652.23152391,  9241.95021121,\n",
       "       37372.39548541,  9324.98813389,  8027.08319585, 30922.30645955,\n",
       "        8085.45131969,  9241.95021121])"
      ]
     },
     "execution_count": 43,
     "metadata": {},
     "output_type": "execute_result"
    }
   ],
   "source": [
    "prd1"
   ]
  },
  {
   "cell_type": "code",
   "execution_count": 44,
   "id": "8813abec",
   "metadata": {},
   "outputs": [
    {
     "data": {
      "text/plain": [
       "1099     3227.12110\n",
       "759     36307.79830\n",
       "215      7371.77200\n",
       "903      8125.78450\n",
       "989     14571.89080\n",
       "           ...     \n",
       "571      2219.44510\n",
       "164      5028.14660\n",
       "331     24393.62240\n",
       "1253    15828.82173\n",
       "426      6555.07035\n",
       "Name: charges, Length: 402, dtype: float64"
      ]
     },
     "execution_count": 44,
     "metadata": {},
     "output_type": "execute_result"
    }
   ],
   "source": [
    "y1test"
   ]
  },
  {
   "cell_type": "code",
   "execution_count": 45,
   "id": "08ee9a52",
   "metadata": {},
   "outputs": [],
   "source": [
    "accuracy1=r2_score(y1test,prd1)"
   ]
  },
  {
   "cell_type": "code",
   "execution_count": 46,
   "id": "2344f654",
   "metadata": {},
   "outputs": [
    {
     "data": {
      "text/plain": [
       "0.584401003815038"
      ]
     },
     "execution_count": 46,
     "metadata": {},
     "output_type": "execute_result"
    }
   ],
   "source": [
    "accuracy1"
   ]
  },
  {
   "cell_type": "code",
   "execution_count": 47,
   "id": "1cd131ed",
   "metadata": {},
   "outputs": [],
   "source": [
    "mean1=mean_squared_error(y_test,prd1)"
   ]
  },
  {
   "cell_type": "code",
   "execution_count": 48,
   "id": "d01cf5b4",
   "metadata": {},
   "outputs": [
    {
     "data": {
      "text/plain": [
       "261802642.74281287"
      ]
     },
     "execution_count": 48,
     "metadata": {},
     "output_type": "execute_result"
    }
   ],
   "source": [
    "mean1"
   ]
  },
  {
   "cell_type": "markdown",
   "id": "6b287abf",
   "metadata": {},
   "source": [
    "# random forest\n",
    "Random Forest is a popular machine learning algorithm that belongs to the supervised learning technique. It can be used for both Classification and Regression problems in ML. It is based on the concept of ensemble learning, which is a process of combining multiple classifiers to solve a complex problem and to improve the performance of the model."
   ]
  },
  {
   "cell_type": "code",
   "execution_count": 49,
   "id": "eca570c8",
   "metadata": {},
   "outputs": [
    {
     "data": {
      "text/html": [
       "<div>\n",
       "<style scoped>\n",
       "    .dataframe tbody tr th:only-of-type {\n",
       "        vertical-align: middle;\n",
       "    }\n",
       "\n",
       "    .dataframe tbody tr th {\n",
       "        vertical-align: top;\n",
       "    }\n",
       "\n",
       "    .dataframe thead th {\n",
       "        text-align: right;\n",
       "    }\n",
       "</style>\n",
       "<table border=\"1\" class=\"dataframe\">\n",
       "  <thead>\n",
       "    <tr style=\"text-align: right;\">\n",
       "      <th></th>\n",
       "      <th>sex</th>\n",
       "      <th>smoker</th>\n",
       "      <th>region</th>\n",
       "    </tr>\n",
       "  </thead>\n",
       "  <tbody>\n",
       "    <tr>\n",
       "      <th>0</th>\n",
       "      <td>1</td>\n",
       "      <td>0</td>\n",
       "      <td>1</td>\n",
       "    </tr>\n",
       "    <tr>\n",
       "      <th>1</th>\n",
       "      <td>0</td>\n",
       "      <td>1</td>\n",
       "      <td>0</td>\n",
       "    </tr>\n",
       "    <tr>\n",
       "      <th>2</th>\n",
       "      <td>0</td>\n",
       "      <td>1</td>\n",
       "      <td>0</td>\n",
       "    </tr>\n",
       "    <tr>\n",
       "      <th>3</th>\n",
       "      <td>0</td>\n",
       "      <td>1</td>\n",
       "      <td>3</td>\n",
       "    </tr>\n",
       "    <tr>\n",
       "      <th>4</th>\n",
       "      <td>0</td>\n",
       "      <td>1</td>\n",
       "      <td>3</td>\n",
       "    </tr>\n",
       "    <tr>\n",
       "      <th>...</th>\n",
       "      <td>...</td>\n",
       "      <td>...</td>\n",
       "      <td>...</td>\n",
       "    </tr>\n",
       "    <tr>\n",
       "      <th>1333</th>\n",
       "      <td>0</td>\n",
       "      <td>1</td>\n",
       "      <td>3</td>\n",
       "    </tr>\n",
       "    <tr>\n",
       "      <th>1334</th>\n",
       "      <td>1</td>\n",
       "      <td>1</td>\n",
       "      <td>2</td>\n",
       "    </tr>\n",
       "    <tr>\n",
       "      <th>1335</th>\n",
       "      <td>1</td>\n",
       "      <td>1</td>\n",
       "      <td>0</td>\n",
       "    </tr>\n",
       "    <tr>\n",
       "      <th>1336</th>\n",
       "      <td>1</td>\n",
       "      <td>1</td>\n",
       "      <td>1</td>\n",
       "    </tr>\n",
       "    <tr>\n",
       "      <th>1337</th>\n",
       "      <td>1</td>\n",
       "      <td>0</td>\n",
       "      <td>3</td>\n",
       "    </tr>\n",
       "  </tbody>\n",
       "</table>\n",
       "<p>1338 rows × 3 columns</p>\n",
       "</div>"
      ],
      "text/plain": [
       "      sex  smoker  region\n",
       "0       1       0       1\n",
       "1       0       1       0\n",
       "2       0       1       0\n",
       "3       0       1       3\n",
       "4       0       1       3\n",
       "...   ...     ...     ...\n",
       "1333    0       1       3\n",
       "1334    1       1       2\n",
       "1335    1       1       0\n",
       "1336    1       1       1\n",
       "1337    1       0       3\n",
       "\n",
       "[1338 rows x 3 columns]"
      ]
     },
     "execution_count": 49,
     "metadata": {},
     "output_type": "execute_result"
    }
   ],
   "source": [
    "x"
   ]
  },
  {
   "cell_type": "code",
   "execution_count": 50,
   "id": "f1359b5d",
   "metadata": {},
   "outputs": [
    {
     "data": {
      "text/plain": [
       "0       16884.92400\n",
       "1        1725.55230\n",
       "2        4449.46200\n",
       "3       21984.47061\n",
       "4        3866.85520\n",
       "           ...     \n",
       "1333    10600.54830\n",
       "1334     2205.98080\n",
       "1335     1629.83350\n",
       "1336     2007.94500\n",
       "1337    29141.36030\n",
       "Name: charges, Length: 1338, dtype: float64"
      ]
     },
     "execution_count": 50,
     "metadata": {},
     "output_type": "execute_result"
    }
   ],
   "source": [
    "y"
   ]
  },
  {
   "cell_type": "code",
   "execution_count": 51,
   "id": "eed79f55",
   "metadata": {},
   "outputs": [],
   "source": [
    "#importing the library\n",
    "from sklearn.ensemble import RandomForestRegressor"
   ]
  },
  {
   "cell_type": "code",
   "execution_count": 52,
   "id": "2daa72f6",
   "metadata": {},
   "outputs": [],
   "source": [
    "#spliting the data\n",
    "x2train,x2test,y2train,y2test=train_test_split(x,y,test_size=0.3,random_state=45)"
   ]
  },
  {
   "cell_type": "code",
   "execution_count": 53,
   "id": "cd31c37f",
   "metadata": {},
   "outputs": [],
   "source": [
    "rd=RandomForestRegressor(n_estimators=40)"
   ]
  },
  {
   "cell_type": "code",
   "execution_count": 54,
   "id": "bb7f23b2",
   "metadata": {},
   "outputs": [
    {
     "data": {
      "text/html": [
       "<style>#sk-container-id-3 {color: black;background-color: white;}#sk-container-id-3 pre{padding: 0;}#sk-container-id-3 div.sk-toggleable {background-color: white;}#sk-container-id-3 label.sk-toggleable__label {cursor: pointer;display: block;width: 100%;margin-bottom: 0;padding: 0.3em;box-sizing: border-box;text-align: center;}#sk-container-id-3 label.sk-toggleable__label-arrow:before {content: \"▸\";float: left;margin-right: 0.25em;color: #696969;}#sk-container-id-3 label.sk-toggleable__label-arrow:hover:before {color: black;}#sk-container-id-3 div.sk-estimator:hover label.sk-toggleable__label-arrow:before {color: black;}#sk-container-id-3 div.sk-toggleable__content {max-height: 0;max-width: 0;overflow: hidden;text-align: left;background-color: #f0f8ff;}#sk-container-id-3 div.sk-toggleable__content pre {margin: 0.2em;color: black;border-radius: 0.25em;background-color: #f0f8ff;}#sk-container-id-3 input.sk-toggleable__control:checked~div.sk-toggleable__content {max-height: 200px;max-width: 100%;overflow: auto;}#sk-container-id-3 input.sk-toggleable__control:checked~label.sk-toggleable__label-arrow:before {content: \"▾\";}#sk-container-id-3 div.sk-estimator input.sk-toggleable__control:checked~label.sk-toggleable__label {background-color: #d4ebff;}#sk-container-id-3 div.sk-label input.sk-toggleable__control:checked~label.sk-toggleable__label {background-color: #d4ebff;}#sk-container-id-3 input.sk-hidden--visually {border: 0;clip: rect(1px 1px 1px 1px);clip: rect(1px, 1px, 1px, 1px);height: 1px;margin: -1px;overflow: hidden;padding: 0;position: absolute;width: 1px;}#sk-container-id-3 div.sk-estimator {font-family: monospace;background-color: #f0f8ff;border: 1px dotted black;border-radius: 0.25em;box-sizing: border-box;margin-bottom: 0.5em;}#sk-container-id-3 div.sk-estimator:hover {background-color: #d4ebff;}#sk-container-id-3 div.sk-parallel-item::after {content: \"\";width: 100%;border-bottom: 1px solid gray;flex-grow: 1;}#sk-container-id-3 div.sk-label:hover label.sk-toggleable__label {background-color: #d4ebff;}#sk-container-id-3 div.sk-serial::before {content: \"\";position: absolute;border-left: 1px solid gray;box-sizing: border-box;top: 0;bottom: 0;left: 50%;z-index: 0;}#sk-container-id-3 div.sk-serial {display: flex;flex-direction: column;align-items: center;background-color: white;padding-right: 0.2em;padding-left: 0.2em;position: relative;}#sk-container-id-3 div.sk-item {position: relative;z-index: 1;}#sk-container-id-3 div.sk-parallel {display: flex;align-items: stretch;justify-content: center;background-color: white;position: relative;}#sk-container-id-3 div.sk-item::before, #sk-container-id-3 div.sk-parallel-item::before {content: \"\";position: absolute;border-left: 1px solid gray;box-sizing: border-box;top: 0;bottom: 0;left: 50%;z-index: -1;}#sk-container-id-3 div.sk-parallel-item {display: flex;flex-direction: column;z-index: 1;position: relative;background-color: white;}#sk-container-id-3 div.sk-parallel-item:first-child::after {align-self: flex-end;width: 50%;}#sk-container-id-3 div.sk-parallel-item:last-child::after {align-self: flex-start;width: 50%;}#sk-container-id-3 div.sk-parallel-item:only-child::after {width: 0;}#sk-container-id-3 div.sk-dashed-wrapped {border: 1px dashed gray;margin: 0 0.4em 0.5em 0.4em;box-sizing: border-box;padding-bottom: 0.4em;background-color: white;}#sk-container-id-3 div.sk-label label {font-family: monospace;font-weight: bold;display: inline-block;line-height: 1.2em;}#sk-container-id-3 div.sk-label-container {text-align: center;}#sk-container-id-3 div.sk-container {/* jupyter's `normalize.less` sets `[hidden] { display: none; }` but bootstrap.min.css set `[hidden] { display: none !important; }` so we also need the `!important` here to be able to override the default hidden behavior on the sphinx rendered scikit-learn.org. See: https://github.com/scikit-learn/scikit-learn/issues/21755 */display: inline-block !important;position: relative;}#sk-container-id-3 div.sk-text-repr-fallback {display: none;}</style><div id=\"sk-container-id-3\" class=\"sk-top-container\"><div class=\"sk-text-repr-fallback\"><pre>RandomForestRegressor(n_estimators=40)</pre><b>In a Jupyter environment, please rerun this cell to show the HTML representation or trust the notebook. <br />On GitHub, the HTML representation is unable to render, please try loading this page with nbviewer.org.</b></div><div class=\"sk-container\" hidden><div class=\"sk-item\"><div class=\"sk-estimator sk-toggleable\"><input class=\"sk-toggleable__control sk-hidden--visually\" id=\"sk-estimator-id-3\" type=\"checkbox\" checked><label for=\"sk-estimator-id-3\" class=\"sk-toggleable__label sk-toggleable__label-arrow\">RandomForestRegressor</label><div class=\"sk-toggleable__content\"><pre>RandomForestRegressor(n_estimators=40)</pre></div></div></div></div></div>"
      ],
      "text/plain": [
       "RandomForestRegressor(n_estimators=40)"
      ]
     },
     "execution_count": 54,
     "metadata": {},
     "output_type": "execute_result"
    }
   ],
   "source": [
    "rd.fit(x2train,y2train)"
   ]
  },
  {
   "cell_type": "code",
   "execution_count": 55,
   "id": "53fab0fc",
   "metadata": {},
   "outputs": [],
   "source": [
    "prd2=rd.predict(x2test)"
   ]
  },
  {
   "cell_type": "code",
   "execution_count": 56,
   "id": "91c9e71a",
   "metadata": {},
   "outputs": [
    {
     "data": {
      "text/plain": [
       "array([ 8108.70964433,  8079.21036309, 31580.44694047,  8108.70964433,\n",
       "        8207.39473454,  9902.75384458,  9902.75384458,  7571.49453405,\n",
       "        8207.39473454, 33192.88068068,  9902.75384458,  9902.75384458,\n",
       "        8207.39473454,  8346.82227579,  8346.82227579,  7571.49453405,\n",
       "        8108.70964433,  9902.75384458,  7571.49453405,  7369.41699531,\n",
       "        8346.82227579, 26372.66859053,  9902.75384458, 31580.44694047,\n",
       "        7571.49453405,  8346.82227579, 37566.09812017,  9902.75384458,\n",
       "        9149.03384589,  9902.75384458,  8079.21036309,  8108.70964433,\n",
       "        8207.39473454,  8108.70964433,  8207.39473454,  9902.75384458,\n",
       "        7369.41699531,  9149.03384589, 31580.44694047,  8079.21036309,\n",
       "       32787.43016766,  9902.75384458,  9149.03384589,  8207.39473454,\n",
       "        8346.82227579,  7571.49453405,  7369.41699531,  9149.03384589,\n",
       "        8346.82227579,  9149.03384589,  8346.82227579, 26372.66859053,\n",
       "        9902.75384458,  8108.70964433,  7369.41699531,  9149.03384589,\n",
       "        7571.49453405,  9902.75384458,  7571.49453405,  8207.39473454,\n",
       "        8207.39473454,  9149.03384589,  9149.03384589,  7369.41699531,\n",
       "       30258.5737224 ,  9902.75384458, 37566.09812017,  9149.03384589,\n",
       "        9902.75384458, 31580.44694047,  8207.39473454,  8108.70964433,\n",
       "       34307.195393  ,  8079.21036309, 32787.43016766, 31336.00203508,\n",
       "        9902.75384458, 34307.195393  ,  8346.82227579,  8207.39473454,\n",
       "        8346.82227579,  7369.41699531,  8079.21036309,  7369.41699531,\n",
       "        8346.82227579,  8108.70964433, 26372.66859053,  8108.70964433,\n",
       "       34307.195393  ,  9149.03384589,  7571.49453405, 31580.44694047,\n",
       "        9149.03384589,  8346.82227579,  9902.75384458,  7571.49453405,\n",
       "        8207.39473454,  9149.03384589,  9149.03384589,  8207.39473454,\n",
       "        8108.70964433,  9149.03384589,  8346.82227579,  8108.70964433,\n",
       "        8207.39473454,  7571.49453405, 33192.88068068,  8079.21036309,\n",
       "        9149.03384589,  9149.03384589,  8207.39473454, 26372.66859053,\n",
       "        7571.49453405,  7571.49453405, 32787.43016766,  8346.82227579,\n",
       "        8207.39473454,  7571.49453405,  7571.49453405, 34307.195393  ,\n",
       "       26372.66859053,  7571.49453405,  8108.70964433, 37566.09812017,\n",
       "        7571.49453405,  9149.03384589,  7571.49453405,  9149.03384589,\n",
       "        8207.39473454,  8346.82227579, 34307.195393  , 30258.5737224 ,\n",
       "        7571.49453405,  8079.21036309,  9149.03384589,  7369.41699531,\n",
       "       30258.5737224 ,  8108.70964433, 37566.09812017,  9149.03384589,\n",
       "        7571.49453405,  8108.70964433, 31580.44694047,  9149.03384589,\n",
       "        8207.39473454,  7369.41699531,  7369.41699531,  8346.82227579,\n",
       "       31580.44694047,  7369.41699531,  7369.41699531,  9149.03384589,\n",
       "        7571.49453405,  8108.70964433,  8207.39473454,  8207.39473454,\n",
       "        8346.82227579,  7571.49453405,  7571.49453405, 34307.195393  ,\n",
       "        8079.21036309,  7571.49453405,  9149.03384589,  7369.41699531,\n",
       "        9902.75384458,  7571.49453405,  9902.75384458,  8346.82227579,\n",
       "       34307.195393  , 33192.88068068,  8079.21036309,  7369.41699531,\n",
       "        8346.82227579,  8346.82227579,  8108.70964433,  9902.75384458,\n",
       "        7369.41699531, 30258.5737224 ,  9149.03384589,  8346.82227579,\n",
       "        7571.49453405,  9902.75384458,  8079.21036309,  9149.03384589,\n",
       "        8079.21036309, 37566.09812017,  9902.75384458,  8108.70964433,\n",
       "        8079.21036309, 37566.09812017, 34307.195393  ,  8346.82227579,\n",
       "       32787.43016766,  7571.49453405, 30258.5737224 ,  7369.41699531,\n",
       "       34307.195393  , 31580.44694047,  9902.75384458,  8079.21036309,\n",
       "        7369.41699531,  7571.49453405, 31336.00203508,  7369.41699531,\n",
       "       37566.09812017,  8207.39473454,  8207.39473454, 30258.5737224 ,\n",
       "        9902.75384458,  9149.03384589,  8346.82227579, 31336.00203508,\n",
       "       34307.195393  , 37566.09812017,  9902.75384458,  8207.39473454,\n",
       "        7369.41699531, 30258.5737224 ,  8108.70964433,  8108.70964433,\n",
       "        8346.82227579,  7369.41699531,  8079.21036309,  8108.70964433,\n",
       "        7369.41699531, 31580.44694047,  9149.03384589,  8346.82227579,\n",
       "        8079.21036309,  8079.21036309,  7369.41699531,  8108.70964433,\n",
       "        9149.03384589,  8207.39473454,  8079.21036309,  8207.39473454,\n",
       "        7571.49453405, 26372.66859053,  7571.49453405,  8079.21036309,\n",
       "        8108.70964433, 33192.88068068,  8346.82227579,  9149.03384589,\n",
       "        7571.49453405,  7369.41699531,  8079.21036309,  8079.21036309,\n",
       "        8108.70964433,  8346.82227579,  8346.82227579,  8079.21036309,\n",
       "        9149.03384589,  9902.75384458,  9902.75384458,  9902.75384458,\n",
       "        7369.41699531,  9902.75384458, 37566.09812017,  8079.21036309,\n",
       "        8346.82227579,  7369.41699531,  8207.39473454,  7369.41699531,\n",
       "        8079.21036309,  8079.21036309,  9902.75384458,  8346.82227579,\n",
       "        8079.21036309,  7571.49453405,  8079.21036309, 32787.43016766,\n",
       "        8346.82227579,  8079.21036309,  9902.75384458,  8346.82227579,\n",
       "        7571.49453405,  8207.39473454,  8079.21036309,  8207.39473454,\n",
       "        9149.03384589,  8207.39473454,  8079.21036309,  8079.21036309,\n",
       "        8346.82227579,  7369.41699531, 31336.00203508,  8079.21036309,\n",
       "        7571.49453405,  8079.21036309, 30258.5737224 ,  8346.82227579,\n",
       "        8108.70964433,  8346.82227579,  8207.39473454, 34307.195393  ,\n",
       "        7571.49453405, 31336.00203508,  7369.41699531,  8079.21036309,\n",
       "        7369.41699531, 33192.88068068,  8346.82227579,  8079.21036309,\n",
       "        9149.03384589,  7571.49453405,  8346.82227579,  8207.39473454,\n",
       "        9149.03384589,  8207.39473454, 30258.5737224 , 37566.09812017,\n",
       "        9149.03384589,  7369.41699531,  9149.03384589,  9149.03384589,\n",
       "        7369.41699531,  8108.70964433,  9149.03384589, 37566.09812017,\n",
       "       30258.5737224 ,  8346.82227579,  8108.70964433, 37566.09812017,\n",
       "        8207.39473454,  8079.21036309,  7369.41699531, 33192.88068068,\n",
       "       26372.66859053,  7369.41699531,  8108.70964433,  8108.70964433,\n",
       "        8079.21036309,  8108.70964433,  7571.49453405,  9149.03384589,\n",
       "        8207.39473454, 31336.00203508,  8108.70964433,  9902.75384458,\n",
       "        8108.70964433,  9902.75384458,  7369.41699531,  7369.41699531,\n",
       "        8079.21036309,  8207.39473454,  8079.21036309,  8108.70964433,\n",
       "        7369.41699531,  9902.75384458,  8079.21036309,  7571.49453405,\n",
       "        8079.21036309,  8346.82227579,  8108.70964433,  9902.75384458,\n",
       "       32787.43016766,  7571.49453405,  9149.03384589,  8207.39473454,\n",
       "        7571.49453405,  7369.41699531,  9149.03384589,  9149.03384589,\n",
       "        7571.49453405,  9902.75384458,  7369.41699531, 31580.44694047,\n",
       "       33192.88068068,  9902.75384458,  8346.82227579,  7369.41699531,\n",
       "        8079.21036309,  8108.70964433,  8108.70964433,  8207.39473454,\n",
       "        7369.41699531,  8207.39473454,  8346.82227579, 34307.195393  ,\n",
       "        8346.82227579,  8079.21036309, 37566.09812017, 34307.195393  ,\n",
       "       34307.195393  ,  9149.03384589,  7369.41699531,  7571.49453405,\n",
       "       26372.66859053,  7571.49453405,  7571.49453405,  8346.82227579,\n",
       "        7369.41699531, 33192.88068068,  9902.75384458,  8207.39473454,\n",
       "       31336.00203508,  8346.82227579,  8346.82227579,  7571.49453405,\n",
       "        8346.82227579,  7571.49453405])"
      ]
     },
     "execution_count": 56,
     "metadata": {},
     "output_type": "execute_result"
    }
   ],
   "source": [
    "prd2"
   ]
  },
  {
   "cell_type": "code",
   "execution_count": 57,
   "id": "adf02333",
   "metadata": {},
   "outputs": [],
   "source": [
    "#finding the accuracy\n",
    "accuracy2=r2_score(y2test,prd2)"
   ]
  },
  {
   "cell_type": "code",
   "execution_count": 58,
   "id": "1b2db087",
   "metadata": {},
   "outputs": [
    {
     "data": {
      "text/plain": [
       "0.5350260797020803"
      ]
     },
     "execution_count": 58,
     "metadata": {},
     "output_type": "execute_result"
    }
   ],
   "source": [
    "accuracy2"
   ]
  },
  {
   "cell_type": "code",
   "execution_count": 59,
   "id": "03d24907",
   "metadata": {},
   "outputs": [],
   "source": [
    "mean2=mean_squared_error(y2test,prd2)"
   ]
  },
  {
   "cell_type": "code",
   "execution_count": 60,
   "id": "a15dab3f",
   "metadata": {},
   "outputs": [
    {
     "data": {
      "text/plain": [
       "56987554.4937551"
      ]
     },
     "execution_count": 60,
     "metadata": {},
     "output_type": "execute_result"
    }
   ],
   "source": [
    "mean2"
   ]
  },
  {
   "cell_type": "code",
   "execution_count": null,
   "id": "6c2a90a4",
   "metadata": {},
   "outputs": [],
   "source": []
  }
 ],
 "metadata": {
  "kernelspec": {
   "display_name": "Python 3 (ipykernel)",
   "language": "python",
   "name": "python3"
  },
  "language_info": {
   "codemirror_mode": {
    "name": "ipython",
    "version": 3
   },
   "file_extension": ".py",
   "mimetype": "text/x-python",
   "name": "python",
   "nbconvert_exporter": "python",
   "pygments_lexer": "ipython3",
   "version": "3.11.3"
  }
 },
 "nbformat": 4,
 "nbformat_minor": 5
}
